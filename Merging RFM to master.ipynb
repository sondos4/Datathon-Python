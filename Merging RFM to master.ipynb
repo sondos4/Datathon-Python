{
 "cells": [
  {
   "cell_type": "markdown",
   "metadata": {},
   "source": [
    "### In this notebook, we are merging the RFM1, RFM2, and RFM3 files with the master CSV to extract cluster information"
   ]
  },
  {
   "cell_type": "code",
   "execution_count": 1,
   "metadata": {
    "collapsed": true
   },
   "outputs": [],
   "source": [
    "import numpy as np\n",
    "import pandas as pd"
   ]
  },
  {
   "cell_type": "code",
   "execution_count": 4,
   "metadata": {},
   "outputs": [
    {
     "name": "stderr",
     "output_type": "stream",
     "text": [
      "/anaconda/envs/python3/lib/python3.5/site-packages/IPython/core/interactiveshell.py:2683: DtypeWarning: Columns (10,11,13,15,16,17,18,22,23,24,25,26,27,28,29,30) have mixed types. Specify dtype option on import or set low_memory=False.\n",
      "  interactivity=interactivity, compiler=compiler, result=result)\n"
     ]
    }
   ],
   "source": [
    "orig = pd.read_csv(\"Processed_CLIENT_ID_BRANCH_MASTERSUMMARYTABLEv2.0.csv\", header=0, encoding = \"ISO-8859-1\")"
   ]
  },
  {
   "cell_type": "code",
   "execution_count": 5,
   "metadata": {
    "collapsed": true
   },
   "outputs": [],
   "source": [
    "rfm1 = pd.read_csv(\"RFM_1.csv\", header=0, encoding = \"ISO-8859-1\")"
   ]
  },
  {
   "cell_type": "code",
   "execution_count": 300,
   "metadata": {
    "collapsed": true
   },
   "outputs": [],
   "source": [
    "rfm2 = pd.read_csv(\"RFM_2.csv\", header=0, encoding = \"ISO-8859-1\")"
   ]
  },
  {
   "cell_type": "code",
   "execution_count": 14,
   "metadata": {
    "collapsed": true
   },
   "outputs": [],
   "source": [
    "rfm3 = pd.read_csv(\"RFM_3.csv\", header=0, encoding = \"ISO-8859-1\")"
   ]
  },
  {
   "cell_type": "code",
   "execution_count": 174,
   "metadata": {
    "collapsed": true
   },
   "outputs": [],
   "source": [
    "df = orig.copy()"
   ]
  },
  {
   "cell_type": "code",
   "execution_count": 133,
   "metadata": {},
   "outputs": [
    {
     "data": {
      "text/plain": [
       "'Unnamed: 0'"
      ]
     },
     "execution_count": 133,
     "metadata": {},
     "output_type": "execute_result"
    }
   ],
   "source": [
    "df.columns[0]"
   ]
  },
  {
   "cell_type": "code",
   "execution_count": 175,
   "metadata": {
    "collapsed": true
   },
   "outputs": [],
   "source": [
    "df = df.rename(columns = {'Unnamed: 0': 'V1'})"
   ]
  },
  {
   "cell_type": "code",
   "execution_count": 176,
   "metadata": {},
   "outputs": [
    {
     "data": {
      "text/html": [
       "<div>\n",
       "<style>\n",
       "    .dataframe thead tr:only-child th {\n",
       "        text-align: right;\n",
       "    }\n",
       "\n",
       "    .dataframe thead th {\n",
       "        text-align: left;\n",
       "    }\n",
       "\n",
       "    .dataframe tbody tr th {\n",
       "        vertical-align: top;\n",
       "    }\n",
       "</style>\n",
       "<table border=\"1\" class=\"dataframe\">\n",
       "  <thead>\n",
       "    <tr style=\"text-align: right;\">\n",
       "      <th></th>\n",
       "      <th>V1</th>\n",
       "      <th>CUSTOMER_ID</th>\n",
       "      <th>CUSTOMER_BRANCH</th>\n",
       "      <th>ATLAS_CUSTOMER_MAINCODE_FORDUPLICATE</th>\n",
       "      <th>ACCOUNT_TYPE</th>\n",
       "      <th>LIFECYCLESTAGE</th>\n",
       "      <th>COMMERCIAL_STAGE</th>\n",
       "      <th>ATLAS_STATUS</th>\n",
       "      <th>CUSTOMER_TYPE</th>\n",
       "      <th>CUSTOMER_SUBTYPE</th>\n",
       "      <th>...</th>\n",
       "      <th>TOTAL_BOOKING_DEMAND_RATIO_Y3</th>\n",
       "      <th>TOTAL_BOOKING_DEMAND_RATIO_TOTAL</th>\n",
       "      <th>TOTAL_CANCELLATIONS_COUNT_Y1</th>\n",
       "      <th>TOTAL_CANCELLATIONS_COUNT_Y2</th>\n",
       "      <th>TOTAL_CANCELLATIONS_COUNT_Y3</th>\n",
       "      <th>TOTAL_CANCELLATIONS_COUNT_TOTAL</th>\n",
       "      <th>TOTAL_CANCELLATION_BOOKING_RATIO_Y1</th>\n",
       "      <th>TOTAL_CANCELLATION_BOOKING_RATIO_Y2</th>\n",
       "      <th>TOTAL_CANCELLATION_BOOKING_RATIO_Y3</th>\n",
       "      <th>TOTAL_CANCELLATION_BOOKING_RATIO_TOTAL</th>\n",
       "    </tr>\n",
       "  </thead>\n",
       "  <tbody>\n",
       "    <tr>\n",
       "      <th>0</th>\n",
       "      <td>1</td>\n",
       "      <td>1</td>\n",
       "      <td>1</td>\n",
       "      <td>-9999</td>\n",
       "      <td>BRANCH</td>\n",
       "      <td>4. INACTIVE</td>\n",
       "      <td>LOST</td>\n",
       "      <td>INACTIVE</td>\n",
       "      <td>TRAVEL AGENCY</td>\n",
       "      <td>NaN</td>\n",
       "      <td>...</td>\n",
       "      <td>NaN</td>\n",
       "      <td>NaN</td>\n",
       "      <td>0</td>\n",
       "      <td>0</td>\n",
       "      <td>0</td>\n",
       "      <td>0</td>\n",
       "      <td>NaN</td>\n",
       "      <td>NaN</td>\n",
       "      <td>NaN</td>\n",
       "      <td>NaN</td>\n",
       "    </tr>\n",
       "    <tr>\n",
       "      <th>1</th>\n",
       "      <td>2</td>\n",
       "      <td>2</td>\n",
       "      <td>1</td>\n",
       "      <td>31652</td>\n",
       "      <td>DUPLICATE BRANCH</td>\n",
       "      <td>4. INACTIVE</td>\n",
       "      <td>NaN</td>\n",
       "      <td>INACTIVE</td>\n",
       "      <td>TRAVEL AGENCY</td>\n",
       "      <td>FRANCHISE/OWN BRANCHES</td>\n",
       "      <td>...</td>\n",
       "      <td>NaN</td>\n",
       "      <td>NaN</td>\n",
       "      <td>0</td>\n",
       "      <td>0</td>\n",
       "      <td>0</td>\n",
       "      <td>0</td>\n",
       "      <td>NaN</td>\n",
       "      <td>NaN</td>\n",
       "      <td>NaN</td>\n",
       "      <td>NaN</td>\n",
       "    </tr>\n",
       "    <tr>\n",
       "      <th>2</th>\n",
       "      <td>3</td>\n",
       "      <td>3</td>\n",
       "      <td>1</td>\n",
       "      <td>-9999</td>\n",
       "      <td>MAIN ACCOUNT</td>\n",
       "      <td>4. INACTIVE</td>\n",
       "      <td>LOST</td>\n",
       "      <td>INACTIVE</td>\n",
       "      <td>TOUR OPERATOR</td>\n",
       "      <td>NaN</td>\n",
       "      <td>...</td>\n",
       "      <td>NaN</td>\n",
       "      <td>NaN</td>\n",
       "      <td>0</td>\n",
       "      <td>0</td>\n",
       "      <td>0</td>\n",
       "      <td>0</td>\n",
       "      <td>NaN</td>\n",
       "      <td>NaN</td>\n",
       "      <td>NaN</td>\n",
       "      <td>NaN</td>\n",
       "    </tr>\n",
       "    <tr>\n",
       "      <th>3</th>\n",
       "      <td>4</td>\n",
       "      <td>4</td>\n",
       "      <td>1</td>\n",
       "      <td>-9999</td>\n",
       "      <td>MAIN ACCOUNT</td>\n",
       "      <td>4. INACTIVE</td>\n",
       "      <td>LOST</td>\n",
       "      <td>INACTIVE</td>\n",
       "      <td>TOUR OPERATOR</td>\n",
       "      <td>NaN</td>\n",
       "      <td>...</td>\n",
       "      <td>NaN</td>\n",
       "      <td>NaN</td>\n",
       "      <td>0</td>\n",
       "      <td>0</td>\n",
       "      <td>0</td>\n",
       "      <td>0</td>\n",
       "      <td>NaN</td>\n",
       "      <td>NaN</td>\n",
       "      <td>NaN</td>\n",
       "      <td>NaN</td>\n",
       "    </tr>\n",
       "    <tr>\n",
       "      <th>4</th>\n",
       "      <td>5</td>\n",
       "      <td>5</td>\n",
       "      <td>1</td>\n",
       "      <td>-9999</td>\n",
       "      <td>MAIN ACCOUNT</td>\n",
       "      <td>4. INACTIVE</td>\n",
       "      <td>LOST</td>\n",
       "      <td>INACTIVE</td>\n",
       "      <td>TOUR OPERATOR</td>\n",
       "      <td>NaN</td>\n",
       "      <td>...</td>\n",
       "      <td>NaN</td>\n",
       "      <td>NaN</td>\n",
       "      <td>0</td>\n",
       "      <td>0</td>\n",
       "      <td>0</td>\n",
       "      <td>0</td>\n",
       "      <td>NaN</td>\n",
       "      <td>NaN</td>\n",
       "      <td>NaN</td>\n",
       "      <td>NaN</td>\n",
       "    </tr>\n",
       "  </tbody>\n",
       "</table>\n",
       "<p>5 rows × 939 columns</p>\n",
       "</div>"
      ],
      "text/plain": [
       "   V1  CUSTOMER_ID  CUSTOMER_BRANCH  ATLAS_CUSTOMER_MAINCODE_FORDUPLICATE  \\\n",
       "0   1            1                1                                 -9999   \n",
       "1   2            2                1                                 31652   \n",
       "2   3            3                1                                 -9999   \n",
       "3   4            4                1                                 -9999   \n",
       "4   5            5                1                                 -9999   \n",
       "\n",
       "       ACCOUNT_TYPE LIFECYCLESTAGE COMMERCIAL_STAGE ATLAS_STATUS  \\\n",
       "0            BRANCH    4. INACTIVE             LOST     INACTIVE   \n",
       "1  DUPLICATE BRANCH    4. INACTIVE              NaN     INACTIVE   \n",
       "2      MAIN ACCOUNT    4. INACTIVE             LOST     INACTIVE   \n",
       "3      MAIN ACCOUNT    4. INACTIVE             LOST     INACTIVE   \n",
       "4      MAIN ACCOUNT    4. INACTIVE             LOST     INACTIVE   \n",
       "\n",
       "   CUSTOMER_TYPE        CUSTOMER_SUBTYPE  \\\n",
       "0  TRAVEL AGENCY                     NaN   \n",
       "1  TRAVEL AGENCY  FRANCHISE/OWN BRANCHES   \n",
       "2  TOUR OPERATOR                     NaN   \n",
       "3  TOUR OPERATOR                     NaN   \n",
       "4  TOUR OPERATOR                     NaN   \n",
       "\n",
       "                   ...                   TOTAL_BOOKING_DEMAND_RATIO_Y3  \\\n",
       "0                  ...                                             NaN   \n",
       "1                  ...                                             NaN   \n",
       "2                  ...                                             NaN   \n",
       "3                  ...                                             NaN   \n",
       "4                  ...                                             NaN   \n",
       "\n",
       "  TOTAL_BOOKING_DEMAND_RATIO_TOTAL  TOTAL_CANCELLATIONS_COUNT_Y1  \\\n",
       "0                              NaN                             0   \n",
       "1                              NaN                             0   \n",
       "2                              NaN                             0   \n",
       "3                              NaN                             0   \n",
       "4                              NaN                             0   \n",
       "\n",
       "  TOTAL_CANCELLATIONS_COUNT_Y2 TOTAL_CANCELLATIONS_COUNT_Y3  \\\n",
       "0                            0                            0   \n",
       "1                            0                            0   \n",
       "2                            0                            0   \n",
       "3                            0                            0   \n",
       "4                            0                            0   \n",
       "\n",
       "  TOTAL_CANCELLATIONS_COUNT_TOTAL TOTAL_CANCELLATION_BOOKING_RATIO_Y1  \\\n",
       "0                               0                                 NaN   \n",
       "1                               0                                 NaN   \n",
       "2                               0                                 NaN   \n",
       "3                               0                                 NaN   \n",
       "4                               0                                 NaN   \n",
       "\n",
       "  TOTAL_CANCELLATION_BOOKING_RATIO_Y2 TOTAL_CANCELLATION_BOOKING_RATIO_Y3  \\\n",
       "0                                 NaN                                 NaN   \n",
       "1                                 NaN                                 NaN   \n",
       "2                                 NaN                                 NaN   \n",
       "3                                 NaN                                 NaN   \n",
       "4                                 NaN                                 NaN   \n",
       "\n",
       "  TOTAL_CANCELLATION_BOOKING_RATIO_TOTAL  \n",
       "0                                    NaN  \n",
       "1                                    NaN  \n",
       "2                                    NaN  \n",
       "3                                    NaN  \n",
       "4                                    NaN  \n",
       "\n",
       "[5 rows x 939 columns]"
      ]
     },
     "execution_count": 176,
     "metadata": {},
     "output_type": "execute_result"
    }
   ],
   "source": [
    "df.head()"
   ]
  },
  {
   "cell_type": "code",
   "execution_count": 8,
   "metadata": {},
   "outputs": [
    {
     "data": {
      "text/html": [
       "<div>\n",
       "<style>\n",
       "    .dataframe thead tr:only-child th {\n",
       "        text-align: right;\n",
       "    }\n",
       "\n",
       "    .dataframe thead th {\n",
       "        text-align: left;\n",
       "    }\n",
       "\n",
       "    .dataframe tbody tr th {\n",
       "        vertical-align: top;\n",
       "    }\n",
       "</style>\n",
       "<table border=\"1\" class=\"dataframe\">\n",
       "  <thead>\n",
       "    <tr style=\"text-align: right;\">\n",
       "      <th></th>\n",
       "      <th>V1</th>\n",
       "      <th>CUSTOMER_ID</th>\n",
       "      <th>CUSTOMER_BRANCH</th>\n",
       "      <th>R1</th>\n",
       "      <th>R2</th>\n",
       "      <th>F1</th>\n",
       "      <th>F2</th>\n",
       "      <th>M1</th>\n",
       "      <th>M2</th>\n",
       "      <th>S1</th>\n",
       "      <th>S2</th>\n",
       "      <th>MainGroup1</th>\n",
       "      <th>MainGroup2</th>\n",
       "      <th>SubGroup1</th>\n",
       "      <th>SubGroup2</th>\n",
       "    </tr>\n",
       "  </thead>\n",
       "  <tbody>\n",
       "    <tr>\n",
       "      <th>0</th>\n",
       "      <td>8</td>\n",
       "      <td>9</td>\n",
       "      <td>1</td>\n",
       "      <td>0</td>\n",
       "      <td>0</td>\n",
       "      <td>10</td>\n",
       "      <td>10</td>\n",
       "      <td>2142.09</td>\n",
       "      <td>1987.87</td>\n",
       "      <td>138.0</td>\n",
       "      <td>150.0</td>\n",
       "      <td>3. Experienced Customers</td>\n",
       "      <td>3. Experienced Customers</td>\n",
       "      <td>NaN</td>\n",
       "      <td>NaN</td>\n",
       "    </tr>\n",
       "    <tr>\n",
       "      <th>1</th>\n",
       "      <td>693</td>\n",
       "      <td>19</td>\n",
       "      <td>1</td>\n",
       "      <td>12</td>\n",
       "      <td>12</td>\n",
       "      <td>0</td>\n",
       "      <td>0</td>\n",
       "      <td>0.00</td>\n",
       "      <td>0.00</td>\n",
       "      <td>137.0</td>\n",
       "      <td>149.0</td>\n",
       "      <td>4. Inactive Experienced Customers</td>\n",
       "      <td>4. Inactive Experienced Customers</td>\n",
       "      <td>NaN</td>\n",
       "      <td>NaN</td>\n",
       "    </tr>\n",
       "    <tr>\n",
       "      <th>2</th>\n",
       "      <td>700</td>\n",
       "      <td>27</td>\n",
       "      <td>1</td>\n",
       "      <td>0</td>\n",
       "      <td>0</td>\n",
       "      <td>9</td>\n",
       "      <td>12</td>\n",
       "      <td>1979.10</td>\n",
       "      <td>3456.89</td>\n",
       "      <td>89.0</td>\n",
       "      <td>101.0</td>\n",
       "      <td>3. Experienced Customers</td>\n",
       "      <td>3. Experienced Customers</td>\n",
       "      <td>NaN</td>\n",
       "      <td>NaN</td>\n",
       "    </tr>\n",
       "    <tr>\n",
       "      <th>3</th>\n",
       "      <td>701</td>\n",
       "      <td>28</td>\n",
       "      <td>1</td>\n",
       "      <td>12</td>\n",
       "      <td>12</td>\n",
       "      <td>0</td>\n",
       "      <td>0</td>\n",
       "      <td>0.00</td>\n",
       "      <td>0.00</td>\n",
       "      <td>130.0</td>\n",
       "      <td>142.0</td>\n",
       "      <td>4. Inactive Experienced Customers</td>\n",
       "      <td>4. Inactive Experienced Customers</td>\n",
       "      <td>NaN</td>\n",
       "      <td>NaN</td>\n",
       "    </tr>\n",
       "    <tr>\n",
       "      <th>4</th>\n",
       "      <td>703</td>\n",
       "      <td>30</td>\n",
       "      <td>1</td>\n",
       "      <td>12</td>\n",
       "      <td>12</td>\n",
       "      <td>0</td>\n",
       "      <td>0</td>\n",
       "      <td>0.00</td>\n",
       "      <td>0.00</td>\n",
       "      <td>126.0</td>\n",
       "      <td>138.0</td>\n",
       "      <td>4. Inactive Experienced Customers</td>\n",
       "      <td>4. Inactive Experienced Customers</td>\n",
       "      <td>NaN</td>\n",
       "      <td>NaN</td>\n",
       "    </tr>\n",
       "  </tbody>\n",
       "</table>\n",
       "</div>"
      ],
      "text/plain": [
       "    V1  CUSTOMER_ID  CUSTOMER_BRANCH  R1  R2  F1  F2       M1       M2     S1  \\\n",
       "0    8            9                1   0   0  10  10  2142.09  1987.87  138.0   \n",
       "1  693           19                1  12  12   0   0     0.00     0.00  137.0   \n",
       "2  700           27                1   0   0   9  12  1979.10  3456.89   89.0   \n",
       "3  701           28                1  12  12   0   0     0.00     0.00  130.0   \n",
       "4  703           30                1  12  12   0   0     0.00     0.00  126.0   \n",
       "\n",
       "      S2                         MainGroup1  \\\n",
       "0  150.0           3. Experienced Customers   \n",
       "1  149.0  4. Inactive Experienced Customers   \n",
       "2  101.0           3. Experienced Customers   \n",
       "3  142.0  4. Inactive Experienced Customers   \n",
       "4  138.0  4. Inactive Experienced Customers   \n",
       "\n",
       "                          MainGroup2  SubGroup1  SubGroup2  \n",
       "0           3. Experienced Customers        NaN        NaN  \n",
       "1  4. Inactive Experienced Customers        NaN        NaN  \n",
       "2           3. Experienced Customers        NaN        NaN  \n",
       "3  4. Inactive Experienced Customers        NaN        NaN  \n",
       "4  4. Inactive Experienced Customers        NaN        NaN  "
      ]
     },
     "execution_count": 8,
     "metadata": {},
     "output_type": "execute_result"
    }
   ],
   "source": [
    "rfm1.head()"
   ]
  },
  {
   "cell_type": "code",
   "execution_count": 136,
   "metadata": {
    "collapsed": true
   },
   "outputs": [],
   "source": [
    "df = df[df.LIFECYCLESTAGE != '4. INACTIVE']"
   ]
  },
  {
   "cell_type": "code",
   "execution_count": 137,
   "metadata": {},
   "outputs": [
    {
     "data": {
      "text/plain": [
       "77702"
      ]
     },
     "execution_count": 137,
     "metadata": {},
     "output_type": "execute_result"
    }
   ],
   "source": [
    "len(df)"
   ]
  },
  {
   "cell_type": "code",
   "execution_count": 138,
   "metadata": {},
   "outputs": [
    {
     "data": {
      "text/plain": [
       "77702"
      ]
     },
     "execution_count": 138,
     "metadata": {},
     "output_type": "execute_result"
    }
   ],
   "source": [
    "len(rfm1)"
   ]
  },
  {
   "cell_type": "markdown",
   "metadata": {},
   "source": [
    "### Fill subgroup fields in rfm1, rfm2 and rfm3"
   ]
  },
  {
   "cell_type": "markdown",
   "metadata": {},
   "source": [
    "### RFM1"
   ]
  },
  {
   "cell_type": "code",
   "execution_count": 177,
   "metadata": {
    "collapsed": true
   },
   "outputs": [],
   "source": [
    "\"\"\"\n",
    "4 ---> Medium_Risk\n",
    "3 --> Middle_F\n",
    "1 --> High_F & Medium_F\n",
    "2 --> Promising\n",
    "\"\"\"\n",
    "\n",
    "#Fill Subgroup based on cluster value\n",
    "def fillSubgroup1(value):\n",
    "    subg = ''\n",
    "    if value == 4:\n",
    "        subg = 'Medium_Risk'\n",
    "    elif value == 3:\n",
    "        subg = 'Middle_F'\n",
    "    elif value == 1:\n",
    "        subg = 'High_F & Medium_F'\n",
    "    elif value == 2:\n",
    "        subg = 'Promising'\n",
    "    return subg"
   ]
  },
  {
   "cell_type": "code",
   "execution_count": 178,
   "metadata": {
    "collapsed": true
   },
   "outputs": [],
   "source": [
    "rfm1['sub1'] = rfm1['SubGroup1'].apply(lambda x: fillSubgroup1(x))"
   ]
  },
  {
   "cell_type": "code",
   "execution_count": 179,
   "metadata": {},
   "outputs": [
    {
     "data": {
      "text/plain": [
       "                     74823\n",
       "Middle_F              1501\n",
       "Medium_Risk            725\n",
       "High_F & Medium_F      593\n",
       "Promising               60\n",
       "Name: sub1, dtype: int64"
      ]
     },
     "execution_count": 179,
     "metadata": {},
     "output_type": "execute_result"
    }
   ],
   "source": [
    "rfm1.sub1.value_counts()"
   ]
  },
  {
   "cell_type": "code",
   "execution_count": 180,
   "metadata": {
    "collapsed": true
   },
   "outputs": [],
   "source": [
    "rfm1['sub2'] = rfm1['SubGroup2'].apply(lambda x: fillSubgroup(x))"
   ]
  },
  {
   "cell_type": "code",
   "execution_count": 181,
   "metadata": {},
   "outputs": [
    {
     "data": {
      "text/plain": [
       "                     74749\n",
       "Middle_F              1627\n",
       "Medium_Risk            772\n",
       "High_F & Medium_F      507\n",
       "Promising               47\n",
       "Name: sub2, dtype: int64"
      ]
     },
     "execution_count": 181,
     "metadata": {},
     "output_type": "execute_result"
    }
   ],
   "source": [
    "rfm1.sub2.value_counts()"
   ]
  },
  {
   "cell_type": "code",
   "execution_count": 144,
   "metadata": {},
   "outputs": [
    {
     "data": {
      "text/html": [
       "<div>\n",
       "<style>\n",
       "    .dataframe thead tr:only-child th {\n",
       "        text-align: right;\n",
       "    }\n",
       "\n",
       "    .dataframe thead th {\n",
       "        text-align: left;\n",
       "    }\n",
       "\n",
       "    .dataframe tbody tr th {\n",
       "        vertical-align: top;\n",
       "    }\n",
       "</style>\n",
       "<table border=\"1\" class=\"dataframe\">\n",
       "  <thead>\n",
       "    <tr style=\"text-align: right;\">\n",
       "      <th></th>\n",
       "      <th>V1</th>\n",
       "      <th>CUSTOMER_ID</th>\n",
       "      <th>CUSTOMER_BRANCH</th>\n",
       "      <th>R1</th>\n",
       "      <th>R2</th>\n",
       "      <th>F1</th>\n",
       "      <th>F2</th>\n",
       "      <th>M1</th>\n",
       "      <th>M2</th>\n",
       "      <th>S1</th>\n",
       "      <th>S2</th>\n",
       "      <th>MainGroup1</th>\n",
       "      <th>MainGroup2</th>\n",
       "      <th>SubGroup1</th>\n",
       "      <th>SubGroup2</th>\n",
       "      <th>sub1</th>\n",
       "      <th>sub2</th>\n",
       "    </tr>\n",
       "  </thead>\n",
       "  <tbody>\n",
       "    <tr>\n",
       "      <th>261</th>\n",
       "      <td>2330</td>\n",
       "      <td>1188</td>\n",
       "      <td>1</td>\n",
       "      <td>12</td>\n",
       "      <td>0</td>\n",
       "      <td>0</td>\n",
       "      <td>1</td>\n",
       "      <td>0.0</td>\n",
       "      <td>0.00</td>\n",
       "      <td>-12.0</td>\n",
       "      <td>0.0</td>\n",
       "      <td>0. Future Customers</td>\n",
       "      <td>1. New Customers</td>\n",
       "      <td>NaN</td>\n",
       "      <td>3.0</td>\n",
       "      <td></td>\n",
       "      <td>Middle_F</td>\n",
       "    </tr>\n",
       "    <tr>\n",
       "      <th>397</th>\n",
       "      <td>2923</td>\n",
       "      <td>1627</td>\n",
       "      <td>130</td>\n",
       "      <td>12</td>\n",
       "      <td>0</td>\n",
       "      <td>0</td>\n",
       "      <td>1</td>\n",
       "      <td>0.0</td>\n",
       "      <td>108.22</td>\n",
       "      <td>-12.0</td>\n",
       "      <td>0.0</td>\n",
       "      <td>0. Future Customers</td>\n",
       "      <td>1. New Customers</td>\n",
       "      <td>NaN</td>\n",
       "      <td>3.0</td>\n",
       "      <td></td>\n",
       "      <td>Middle_F</td>\n",
       "    </tr>\n",
       "    <tr>\n",
       "      <th>418</th>\n",
       "      <td>2981</td>\n",
       "      <td>1627</td>\n",
       "      <td>188</td>\n",
       "      <td>12</td>\n",
       "      <td>1</td>\n",
       "      <td>0</td>\n",
       "      <td>2</td>\n",
       "      <td>0.0</td>\n",
       "      <td>41.40</td>\n",
       "      <td>-8.0</td>\n",
       "      <td>4.0</td>\n",
       "      <td>0. Future Customers</td>\n",
       "      <td>1. New Customers</td>\n",
       "      <td>NaN</td>\n",
       "      <td>3.0</td>\n",
       "      <td></td>\n",
       "      <td>Middle_F</td>\n",
       "    </tr>\n",
       "    <tr>\n",
       "      <th>440</th>\n",
       "      <td>3058</td>\n",
       "      <td>1627</td>\n",
       "      <td>265</td>\n",
       "      <td>12</td>\n",
       "      <td>2</td>\n",
       "      <td>0</td>\n",
       "      <td>2</td>\n",
       "      <td>0.0</td>\n",
       "      <td>149.96</td>\n",
       "      <td>-8.0</td>\n",
       "      <td>4.0</td>\n",
       "      <td>0. Future Customers</td>\n",
       "      <td>1. New Customers</td>\n",
       "      <td>NaN</td>\n",
       "      <td>3.0</td>\n",
       "      <td></td>\n",
       "      <td>Middle_F</td>\n",
       "    </tr>\n",
       "    <tr>\n",
       "      <th>459</th>\n",
       "      <td>3096</td>\n",
       "      <td>1627</td>\n",
       "      <td>303</td>\n",
       "      <td>12</td>\n",
       "      <td>4</td>\n",
       "      <td>0</td>\n",
       "      <td>1</td>\n",
       "      <td>0.0</td>\n",
       "      <td>76.00</td>\n",
       "      <td>-8.0</td>\n",
       "      <td>4.0</td>\n",
       "      <td>0. Future Customers</td>\n",
       "      <td>1. New Customers</td>\n",
       "      <td>NaN</td>\n",
       "      <td>4.0</td>\n",
       "      <td></td>\n",
       "      <td>Medium_Risk</td>\n",
       "    </tr>\n",
       "  </tbody>\n",
       "</table>\n",
       "</div>"
      ],
      "text/plain": [
       "       V1  CUSTOMER_ID  CUSTOMER_BRANCH  R1  R2  F1  F2   M1      M2    S1  \\\n",
       "261  2330         1188                1  12   0   0   1  0.0    0.00 -12.0   \n",
       "397  2923         1627              130  12   0   0   1  0.0  108.22 -12.0   \n",
       "418  2981         1627              188  12   1   0   2  0.0   41.40  -8.0   \n",
       "440  3058         1627              265  12   2   0   2  0.0  149.96  -8.0   \n",
       "459  3096         1627              303  12   4   0   1  0.0   76.00  -8.0   \n",
       "\n",
       "      S2           MainGroup1        MainGroup2  SubGroup1  SubGroup2 sub1  \\\n",
       "261  0.0  0. Future Customers  1. New Customers        NaN        3.0        \n",
       "397  0.0  0. Future Customers  1. New Customers        NaN        3.0        \n",
       "418  4.0  0. Future Customers  1. New Customers        NaN        3.0        \n",
       "440  4.0  0. Future Customers  1. New Customers        NaN        3.0        \n",
       "459  4.0  0. Future Customers  1. New Customers        NaN        4.0        \n",
       "\n",
       "            sub2  \n",
       "261     Middle_F  \n",
       "397     Middle_F  \n",
       "418     Middle_F  \n",
       "440     Middle_F  \n",
       "459  Medium_Risk  "
      ]
     },
     "execution_count": 144,
     "metadata": {},
     "output_type": "execute_result"
    }
   ],
   "source": [
    "rfm1[rfm1['SubGroup2'].notnull()].head()"
   ]
  },
  {
   "cell_type": "code",
   "execution_count": 145,
   "metadata": {},
   "outputs": [
    {
     "data": {
      "text/html": [
       "<div>\n",
       "<style>\n",
       "    .dataframe thead tr:only-child th {\n",
       "        text-align: right;\n",
       "    }\n",
       "\n",
       "    .dataframe thead th {\n",
       "        text-align: left;\n",
       "    }\n",
       "\n",
       "    .dataframe tbody tr th {\n",
       "        vertical-align: top;\n",
       "    }\n",
       "</style>\n",
       "<table border=\"1\" class=\"dataframe\">\n",
       "  <thead>\n",
       "    <tr style=\"text-align: right;\">\n",
       "      <th></th>\n",
       "      <th>V1</th>\n",
       "      <th>CUSTOMER_ID</th>\n",
       "      <th>CUSTOMER_BRANCH</th>\n",
       "      <th>R1</th>\n",
       "      <th>R2</th>\n",
       "      <th>F1</th>\n",
       "      <th>F2</th>\n",
       "      <th>M1</th>\n",
       "      <th>M2</th>\n",
       "      <th>S1</th>\n",
       "      <th>S2</th>\n",
       "      <th>MainGroup1</th>\n",
       "      <th>MainGroup2</th>\n",
       "      <th>SubGroup1</th>\n",
       "      <th>SubGroup2</th>\n",
       "      <th>sub1</th>\n",
       "      <th>sub2</th>\n",
       "    </tr>\n",
       "  </thead>\n",
       "  <tbody>\n",
       "    <tr>\n",
       "      <th>354</th>\n",
       "      <td>2805</td>\n",
       "      <td>1627</td>\n",
       "      <td>12</td>\n",
       "      <td>5</td>\n",
       "      <td>4</td>\n",
       "      <td>1</td>\n",
       "      <td>2</td>\n",
       "      <td>46.00</td>\n",
       "      <td>144.52</td>\n",
       "      <td>5.0</td>\n",
       "      <td>17.0</td>\n",
       "      <td>1. New Customers</td>\n",
       "      <td>3. Experienced Customers</td>\n",
       "      <td>4.0</td>\n",
       "      <td>NaN</td>\n",
       "      <td>Medium_Risk</td>\n",
       "      <td></td>\n",
       "    </tr>\n",
       "    <tr>\n",
       "      <th>362</th>\n",
       "      <td>2835</td>\n",
       "      <td>1627</td>\n",
       "      <td>42</td>\n",
       "      <td>2</td>\n",
       "      <td>12</td>\n",
       "      <td>2</td>\n",
       "      <td>0</td>\n",
       "      <td>388.14</td>\n",
       "      <td>0.00</td>\n",
       "      <td>3.0</td>\n",
       "      <td>15.0</td>\n",
       "      <td>1. New Customers</td>\n",
       "      <td>4. Inactive Experienced Customers</td>\n",
       "      <td>3.0</td>\n",
       "      <td>NaN</td>\n",
       "      <td>Middle_F</td>\n",
       "      <td></td>\n",
       "    </tr>\n",
       "    <tr>\n",
       "      <th>391</th>\n",
       "      <td>2910</td>\n",
       "      <td>1627</td>\n",
       "      <td>117</td>\n",
       "      <td>5</td>\n",
       "      <td>3</td>\n",
       "      <td>1</td>\n",
       "      <td>1</td>\n",
       "      <td>193.22</td>\n",
       "      <td>19.00</td>\n",
       "      <td>5.0</td>\n",
       "      <td>17.0</td>\n",
       "      <td>1. New Customers</td>\n",
       "      <td>3. Experienced Customers</td>\n",
       "      <td>4.0</td>\n",
       "      <td>NaN</td>\n",
       "      <td>Medium_Risk</td>\n",
       "      <td></td>\n",
       "    </tr>\n",
       "    <tr>\n",
       "      <th>417</th>\n",
       "      <td>2976</td>\n",
       "      <td>1627</td>\n",
       "      <td>183</td>\n",
       "      <td>0</td>\n",
       "      <td>1</td>\n",
       "      <td>2</td>\n",
       "      <td>7</td>\n",
       "      <td>340.00</td>\n",
       "      <td>2406.71</td>\n",
       "      <td>4.0</td>\n",
       "      <td>16.0</td>\n",
       "      <td>1. New Customers</td>\n",
       "      <td>3. Experienced Customers</td>\n",
       "      <td>3.0</td>\n",
       "      <td>NaN</td>\n",
       "      <td>Middle_F</td>\n",
       "      <td></td>\n",
       "    </tr>\n",
       "    <tr>\n",
       "      <th>468</th>\n",
       "      <td>3126</td>\n",
       "      <td>1627</td>\n",
       "      <td>333</td>\n",
       "      <td>2</td>\n",
       "      <td>0</td>\n",
       "      <td>1</td>\n",
       "      <td>3</td>\n",
       "      <td>75.96</td>\n",
       "      <td>181.63</td>\n",
       "      <td>2.0</td>\n",
       "      <td>14.0</td>\n",
       "      <td>1. New Customers</td>\n",
       "      <td>3. Experienced Customers</td>\n",
       "      <td>3.0</td>\n",
       "      <td>NaN</td>\n",
       "      <td>Middle_F</td>\n",
       "      <td></td>\n",
       "    </tr>\n",
       "  </tbody>\n",
       "</table>\n",
       "</div>"
      ],
      "text/plain": [
       "       V1  CUSTOMER_ID  CUSTOMER_BRANCH  R1  R2  F1  F2      M1       M2   S1  \\\n",
       "354  2805         1627               12   5   4   1   2   46.00   144.52  5.0   \n",
       "362  2835         1627               42   2  12   2   0  388.14     0.00  3.0   \n",
       "391  2910         1627              117   5   3   1   1  193.22    19.00  5.0   \n",
       "417  2976         1627              183   0   1   2   7  340.00  2406.71  4.0   \n",
       "468  3126         1627              333   2   0   1   3   75.96   181.63  2.0   \n",
       "\n",
       "       S2        MainGroup1                         MainGroup2  SubGroup1  \\\n",
       "354  17.0  1. New Customers           3. Experienced Customers        4.0   \n",
       "362  15.0  1. New Customers  4. Inactive Experienced Customers        3.0   \n",
       "391  17.0  1. New Customers           3. Experienced Customers        4.0   \n",
       "417  16.0  1. New Customers           3. Experienced Customers        3.0   \n",
       "468  14.0  1. New Customers           3. Experienced Customers        3.0   \n",
       "\n",
       "     SubGroup2         sub1 sub2  \n",
       "354        NaN  Medium_Risk       \n",
       "362        NaN     Middle_F       \n",
       "391        NaN  Medium_Risk       \n",
       "417        NaN     Middle_F       \n",
       "468        NaN     Middle_F       "
      ]
     },
     "execution_count": 145,
     "metadata": {},
     "output_type": "execute_result"
    }
   ],
   "source": [
    "rfm1[rfm1['SubGroup1'].notnull()].head()"
   ]
  },
  {
   "cell_type": "markdown",
   "metadata": {},
   "source": [
    "### RFM2"
   ]
  },
  {
   "cell_type": "code",
   "execution_count": 201,
   "metadata": {
    "collapsed": true
   },
   "outputs": [],
   "source": [
    "\"\"\"\n",
    "2\tMedium_High_Risk\n",
    "5\tMiddle_F\n",
    "1\tHigh_F & Medium_M\n",
    "4\tPromising\n",
    "3\tTop\n",
    "\n",
    "Additional parameters: \n",
    "if the value in subgroup is already populated: do nothing\n",
    "\"\"\"\n",
    "def fillSubgroup2(subColV, value):\n",
    "    subg = ''\n",
    "    if subColV != '':\n",
    "        subg = subColV \n",
    "    else: \n",
    "        if value == 4:\n",
    "            subg = 'Promising'\n",
    "        elif value == 3:\n",
    "            subg = 'Top'\n",
    "        elif value == 1:\n",
    "            subg = 'High_F & Medium_M'\n",
    "        elif value == 2:\n",
    "            subg = 'Medium_High_Risk'\n",
    "        elif value == 5:\n",
    "            subg = 'Middle_F'\n",
    "    return subg"
   ]
  },
  {
   "cell_type": "code",
   "execution_count": 305,
   "metadata": {
    "collapsed": true
   },
   "outputs": [],
   "source": [
    "rfm2['sub1'] = ''\n",
    "rfm2['sub2'] = ''\n",
    "\n",
    "rfm2['sub1'] = rfm2.apply(lambda x: fillSubgroup2(x['sub1'], x['SubGroup1']), axis = 1)\n",
    "rfm2['sub2'] = rfm2.apply(lambda x: fillSubgroup2(x['sub2'], x['SubGroup2']), axis = 1)"
   ]
  },
  {
   "cell_type": "code",
   "execution_count": 303,
   "metadata": {},
   "outputs": [
    {
     "data": {
      "text/plain": [
       "                     75338\n",
       "Middle_F               944\n",
       "Medium_High_Risk       923\n",
       "High_F & Medium_M      481\n",
       "Promising               14\n",
       "Top                      2\n",
       "Name: sub1, dtype: int64"
      ]
     },
     "execution_count": 303,
     "metadata": {},
     "output_type": "execute_result"
    }
   ],
   "source": [
    "rfm2.sub1.value_counts()"
   ]
  },
  {
   "cell_type": "code",
   "execution_count": 149,
   "metadata": {
    "collapsed": true
   },
   "outputs": [],
   "source": [
    "#double Check that there are no common values\n",
    "index1 = rfm2[rfm2['SubGroup1'].notnull()].index\n",
    "index2 = rfm1[rfm1['SubGroup1'].notnull()].index\n",
    "uncommon = [x if x in index2 else '' for x in index1]"
   ]
  },
  {
   "cell_type": "code",
   "execution_count": 152,
   "metadata": {
    "collapsed": true
   },
   "outputs": [],
   "source": [
    "rfm2['sub2'] = rfm2['SubGroup2'].apply(lambda x: fillSubgroup2(x))"
   ]
  },
  {
   "cell_type": "code",
   "execution_count": 306,
   "metadata": {},
   "outputs": [
    {
     "data": {
      "text/plain": [
       "                     75087\n",
       "Middle_F              1039\n",
       "Medium_High_Risk      1021\n",
       "High_F & Medium_M      534\n",
       "Promising               20\n",
       "Top                      1\n",
       "Name: sub2, dtype: int64"
      ]
     },
     "execution_count": 306,
     "metadata": {},
     "output_type": "execute_result"
    }
   ],
   "source": [
    "rfm2.sub2.value_counts()"
   ]
  },
  {
   "cell_type": "markdown",
   "metadata": {},
   "source": [
    "### RFM3"
   ]
  },
  {
   "cell_type": "code",
   "execution_count": 308,
   "metadata": {
    "collapsed": true
   },
   "outputs": [],
   "source": [
    "\"\"\"\n",
    "7\tHigh_Risk\n",
    "4\tMedium_High_Risk\n",
    "1\tMiddle_F\n",
    "6\tHigh_F & Medium_M\n",
    "2\tPromising\n",
    "3\tTop\n",
    "5\tElite\n",
    "\"\"\"\n",
    "def fillSubgroup3(subColV, value):\n",
    "    subg = ''\n",
    "    if subColV != '':\n",
    "        subg = subColV \n",
    "    else:\n",
    "        if value == 4:\n",
    "            subg = 'Medium_High_Risk'\n",
    "        elif value == 3:\n",
    "            subg = 'Top'\n",
    "        elif value == 1:\n",
    "            subg = 'Middle_F'\n",
    "        elif value == 2:\n",
    "            subg = 'Promising'\n",
    "        elif value == 5:\n",
    "            subg = 'Elite'\n",
    "        elif value == 6:\n",
    "            subg = 'High_F & Medium_M'\n",
    "        elif value == 7:\n",
    "            subg = 'High_Risk'\n",
    "    return subg"
   ]
  },
  {
   "cell_type": "code",
   "execution_count": 309,
   "metadata": {
    "collapsed": true
   },
   "outputs": [],
   "source": [
    "rfm3['sub1'] = ''\n",
    "rfm3['sub2'] = ''\n",
    "\n",
    "rfm3['sub1'] = rfm3.apply(lambda x: fillSubgroup3(x['sub1'], x['SubGroup1']), axis = 1)\n",
    "rfm3['sub2'] = rfm3.apply(lambda x: fillSubgroup3(x['sub2'], x['SubGroup2']), axis = 1)"
   ]
  },
  {
   "cell_type": "code",
   "execution_count": 310,
   "metadata": {},
   "outputs": [
    {
     "data": {
      "text/plain": [
       "                     63466\n",
       "Middle_F              3963\n",
       "High_F & Medium_M     3466\n",
       "Promising             3339\n",
       "Medium_High_Risk      2216\n",
       "High_Risk             1232\n",
       "Top                     20\n",
       "Name: sub1, dtype: int64"
      ]
     },
     "execution_count": 310,
     "metadata": {},
     "output_type": "execute_result"
    }
   ],
   "source": [
    "rfm3.sub1.value_counts()"
   ]
  },
  {
   "cell_type": "code",
   "execution_count": 157,
   "metadata": {
    "collapsed": true
   },
   "outputs": [],
   "source": [
    "rfm3['sub2'] = rfm3['SubGroup2'].apply(lambda x: fillSubgroup3(x))"
   ]
  },
  {
   "cell_type": "code",
   "execution_count": 311,
   "metadata": {},
   "outputs": [
    {
     "data": {
      "text/plain": [
       "                     59563\n",
       "Promising             4909\n",
       "Middle_F              4884\n",
       "High_F & Medium_M     3794\n",
       "Medium_High_Risk      2767\n",
       "High_Risk             1757\n",
       "Top                     26\n",
       "Elite                    2\n",
       "Name: sub2, dtype: int64"
      ]
     },
     "execution_count": 311,
     "metadata": {},
     "output_type": "execute_result"
    }
   ],
   "source": [
    "rfm3.sub2.value_counts()"
   ]
  },
  {
   "cell_type": "code",
   "execution_count": 159,
   "metadata": {
    "collapsed": true
   },
   "outputs": [],
   "source": [
    "test = df.copy()"
   ]
  },
  {
   "cell_type": "code",
   "execution_count": 92,
   "metadata": {
    "collapsed": true
   },
   "outputs": [],
   "source": [
    "indx = test.V1"
   ]
  },
  {
   "cell_type": "code",
   "execution_count": 93,
   "metadata": {
    "collapsed": true
   },
   "outputs": [],
   "source": [
    "indx2 = rfm1.V1"
   ]
  },
  {
   "cell_type": "code",
   "execution_count": 94,
   "metadata": {
    "collapsed": true
   },
   "outputs": [],
   "source": [
    "notcommon = [x if x not in indx else '' for x in indx2]"
   ]
  },
  {
   "cell_type": "code",
   "execution_count": 96,
   "metadata": {},
   "outputs": [
    {
     "data": {
      "text/plain": [
       "''"
      ]
     },
     "execution_count": 96,
     "metadata": {},
     "output_type": "execute_result"
    }
   ],
   "source": [
    "notcommon[notcommon != '']"
   ]
  },
  {
   "cell_type": "code",
   "execution_count": 102,
   "metadata": {},
   "outputs": [
    {
     "data": {
      "text/plain": [
       "77702"
      ]
     },
     "execution_count": 102,
     "metadata": {},
     "output_type": "execute_result"
    }
   ],
   "source": [
    "test['V1'].nunique()"
   ]
  },
  {
   "cell_type": "code",
   "execution_count": 104,
   "metadata": {},
   "outputs": [
    {
     "data": {
      "text/plain": [
       "77702"
      ]
     },
     "execution_count": 104,
     "metadata": {},
     "output_type": "execute_result"
    }
   ],
   "source": [
    "rfm1['V1'].nunique()"
   ]
  },
  {
   "cell_type": "markdown",
   "metadata": {},
   "source": [
    "## Merge With Master"
   ]
  },
  {
   "cell_type": "markdown",
   "metadata": {},
   "source": [
    "### Start with RFM1 and RFM2"
   ]
  },
  {
   "cell_type": "code",
   "execution_count": 341,
   "metadata": {
    "collapsed": true
   },
   "outputs": [],
   "source": [
    "res = pd.merge(df, rfm1, on = 'V1', how = 'right')\n",
    "res = pd.merge(res, rfm2, on = 'V1', how = 'right')"
   ]
  },
  {
   "cell_type": "code",
   "execution_count": 313,
   "metadata": {},
   "outputs": [
    {
     "data": {
      "text/plain": [
       "array(['', 'Medium_Risk', 'Middle_F', 'High_F & Medium_F', 'Promising'], dtype=object)"
      ]
     },
     "execution_count": 313,
     "metadata": {},
     "output_type": "execute_result"
    }
   ],
   "source": [
    "res['sub1_x'].unique()"
   ]
  },
  {
   "cell_type": "code",
   "execution_count": 314,
   "metadata": {},
   "outputs": [
    {
     "data": {
      "text/plain": [
       "array(['', 'High_F & Medium_M', 'Medium_High_Risk', 'Middle_F',\n",
       "       'Promising', 'Top'], dtype=object)"
      ]
     },
     "execution_count": 314,
     "metadata": {},
     "output_type": "execute_result"
    }
   ],
   "source": [
    "res['sub1_y'].unique()"
   ]
  },
  {
   "cell_type": "code",
   "execution_count": 342,
   "metadata": {
    "collapsed": true
   },
   "outputs": [],
   "source": [
    "\"\"\"\n",
    "At the end we only want one column with different values. Since using the merge method will overwrite the values, we \n",
    "will use the statements below to fill the subgroup info. \n",
    "The value for SubGroup1_x will be changed if and only if it did not have any value assigned. This is avoid overwriting \n",
    "empty values to existing strings.\n",
    "\"\"\"\n",
    "#Fill SubGroup1_x with SubGroup2_x if SubGroup1_x != '', else keep old value\n",
    "res['SubGroup1_x'] = res.apply(lambda x: x['SubGroup1_y'] if np.isnan(x['SubGroup1_x']) \\\n",
    "                               else x['SubGroup1_x'], axis = 1)\n",
    "res['SubGroup2_x'] = res.apply(lambda x: x['SubGroup2_y'] if np.isnan(x['SubGroup2_x']) \\\n",
    "                               else x['SubGroup2_x'], axis = 1)"
   ]
  },
  {
   "cell_type": "code",
   "execution_count": 317,
   "metadata": {},
   "outputs": [
    {
     "data": {
      "text/plain": [
       "array([ nan,   1.,   2.,   4.,   3.,   5.])"
      ]
     },
     "execution_count": 317,
     "metadata": {},
     "output_type": "execute_result"
    }
   ],
   "source": [
    "res['SubGroup1_x'].unique()"
   ]
  },
  {
   "cell_type": "markdown",
   "metadata": {},
   "source": [
    "### Make sure the replacements went well"
   ]
  },
  {
   "cell_type": "code",
   "execution_count": 318,
   "metadata": {},
   "outputs": [
    {
     "data": {
      "text/plain": [
       "3.0    1501\n",
       "4.0     725\n",
       "1.0     593\n",
       "2.0      60\n",
       "Name: SubGroup1, dtype: int64"
      ]
     },
     "execution_count": 318,
     "metadata": {},
     "output_type": "execute_result"
    }
   ],
   "source": [
    "rfm1['SubGroup1'].value_counts()"
   ]
  },
  {
   "cell_type": "code",
   "execution_count": 319,
   "metadata": {},
   "outputs": [
    {
     "data": {
      "text/plain": [
       "5.0    944\n",
       "2.0    923\n",
       "1.0    481\n",
       "4.0     14\n",
       "3.0      2\n",
       "Name: SubGroup1, dtype: int64"
      ]
     },
     "execution_count": 319,
     "metadata": {},
     "output_type": "execute_result"
    }
   ],
   "source": [
    "rfm2['SubGroup1'].value_counts()"
   ]
  },
  {
   "cell_type": "code",
   "execution_count": 343,
   "metadata": {},
   "outputs": [
    {
     "data": {
      "text/plain": [
       "3.0    1503\n",
       "1.0    1074\n",
       "2.0     983\n",
       "5.0     944\n",
       "4.0     739\n",
       "Name: SubGroup1_x, dtype: int64"
      ]
     },
     "execution_count": 343,
     "metadata": {},
     "output_type": "execute_result"
    }
   ],
   "source": [
    "res['SubGroup1_x'].value_counts()"
   ]
  },
  {
   "cell_type": "code",
   "execution_count": 344,
   "metadata": {
    "collapsed": true
   },
   "outputs": [],
   "source": [
    "res['sub1_x'] = res.apply(lambda x: fillSubgroup2(x['sub1_x'], x['SubGroup1_x']), axis = 1)"
   ]
  },
  {
   "cell_type": "code",
   "execution_count": 345,
   "metadata": {},
   "outputs": [
    {
     "data": {
      "text/plain": [
       "array(['', 'High_F & Medium_M', 'Medium_High_Risk', 'Medium_Risk',\n",
       "       'Middle_F', 'High_F & Medium_F', 'Promising', 'Top'], dtype=object)"
      ]
     },
     "execution_count": 345,
     "metadata": {},
     "output_type": "execute_result"
    }
   ],
   "source": [
    "res['sub1_x'].unique()"
   ]
  },
  {
   "cell_type": "code",
   "execution_count": 346,
   "metadata": {
    "collapsed": true
   },
   "outputs": [],
   "source": [
    "res['sub2_x'] = res.apply(lambda x: fillSubgroup2(x['sub2_x'], x['SubGroup2_x']), axis = 1)"
   ]
  },
  {
   "cell_type": "markdown",
   "metadata": {},
   "source": [
    "### Do the same to merge with RFM3 "
   ]
  },
  {
   "cell_type": "code",
   "execution_count": 347,
   "metadata": {
    "collapsed": true
   },
   "outputs": [],
   "source": [
    "res = pd.merge(res, rfm3, on = 'V1', how = 'right')"
   ]
  },
  {
   "cell_type": "code",
   "execution_count": 324,
   "metadata": {},
   "outputs": [
    {
     "data": {
      "text/html": [
       "<div>\n",
       "<style>\n",
       "    .dataframe thead tr:only-child th {\n",
       "        text-align: right;\n",
       "    }\n",
       "\n",
       "    .dataframe thead th {\n",
       "        text-align: left;\n",
       "    }\n",
       "\n",
       "    .dataframe tbody tr th {\n",
       "        vertical-align: top;\n",
       "    }\n",
       "</style>\n",
       "<table border=\"1\" class=\"dataframe\">\n",
       "  <thead>\n",
       "    <tr style=\"text-align: right;\">\n",
       "      <th></th>\n",
       "      <th>V1</th>\n",
       "      <th>CUSTOMER_ID_x</th>\n",
       "      <th>CUSTOMER_BRANCH_x</th>\n",
       "      <th>ATLAS_CUSTOMER_MAINCODE_FORDUPLICATE</th>\n",
       "      <th>ACCOUNT_TYPE</th>\n",
       "      <th>LIFECYCLESTAGE</th>\n",
       "      <th>COMMERCIAL_STAGE</th>\n",
       "      <th>ATLAS_STATUS</th>\n",
       "      <th>CUSTOMER_TYPE</th>\n",
       "      <th>CUSTOMER_SUBTYPE</th>\n",
       "      <th>...</th>\n",
       "      <th>M1</th>\n",
       "      <th>M2</th>\n",
       "      <th>S1</th>\n",
       "      <th>S2</th>\n",
       "      <th>MainGroup1</th>\n",
       "      <th>MainGroup2</th>\n",
       "      <th>SubGroup1</th>\n",
       "      <th>SubGroup2</th>\n",
       "      <th>sub1</th>\n",
       "      <th>sub2</th>\n",
       "    </tr>\n",
       "  </thead>\n",
       "  <tbody>\n",
       "    <tr>\n",
       "      <th>0</th>\n",
       "      <td>8</td>\n",
       "      <td>8</td>\n",
       "      <td>1</td>\n",
       "      <td>-9999</td>\n",
       "      <td>MAIN ACCOUNT</td>\n",
       "      <td>4. INACTIVE</td>\n",
       "      <td>LOST</td>\n",
       "      <td>INACTIVE</td>\n",
       "      <td>TOUR OPERATOR</td>\n",
       "      <td>NaN</td>\n",
       "      <td>...</td>\n",
       "      <td>2142.09</td>\n",
       "      <td>1987.87</td>\n",
       "      <td>138.0</td>\n",
       "      <td>150.0</td>\n",
       "      <td>3. Experienced Customers</td>\n",
       "      <td>3. Experienced Customers</td>\n",
       "      <td>2.0</td>\n",
       "      <td>2.0</td>\n",
       "      <td>Promising</td>\n",
       "      <td>Promising</td>\n",
       "    </tr>\n",
       "    <tr>\n",
       "      <th>1</th>\n",
       "      <td>693</td>\n",
       "      <td>18</td>\n",
       "      <td>1</td>\n",
       "      <td>-9999</td>\n",
       "      <td>MAIN ACCOUNT</td>\n",
       "      <td>4. INACTIVE</td>\n",
       "      <td>LOST</td>\n",
       "      <td>INACTIVE</td>\n",
       "      <td>NaN</td>\n",
       "      <td>NaN</td>\n",
       "      <td>...</td>\n",
       "      <td>0.00</td>\n",
       "      <td>0.00</td>\n",
       "      <td>137.0</td>\n",
       "      <td>149.0</td>\n",
       "      <td>4. Inactive Experienced Customers</td>\n",
       "      <td>4. Inactive Experienced Customers</td>\n",
       "      <td>NaN</td>\n",
       "      <td>NaN</td>\n",
       "      <td></td>\n",
       "      <td></td>\n",
       "    </tr>\n",
       "    <tr>\n",
       "      <th>2</th>\n",
       "      <td>700</td>\n",
       "      <td>25</td>\n",
       "      <td>1</td>\n",
       "      <td>-9999</td>\n",
       "      <td>MAIN ACCOUNT</td>\n",
       "      <td>4. INACTIVE</td>\n",
       "      <td>LOST</td>\n",
       "      <td>INACTIVE</td>\n",
       "      <td>TOUR OPERATOR</td>\n",
       "      <td>NaN</td>\n",
       "      <td>...</td>\n",
       "      <td>1979.10</td>\n",
       "      <td>3456.89</td>\n",
       "      <td>89.0</td>\n",
       "      <td>101.0</td>\n",
       "      <td>3. Experienced Customers</td>\n",
       "      <td>3. Experienced Customers</td>\n",
       "      <td>6.0</td>\n",
       "      <td>2.0</td>\n",
       "      <td>High_F &amp; Medium_M</td>\n",
       "      <td>Promising</td>\n",
       "    </tr>\n",
       "    <tr>\n",
       "      <th>3</th>\n",
       "      <td>701</td>\n",
       "      <td>27</td>\n",
       "      <td>1</td>\n",
       "      <td>-9999</td>\n",
       "      <td>MAIN ACCOUNT</td>\n",
       "      <td>3.EXISTING CUSTOMER</td>\n",
       "      <td>SELLING</td>\n",
       "      <td>ACTIVE</td>\n",
       "      <td>OTHER TRAVEL COMPANY</td>\n",
       "      <td>DMC</td>\n",
       "      <td>...</td>\n",
       "      <td>0.00</td>\n",
       "      <td>0.00</td>\n",
       "      <td>130.0</td>\n",
       "      <td>142.0</td>\n",
       "      <td>4. Inactive Experienced Customers</td>\n",
       "      <td>4. Inactive Experienced Customers</td>\n",
       "      <td>NaN</td>\n",
       "      <td>NaN</td>\n",
       "      <td></td>\n",
       "      <td></td>\n",
       "    </tr>\n",
       "    <tr>\n",
       "      <th>4</th>\n",
       "      <td>703</td>\n",
       "      <td>29</td>\n",
       "      <td>1</td>\n",
       "      <td>-9999</td>\n",
       "      <td>MAIN ACCOUNT</td>\n",
       "      <td>4. INACTIVE</td>\n",
       "      <td>LOST</td>\n",
       "      <td>INACTIVE</td>\n",
       "      <td>NaN</td>\n",
       "      <td>NaN</td>\n",
       "      <td>...</td>\n",
       "      <td>0.00</td>\n",
       "      <td>0.00</td>\n",
       "      <td>126.0</td>\n",
       "      <td>138.0</td>\n",
       "      <td>4. Inactive Experienced Customers</td>\n",
       "      <td>4. Inactive Experienced Customers</td>\n",
       "      <td>NaN</td>\n",
       "      <td>NaN</td>\n",
       "      <td></td>\n",
       "      <td></td>\n",
       "    </tr>\n",
       "  </tbody>\n",
       "</table>\n",
       "<p>5 rows × 987 columns</p>\n",
       "</div>"
      ],
      "text/plain": [
       "    V1  CUSTOMER_ID_x  CUSTOMER_BRANCH_x  \\\n",
       "0    8              8                  1   \n",
       "1  693             18                  1   \n",
       "2  700             25                  1   \n",
       "3  701             27                  1   \n",
       "4  703             29                  1   \n",
       "\n",
       "   ATLAS_CUSTOMER_MAINCODE_FORDUPLICATE  ACCOUNT_TYPE       LIFECYCLESTAGE  \\\n",
       "0                                 -9999  MAIN ACCOUNT          4. INACTIVE   \n",
       "1                                 -9999  MAIN ACCOUNT          4. INACTIVE   \n",
       "2                                 -9999  MAIN ACCOUNT          4. INACTIVE   \n",
       "3                                 -9999  MAIN ACCOUNT  3.EXISTING CUSTOMER   \n",
       "4                                 -9999  MAIN ACCOUNT          4. INACTIVE   \n",
       "\n",
       "  COMMERCIAL_STAGE ATLAS_STATUS         CUSTOMER_TYPE CUSTOMER_SUBTYPE  \\\n",
       "0             LOST     INACTIVE         TOUR OPERATOR              NaN   \n",
       "1             LOST     INACTIVE                   NaN              NaN   \n",
       "2             LOST     INACTIVE         TOUR OPERATOR              NaN   \n",
       "3          SELLING       ACTIVE  OTHER TRAVEL COMPANY              DMC   \n",
       "4             LOST     INACTIVE                   NaN              NaN   \n",
       "\n",
       "     ...           M1       M2     S1     S2  \\\n",
       "0    ...      2142.09  1987.87  138.0  150.0   \n",
       "1    ...         0.00     0.00  137.0  149.0   \n",
       "2    ...      1979.10  3456.89   89.0  101.0   \n",
       "3    ...         0.00     0.00  130.0  142.0   \n",
       "4    ...         0.00     0.00  126.0  138.0   \n",
       "\n",
       "                          MainGroup1                         MainGroup2  \\\n",
       "0           3. Experienced Customers           3. Experienced Customers   \n",
       "1  4. Inactive Experienced Customers  4. Inactive Experienced Customers   \n",
       "2           3. Experienced Customers           3. Experienced Customers   \n",
       "3  4. Inactive Experienced Customers  4. Inactive Experienced Customers   \n",
       "4  4. Inactive Experienced Customers  4. Inactive Experienced Customers   \n",
       "\n",
       "  SubGroup1 SubGroup2               sub1       sub2  \n",
       "0       2.0       2.0          Promising  Promising  \n",
       "1       NaN       NaN                                \n",
       "2       6.0       2.0  High_F & Medium_M  Promising  \n",
       "3       NaN       NaN                                \n",
       "4       NaN       NaN                                \n",
       "\n",
       "[5 rows x 987 columns]"
      ]
     },
     "execution_count": 324,
     "metadata": {},
     "output_type": "execute_result"
    }
   ],
   "source": [
    "res.head()"
   ]
  },
  {
   "cell_type": "code",
   "execution_count": 348,
   "metadata": {},
   "outputs": [
    {
     "data": {
      "text/plain": [
       "array(['', 'Middle_F', 'High_F & Medium_M', 'Medium_High_Risk',\n",
       "       'Medium_Risk', 'High_F & Medium_F', 'Promising', 'Top'], dtype=object)"
      ]
     },
     "execution_count": 348,
     "metadata": {},
     "output_type": "execute_result"
    }
   ],
   "source": [
    "res['sub2_x'].unique()"
   ]
  },
  {
   "cell_type": "code",
   "execution_count": 349,
   "metadata": {},
   "outputs": [
    {
     "data": {
      "text/plain": [
       "array(['Promising', '', 'Middle_F', 'High_F & Medium_M', 'High_Risk',\n",
       "       'Medium_High_Risk', 'Top', 'Elite'], dtype=object)"
      ]
     },
     "execution_count": 349,
     "metadata": {},
     "output_type": "execute_result"
    }
   ],
   "source": [
    "res['sub2'].unique()"
   ]
  },
  {
   "cell_type": "code",
   "execution_count": 350,
   "metadata": {},
   "outputs": [
    {
     "data": {
      "text/plain": [
       "array(['', 'Middle_F', 'High_F & Medium_M', 'Medium_High_Risk',\n",
       "       'Promising', 'Top'], dtype=object)"
      ]
     },
     "execution_count": 350,
     "metadata": {},
     "output_type": "execute_result"
    }
   ],
   "source": [
    "res['sub2_y'].unique()"
   ]
  },
  {
   "cell_type": "code",
   "execution_count": 351,
   "metadata": {
    "collapsed": true
   },
   "outputs": [],
   "source": [
    "res['SubGroup1_x'] = res.apply(lambda x: x['SubGroup1'] if np.isnan(x['SubGroup1_x']) \\\n",
    "                               else x['SubGroup1_x'], axis = 1)"
   ]
  },
  {
   "cell_type": "code",
   "execution_count": 352,
   "metadata": {
    "collapsed": true
   },
   "outputs": [],
   "source": [
    "res['SubGroup2_x'] = res.apply(lambda x: x['SubGroup2'] if np.isnan(x['SubGroup2_x']) \\\n",
    "                               else x['SubGroup2_x'], axis = 1)"
   ]
  },
  {
   "cell_type": "code",
   "execution_count": 353,
   "metadata": {
    "collapsed": true
   },
   "outputs": [],
   "source": [
    "res['sub1_x'] = res.apply(lambda x: fillSubgroup3(x['sub1_x'], x['SubGroup1_x']), axis = 1)\n",
    "res['sub2_x'] = res.apply(lambda x: fillSubgroup3(x['sub2_x'], x['SubGroup2_x']), axis = 1)"
   ]
  },
  {
   "cell_type": "code",
   "execution_count": 354,
   "metadata": {},
   "outputs": [
    {
     "data": {
      "text/plain": [
       "array(['Promising', '', 'High_F & Medium_M', 'Middle_F',\n",
       "       'Medium_High_Risk', 'High_Risk', 'Top', 'Medium_Risk',\n",
       "       'High_F & Medium_F'], dtype=object)"
      ]
     },
     "execution_count": 354,
     "metadata": {},
     "output_type": "execute_result"
    }
   ],
   "source": [
    "res.sub1_x.unique()"
   ]
  },
  {
   "cell_type": "code",
   "execution_count": 355,
   "metadata": {},
   "outputs": [
    {
     "data": {
      "text/plain": [
       "array(['Promising', '', 'Middle_F', 'High_F & Medium_M', 'High_Risk',\n",
       "       'Medium_High_Risk', 'Top', 'Medium_Risk', 'High_F & Medium_F',\n",
       "       'Elite'], dtype=object)"
      ]
     },
     "execution_count": 355,
     "metadata": {},
     "output_type": "execute_result"
    }
   ],
   "source": [
    "res.sub2_x.unique()"
   ]
  },
  {
   "cell_type": "code",
   "execution_count": 356,
   "metadata": {},
   "outputs": [
    {
     "data": {
      "text/plain": [
       "3.0    1501\n",
       "4.0     725\n",
       "1.0     593\n",
       "2.0      60\n",
       "Name: SubGroup1, dtype: int64"
      ]
     },
     "execution_count": 356,
     "metadata": {},
     "output_type": "execute_result"
    }
   ],
   "source": [
    "rfm1['SubGroup1'].value_counts()"
   ]
  },
  {
   "cell_type": "code",
   "execution_count": 357,
   "metadata": {},
   "outputs": [
    {
     "data": {
      "text/plain": [
       "5.0    944\n",
       "2.0    923\n",
       "1.0    481\n",
       "4.0     14\n",
       "3.0      2\n",
       "Name: SubGroup1, dtype: int64"
      ]
     },
     "execution_count": 357,
     "metadata": {},
     "output_type": "execute_result"
    }
   ],
   "source": [
    "rfm2['SubGroup1'].value_counts()"
   ]
  },
  {
   "cell_type": "code",
   "execution_count": 358,
   "metadata": {},
   "outputs": [
    {
     "data": {
      "text/plain": [
       "1.0    3963\n",
       "6.0    3466\n",
       "2.0    3339\n",
       "4.0    2216\n",
       "7.0    1232\n",
       "3.0      20\n",
       "Name: SubGroup1, dtype: int64"
      ]
     },
     "execution_count": 358,
     "metadata": {},
     "output_type": "execute_result"
    }
   ],
   "source": [
    "rfm3['SubGroup1'].value_counts()"
   ]
  },
  {
   "cell_type": "code",
   "execution_count": 359,
   "metadata": {},
   "outputs": [
    {
     "data": {
      "text/plain": [
       "1.0    5037\n",
       "2.0    4322\n",
       "6.0    3466\n",
       "4.0    2955\n",
       "3.0    1523\n",
       "7.0    1232\n",
       "5.0     944\n",
       "Name: SubGroup1_x, dtype: int64"
      ]
     },
     "execution_count": 359,
     "metadata": {},
     "output_type": "execute_result"
    }
   ],
   "source": [
    "res['SubGroup1_x'].value_counts()"
   ]
  },
  {
   "cell_type": "code",
   "execution_count": 366,
   "metadata": {},
   "outputs": [
    {
     "name": "stderr",
     "output_type": "stream",
     "text": [
      "/anaconda/envs/python3/lib/python3.5/site-packages/pandas/core/indexes/base.py:1700: VisibleDeprecationWarning: boolean index did not match indexed array along dimension 0; dimension is 77702 but corresponding boolean dimension is 987\n",
      "  result = getitem(key)\n"
     ]
    },
    {
     "data": {
      "text/plain": [
       "Int64Index([951], dtype='int64')"
      ]
     },
     "execution_count": 366,
     "metadata": {},
     "output_type": "execute_result"
    }
   ],
   "source": [
    "res.index[res.columns == 'SubGroup1_x']"
   ]
  },
  {
   "cell_type": "code",
   "execution_count": 367,
   "metadata": {},
   "outputs": [
    {
     "data": {
      "text/plain": [
       "'SubGroup1_x'"
      ]
     },
     "execution_count": 367,
     "metadata": {},
     "output_type": "execute_result"
    }
   ],
   "source": [
    "res.columns[951]"
   ]
  },
  {
   "cell_type": "code",
   "execution_count": 370,
   "metadata": {},
   "outputs": [
    {
     "data": {
      "text/plain": [
       "'CUSTOMER_ID_x'"
      ]
     },
     "execution_count": 370,
     "metadata": {},
     "output_type": "execute_result"
    }
   ],
   "source": [
    "res.columns[954]"
   ]
  },
  {
   "cell_type": "code",
   "execution_count": 387,
   "metadata": {
    "collapsed": true
   },
   "outputs": [],
   "source": [
    "result = res.iloc[:,:955]"
   ]
  },
  {
   "cell_type": "code",
   "execution_count": 388,
   "metadata": {},
   "outputs": [
    {
     "data": {
      "text/html": [
       "<div>\n",
       "<style>\n",
       "    .dataframe thead tr:only-child th {\n",
       "        text-align: right;\n",
       "    }\n",
       "\n",
       "    .dataframe thead th {\n",
       "        text-align: left;\n",
       "    }\n",
       "\n",
       "    .dataframe tbody tr th {\n",
       "        vertical-align: top;\n",
       "    }\n",
       "</style>\n",
       "<table border=\"1\" class=\"dataframe\">\n",
       "  <thead>\n",
       "    <tr style=\"text-align: right;\">\n",
       "      <th></th>\n",
       "      <th>V1</th>\n",
       "      <th>CUSTOMER_ID_x</th>\n",
       "      <th>CUSTOMER_BRANCH_x</th>\n",
       "      <th>ATLAS_CUSTOMER_MAINCODE_FORDUPLICATE</th>\n",
       "      <th>ACCOUNT_TYPE</th>\n",
       "      <th>LIFECYCLESTAGE</th>\n",
       "      <th>COMMERCIAL_STAGE</th>\n",
       "      <th>ATLAS_STATUS</th>\n",
       "      <th>CUSTOMER_TYPE</th>\n",
       "      <th>CUSTOMER_SUBTYPE</th>\n",
       "      <th>...</th>\n",
       "      <th>M1_x</th>\n",
       "      <th>M2_x</th>\n",
       "      <th>S1_x</th>\n",
       "      <th>S2_x</th>\n",
       "      <th>MainGroup1_x</th>\n",
       "      <th>MainGroup2_x</th>\n",
       "      <th>SubGroup1_x</th>\n",
       "      <th>SubGroup2_x</th>\n",
       "      <th>sub1_x</th>\n",
       "      <th>sub2_x</th>\n",
       "    </tr>\n",
       "  </thead>\n",
       "  <tbody>\n",
       "    <tr>\n",
       "      <th>0</th>\n",
       "      <td>8</td>\n",
       "      <td>8</td>\n",
       "      <td>1</td>\n",
       "      <td>-9999</td>\n",
       "      <td>MAIN ACCOUNT</td>\n",
       "      <td>4. INACTIVE</td>\n",
       "      <td>LOST</td>\n",
       "      <td>INACTIVE</td>\n",
       "      <td>TOUR OPERATOR</td>\n",
       "      <td>NaN</td>\n",
       "      <td>...</td>\n",
       "      <td>2142.09</td>\n",
       "      <td>1987.87</td>\n",
       "      <td>138.0</td>\n",
       "      <td>150.0</td>\n",
       "      <td>3. Experienced Customers</td>\n",
       "      <td>3. Experienced Customers</td>\n",
       "      <td>2.0</td>\n",
       "      <td>2.0</td>\n",
       "      <td>Promising</td>\n",
       "      <td>Promising</td>\n",
       "    </tr>\n",
       "    <tr>\n",
       "      <th>1</th>\n",
       "      <td>693</td>\n",
       "      <td>18</td>\n",
       "      <td>1</td>\n",
       "      <td>-9999</td>\n",
       "      <td>MAIN ACCOUNT</td>\n",
       "      <td>4. INACTIVE</td>\n",
       "      <td>LOST</td>\n",
       "      <td>INACTIVE</td>\n",
       "      <td>NaN</td>\n",
       "      <td>NaN</td>\n",
       "      <td>...</td>\n",
       "      <td>0.00</td>\n",
       "      <td>0.00</td>\n",
       "      <td>137.0</td>\n",
       "      <td>149.0</td>\n",
       "      <td>4. Inactive Experienced Customers</td>\n",
       "      <td>4. Inactive Experienced Customers</td>\n",
       "      <td>NaN</td>\n",
       "      <td>NaN</td>\n",
       "      <td></td>\n",
       "      <td></td>\n",
       "    </tr>\n",
       "    <tr>\n",
       "      <th>2</th>\n",
       "      <td>700</td>\n",
       "      <td>25</td>\n",
       "      <td>1</td>\n",
       "      <td>-9999</td>\n",
       "      <td>MAIN ACCOUNT</td>\n",
       "      <td>4. INACTIVE</td>\n",
       "      <td>LOST</td>\n",
       "      <td>INACTIVE</td>\n",
       "      <td>TOUR OPERATOR</td>\n",
       "      <td>NaN</td>\n",
       "      <td>...</td>\n",
       "      <td>1979.10</td>\n",
       "      <td>3456.89</td>\n",
       "      <td>89.0</td>\n",
       "      <td>101.0</td>\n",
       "      <td>3. Experienced Customers</td>\n",
       "      <td>3. Experienced Customers</td>\n",
       "      <td>6.0</td>\n",
       "      <td>2.0</td>\n",
       "      <td>High_F &amp; Medium_M</td>\n",
       "      <td>Promising</td>\n",
       "    </tr>\n",
       "    <tr>\n",
       "      <th>3</th>\n",
       "      <td>701</td>\n",
       "      <td>27</td>\n",
       "      <td>1</td>\n",
       "      <td>-9999</td>\n",
       "      <td>MAIN ACCOUNT</td>\n",
       "      <td>3.EXISTING CUSTOMER</td>\n",
       "      <td>SELLING</td>\n",
       "      <td>ACTIVE</td>\n",
       "      <td>OTHER TRAVEL COMPANY</td>\n",
       "      <td>DMC</td>\n",
       "      <td>...</td>\n",
       "      <td>0.00</td>\n",
       "      <td>0.00</td>\n",
       "      <td>130.0</td>\n",
       "      <td>142.0</td>\n",
       "      <td>4. Inactive Experienced Customers</td>\n",
       "      <td>4. Inactive Experienced Customers</td>\n",
       "      <td>NaN</td>\n",
       "      <td>NaN</td>\n",
       "      <td></td>\n",
       "      <td></td>\n",
       "    </tr>\n",
       "    <tr>\n",
       "      <th>4</th>\n",
       "      <td>703</td>\n",
       "      <td>29</td>\n",
       "      <td>1</td>\n",
       "      <td>-9999</td>\n",
       "      <td>MAIN ACCOUNT</td>\n",
       "      <td>4. INACTIVE</td>\n",
       "      <td>LOST</td>\n",
       "      <td>INACTIVE</td>\n",
       "      <td>NaN</td>\n",
       "      <td>NaN</td>\n",
       "      <td>...</td>\n",
       "      <td>0.00</td>\n",
       "      <td>0.00</td>\n",
       "      <td>126.0</td>\n",
       "      <td>138.0</td>\n",
       "      <td>4. Inactive Experienced Customers</td>\n",
       "      <td>4. Inactive Experienced Customers</td>\n",
       "      <td>NaN</td>\n",
       "      <td>NaN</td>\n",
       "      <td></td>\n",
       "      <td></td>\n",
       "    </tr>\n",
       "  </tbody>\n",
       "</table>\n",
       "<p>5 rows × 955 columns</p>\n",
       "</div>"
      ],
      "text/plain": [
       "    V1  CUSTOMER_ID_x  CUSTOMER_BRANCH_x  \\\n",
       "0    8              8                  1   \n",
       "1  693             18                  1   \n",
       "2  700             25                  1   \n",
       "3  701             27                  1   \n",
       "4  703             29                  1   \n",
       "\n",
       "   ATLAS_CUSTOMER_MAINCODE_FORDUPLICATE  ACCOUNT_TYPE       LIFECYCLESTAGE  \\\n",
       "0                                 -9999  MAIN ACCOUNT          4. INACTIVE   \n",
       "1                                 -9999  MAIN ACCOUNT          4. INACTIVE   \n",
       "2                                 -9999  MAIN ACCOUNT          4. INACTIVE   \n",
       "3                                 -9999  MAIN ACCOUNT  3.EXISTING CUSTOMER   \n",
       "4                                 -9999  MAIN ACCOUNT          4. INACTIVE   \n",
       "\n",
       "  COMMERCIAL_STAGE ATLAS_STATUS         CUSTOMER_TYPE CUSTOMER_SUBTYPE  \\\n",
       "0             LOST     INACTIVE         TOUR OPERATOR              NaN   \n",
       "1             LOST     INACTIVE                   NaN              NaN   \n",
       "2             LOST     INACTIVE         TOUR OPERATOR              NaN   \n",
       "3          SELLING       ACTIVE  OTHER TRAVEL COMPANY              DMC   \n",
       "4             LOST     INACTIVE                   NaN              NaN   \n",
       "\n",
       "     ...         M1_x     M2_x   S1_x   S2_x  \\\n",
       "0    ...      2142.09  1987.87  138.0  150.0   \n",
       "1    ...         0.00     0.00  137.0  149.0   \n",
       "2    ...      1979.10  3456.89   89.0  101.0   \n",
       "3    ...         0.00     0.00  130.0  142.0   \n",
       "4    ...         0.00     0.00  126.0  138.0   \n",
       "\n",
       "                        MainGroup1_x                       MainGroup2_x  \\\n",
       "0           3. Experienced Customers           3. Experienced Customers   \n",
       "1  4. Inactive Experienced Customers  4. Inactive Experienced Customers   \n",
       "2           3. Experienced Customers           3. Experienced Customers   \n",
       "3  4. Inactive Experienced Customers  4. Inactive Experienced Customers   \n",
       "4  4. Inactive Experienced Customers  4. Inactive Experienced Customers   \n",
       "\n",
       "  SubGroup1_x SubGroup2_x             sub1_x     sub2_x  \n",
       "0         2.0         2.0          Promising  Promising  \n",
       "1         NaN         NaN                                \n",
       "2         6.0         2.0  High_F & Medium_M  Promising  \n",
       "3         NaN         NaN                                \n",
       "4         NaN         NaN                                \n",
       "\n",
       "[5 rows x 955 columns]"
      ]
     },
     "execution_count": 388,
     "metadata": {},
     "output_type": "execute_result"
    }
   ],
   "source": [
    "result.head()"
   ]
  },
  {
   "cell_type": "code",
   "execution_count": 389,
   "metadata": {},
   "outputs": [
    {
     "data": {
      "text/plain": [
       "array(['Promising', '', 'Middle_F', 'High_F & Medium_M', 'High_Risk',\n",
       "       'Medium_High_Risk', 'Top', 'Medium_Risk', 'High_F & Medium_F',\n",
       "       'Elite'], dtype=object)"
      ]
     },
     "execution_count": 389,
     "metadata": {},
     "output_type": "execute_result"
    }
   ],
   "source": [
    "result.sub2_x.unique()"
   ]
  },
  {
   "cell_type": "code",
   "execution_count": 390,
   "metadata": {
    "collapsed": true
   },
   "outputs": [],
   "source": [
    "result.to_csv('masterv2.csv')"
   ]
  },
  {
   "cell_type": "code",
   "execution_count": null,
   "metadata": {
    "collapsed": true
   },
   "outputs": [],
   "source": []
  }
 ],
 "metadata": {
  "kernelspec": {
   "display_name": "Python 3",
   "language": "python",
   "name": "python3"
  },
  "language_info": {
   "codemirror_mode": {
    "name": "ipython",
    "version": 3
   },
   "file_extension": ".py",
   "mimetype": "text/x-python",
   "name": "python",
   "nbconvert_exporter": "python",
   "pygments_lexer": "ipython3",
   "version": "3.5.3"
  }
 },
 "nbformat": 4,
 "nbformat_minor": 2
}
