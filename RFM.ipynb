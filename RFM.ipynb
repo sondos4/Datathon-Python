{
 "cells": [
  {
   "cell_type": "code",
   "execution_count": 1,
   "metadata": {
    "collapsed": true
   },
   "outputs": [],
   "source": [
    "import pandas as pd\n",
    "import numpy as np"
   ]
  },
  {
   "cell_type": "code",
   "execution_count": 2,
   "metadata": {},
   "outputs": [
    {
     "name": "stderr",
     "output_type": "stream",
     "text": [
      "/anaconda/envs/python3/lib/python3.5/site-packages/IPython/core/interactiveshell.py:2683: DtypeWarning: Columns (9,10,12,14,15,16,17,21,22,23,24,25,26,27,28,29) have mixed types. Specify dtype option on import or set low_memory=False.\n",
      "  interactivity=interactivity, compiler=compiler, result=result)\n"
     ]
    }
   ],
   "source": [
    "orig = pd.read_csv(\"Processed_CLIENT_ID_BRANCH_MASTERSUMMARYTABLEv1.0.csv\", header=0, encoding = \"ISO-8859-1\")"
   ]
  },
  {
   "cell_type": "code",
   "execution_count": 66,
   "metadata": {
    "collapsed": true
   },
   "outputs": [],
   "source": [
    "df = orig.copy()"
   ]
  },
  {
   "cell_type": "code",
   "execution_count": 4,
   "metadata": {},
   "outputs": [
    {
     "data": {
      "text/plain": [
       "Index(['COMMERCIAL_MANAGEMENT', 'BRANCH_TYPE', 'DISTRIBUTION_TYPE',\n",
       "       'INACTIVE_DATE', 'ACQCHANNEL_TYPE', 'ACQCHANNEL_DESC', 'ACQ_DATE',\n",
       "       'CUSTOMER_POSTCODE', 'Activities_FIRSTBOOKINGDATE',\n",
       "       'Carhire_FIRSTBOOKINGDATE', 'Hotel_FIRSTBOOKINGDATE',\n",
       "       'Transfers_FIRSTBOOKINGDATE', 'Activities_LASTBOOKINGDATE',\n",
       "       'Carhire_LASTBOOKINGDATE', 'Hotel_LASTBOOKINGDATE',\n",
       "       'Transfers_LASTBOOKINGDATE'],\n",
       "      dtype='object')"
      ]
     },
     "execution_count": 4,
     "metadata": {},
     "output_type": "execute_result"
    }
   ],
   "source": [
    "df.columns[[9,10,12,14,15,16,17,21,22,23,24,25,26,27,28,29]]"
   ]
  },
  {
   "cell_type": "code",
   "execution_count": 5,
   "metadata": {},
   "outputs": [
    {
     "data": {
      "text/plain": [
       "0            NaN\n",
       "1            NaN\n",
       "2            NaN\n",
       "3            NaN\n",
       "4            NaN\n",
       "5            NaN\n",
       "6            NaN\n",
       "7            NaN\n",
       "8       6/2/2011\n",
       "9       6/3/2004\n",
       "10     4/18/2006\n",
       "11     7/26/2004\n",
       "12    10/28/2004\n",
       "13      8/2/2005\n",
       "14     9/13/2004\n",
       "15      8/4/2004\n",
       "16      7/7/2004\n",
       "17           NaN\n",
       "18     5/25/2004\n",
       "19    11/26/2004\n",
       "Name: Activities_FIRSTBOOKINGDATE, dtype: object"
      ]
     },
     "execution_count": 5,
     "metadata": {},
     "output_type": "execute_result"
    }
   ],
   "source": [
    "df['Activities_FIRSTBOOKINGDATE'].head(20)"
   ]
  },
  {
   "cell_type": "code",
   "execution_count": 248,
   "metadata": {},
   "outputs": [
    {
     "data": {
      "text/html": [
       "<div>\n",
       "<style>\n",
       "    .dataframe thead tr:only-child th {\n",
       "        text-align: right;\n",
       "    }\n",
       "\n",
       "    .dataframe thead th {\n",
       "        text-align: left;\n",
       "    }\n",
       "\n",
       "    .dataframe tbody tr th {\n",
       "        vertical-align: top;\n",
       "    }\n",
       "</style>\n",
       "<table border=\"1\" class=\"dataframe\">\n",
       "  <thead>\n",
       "    <tr style=\"text-align: right;\">\n",
       "      <th></th>\n",
       "      <th>CUSTOMER_ID</th>\n",
       "      <th>CUSTOMER_BRANCH</th>\n",
       "      <th>ATLAS_CUSTOMER_MAINCODE_FORDUPLICATE</th>\n",
       "      <th>ACCOUNT_TYPE</th>\n",
       "      <th>LIFECYCLESTAGE</th>\n",
       "      <th>COMMERCIAL_STAGE</th>\n",
       "      <th>ATLAS_STATUS</th>\n",
       "      <th>CUSTOMER_TYPE</th>\n",
       "      <th>CUSTOMER_SUBTYPE</th>\n",
       "      <th>COMMERCIAL_MANAGEMENT</th>\n",
       "      <th>...</th>\n",
       "      <th>TRANSFERS_BOOKING_CANCELLATION_COUNT_2015 - 06</th>\n",
       "      <th>TRANSFERS_BOOKING_CANCELLATION_COUNT_2015 - 07</th>\n",
       "      <th>TRANSFERS_BOOKING_CANCELLATION_COUNT_2015 - 08</th>\n",
       "      <th>TRANSFERS_BOOKING_CANCELLATION_COUNT_2015 - 09</th>\n",
       "      <th>TRANSFERS_BOOKING_CANCELLATION_COUNT_2015 - 10</th>\n",
       "      <th>TRANSFERS_BOOKING_CANCELLATION_COUNT_2015 - 11</th>\n",
       "      <th>TRANSFERS_BOOKING_CANCELLATION_COUNT_2015 - 12</th>\n",
       "      <th>TRANSFERS_BOOKING_CANCELLATION_COUNT_2016 - 01</th>\n",
       "      <th>TRANSFERS_BOOKING_CANCELLATION_COUNT_2016 - 02</th>\n",
       "      <th>TRANSFERS_BOOKING_CANCELLATION_COUNT_2016 - 03</th>\n",
       "    </tr>\n",
       "  </thead>\n",
       "  <tbody>\n",
       "    <tr>\n",
       "      <th>0</th>\n",
       "      <td>1</td>\n",
       "      <td>1</td>\n",
       "      <td>-9999</td>\n",
       "      <td>BRANCH</td>\n",
       "      <td>4. INACTIVE</td>\n",
       "      <td>LOST</td>\n",
       "      <td>INACTIVE</td>\n",
       "      <td>TRAVEL AGENCY</td>\n",
       "      <td>NaN</td>\n",
       "      <td>NaN</td>\n",
       "      <td>...</td>\n",
       "      <td>NaN</td>\n",
       "      <td>NaN</td>\n",
       "      <td>NaN</td>\n",
       "      <td>NaN</td>\n",
       "      <td>NaN</td>\n",
       "      <td>NaN</td>\n",
       "      <td>NaN</td>\n",
       "      <td>NaN</td>\n",
       "      <td>NaN</td>\n",
       "      <td>NaN</td>\n",
       "    </tr>\n",
       "    <tr>\n",
       "      <th>1</th>\n",
       "      <td>2</td>\n",
       "      <td>1</td>\n",
       "      <td>31652</td>\n",
       "      <td>DUPLICATE BRANCH</td>\n",
       "      <td>4. INACTIVE</td>\n",
       "      <td>NaN</td>\n",
       "      <td>INACTIVE</td>\n",
       "      <td>TRAVEL AGENCY</td>\n",
       "      <td>FRANCHISE/OWN BRANCHES</td>\n",
       "      <td>NaN</td>\n",
       "      <td>...</td>\n",
       "      <td>NaN</td>\n",
       "      <td>NaN</td>\n",
       "      <td>NaN</td>\n",
       "      <td>NaN</td>\n",
       "      <td>NaN</td>\n",
       "      <td>NaN</td>\n",
       "      <td>NaN</td>\n",
       "      <td>NaN</td>\n",
       "      <td>NaN</td>\n",
       "      <td>NaN</td>\n",
       "    </tr>\n",
       "    <tr>\n",
       "      <th>2</th>\n",
       "      <td>3</td>\n",
       "      <td>1</td>\n",
       "      <td>-9999</td>\n",
       "      <td>MAIN ACCOUNT</td>\n",
       "      <td>4. INACTIVE</td>\n",
       "      <td>LOST</td>\n",
       "      <td>INACTIVE</td>\n",
       "      <td>TOUR OPERATOR</td>\n",
       "      <td>NaN</td>\n",
       "      <td>NaN</td>\n",
       "      <td>...</td>\n",
       "      <td>NaN</td>\n",
       "      <td>NaN</td>\n",
       "      <td>NaN</td>\n",
       "      <td>NaN</td>\n",
       "      <td>NaN</td>\n",
       "      <td>NaN</td>\n",
       "      <td>NaN</td>\n",
       "      <td>NaN</td>\n",
       "      <td>NaN</td>\n",
       "      <td>NaN</td>\n",
       "    </tr>\n",
       "    <tr>\n",
       "      <th>3</th>\n",
       "      <td>4</td>\n",
       "      <td>1</td>\n",
       "      <td>-9999</td>\n",
       "      <td>MAIN ACCOUNT</td>\n",
       "      <td>4. INACTIVE</td>\n",
       "      <td>LOST</td>\n",
       "      <td>INACTIVE</td>\n",
       "      <td>TOUR OPERATOR</td>\n",
       "      <td>NaN</td>\n",
       "      <td>NaN</td>\n",
       "      <td>...</td>\n",
       "      <td>NaN</td>\n",
       "      <td>NaN</td>\n",
       "      <td>NaN</td>\n",
       "      <td>NaN</td>\n",
       "      <td>NaN</td>\n",
       "      <td>NaN</td>\n",
       "      <td>NaN</td>\n",
       "      <td>NaN</td>\n",
       "      <td>NaN</td>\n",
       "      <td>NaN</td>\n",
       "    </tr>\n",
       "    <tr>\n",
       "      <th>4</th>\n",
       "      <td>5</td>\n",
       "      <td>1</td>\n",
       "      <td>-9999</td>\n",
       "      <td>MAIN ACCOUNT</td>\n",
       "      <td>4. INACTIVE</td>\n",
       "      <td>LOST</td>\n",
       "      <td>INACTIVE</td>\n",
       "      <td>TOUR OPERATOR</td>\n",
       "      <td>NaN</td>\n",
       "      <td>NaN</td>\n",
       "      <td>...</td>\n",
       "      <td>NaN</td>\n",
       "      <td>NaN</td>\n",
       "      <td>NaN</td>\n",
       "      <td>NaN</td>\n",
       "      <td>NaN</td>\n",
       "      <td>NaN</td>\n",
       "      <td>NaN</td>\n",
       "      <td>NaN</td>\n",
       "      <td>NaN</td>\n",
       "      <td>NaN</td>\n",
       "    </tr>\n",
       "  </tbody>\n",
       "</table>\n",
       "<p>5 rows × 873 columns</p>\n",
       "</div>"
      ],
      "text/plain": [
       "   CUSTOMER_ID  CUSTOMER_BRANCH  ATLAS_CUSTOMER_MAINCODE_FORDUPLICATE  \\\n",
       "0            1                1                                 -9999   \n",
       "1            2                1                                 31652   \n",
       "2            3                1                                 -9999   \n",
       "3            4                1                                 -9999   \n",
       "4            5                1                                 -9999   \n",
       "\n",
       "       ACCOUNT_TYPE LIFECYCLESTAGE COMMERCIAL_STAGE ATLAS_STATUS  \\\n",
       "0            BRANCH    4. INACTIVE             LOST     INACTIVE   \n",
       "1  DUPLICATE BRANCH    4. INACTIVE              NaN     INACTIVE   \n",
       "2      MAIN ACCOUNT    4. INACTIVE             LOST     INACTIVE   \n",
       "3      MAIN ACCOUNT    4. INACTIVE             LOST     INACTIVE   \n",
       "4      MAIN ACCOUNT    4. INACTIVE             LOST     INACTIVE   \n",
       "\n",
       "   CUSTOMER_TYPE        CUSTOMER_SUBTYPE COMMERCIAL_MANAGEMENT  \\\n",
       "0  TRAVEL AGENCY                     NaN                   NaN   \n",
       "1  TRAVEL AGENCY  FRANCHISE/OWN BRANCHES                   NaN   \n",
       "2  TOUR OPERATOR                     NaN                   NaN   \n",
       "3  TOUR OPERATOR                     NaN                   NaN   \n",
       "4  TOUR OPERATOR                     NaN                   NaN   \n",
       "\n",
       "                       ...                        \\\n",
       "0                      ...                         \n",
       "1                      ...                         \n",
       "2                      ...                         \n",
       "3                      ...                         \n",
       "4                      ...                         \n",
       "\n",
       "  TRANSFERS_BOOKING_CANCELLATION_COUNT_2015 - 06  \\\n",
       "0                                            NaN   \n",
       "1                                            NaN   \n",
       "2                                            NaN   \n",
       "3                                            NaN   \n",
       "4                                            NaN   \n",
       "\n",
       "   TRANSFERS_BOOKING_CANCELLATION_COUNT_2015 - 07  \\\n",
       "0                                             NaN   \n",
       "1                                             NaN   \n",
       "2                                             NaN   \n",
       "3                                             NaN   \n",
       "4                                             NaN   \n",
       "\n",
       "  TRANSFERS_BOOKING_CANCELLATION_COUNT_2015 - 08  \\\n",
       "0                                            NaN   \n",
       "1                                            NaN   \n",
       "2                                            NaN   \n",
       "3                                            NaN   \n",
       "4                                            NaN   \n",
       "\n",
       "  TRANSFERS_BOOKING_CANCELLATION_COUNT_2015 - 09  \\\n",
       "0                                            NaN   \n",
       "1                                            NaN   \n",
       "2                                            NaN   \n",
       "3                                            NaN   \n",
       "4                                            NaN   \n",
       "\n",
       "  TRANSFERS_BOOKING_CANCELLATION_COUNT_2015 - 10  \\\n",
       "0                                            NaN   \n",
       "1                                            NaN   \n",
       "2                                            NaN   \n",
       "3                                            NaN   \n",
       "4                                            NaN   \n",
       "\n",
       "  TRANSFERS_BOOKING_CANCELLATION_COUNT_2015 - 11  \\\n",
       "0                                            NaN   \n",
       "1                                            NaN   \n",
       "2                                            NaN   \n",
       "3                                            NaN   \n",
       "4                                            NaN   \n",
       "\n",
       "  TRANSFERS_BOOKING_CANCELLATION_COUNT_2015 - 12  \\\n",
       "0                                            NaN   \n",
       "1                                            NaN   \n",
       "2                                            NaN   \n",
       "3                                            NaN   \n",
       "4                                            NaN   \n",
       "\n",
       "  TRANSFERS_BOOKING_CANCELLATION_COUNT_2016 - 01  \\\n",
       "0                                            NaN   \n",
       "1                                            NaN   \n",
       "2                                            NaN   \n",
       "3                                            NaN   \n",
       "4                                            NaN   \n",
       "\n",
       "  TRANSFERS_BOOKING_CANCELLATION_COUNT_2016 - 02  \\\n",
       "0                                            NaN   \n",
       "1                                            NaN   \n",
       "2                                            NaN   \n",
       "3                                            NaN   \n",
       "4                                            NaN   \n",
       "\n",
       "  TRANSFERS_BOOKING_CANCELLATION_COUNT_2016 - 03  \n",
       "0                                            NaN  \n",
       "1                                            NaN  \n",
       "2                                            NaN  \n",
       "3                                            NaN  \n",
       "4                                            NaN  \n",
       "\n",
       "[5 rows x 873 columns]"
      ]
     },
     "execution_count": 248,
     "metadata": {},
     "output_type": "execute_result"
    }
   ],
   "source": [
    "df.head()"
   ]
  },
  {
   "cell_type": "code",
   "execution_count": 7,
   "metadata": {},
   "outputs": [
    {
     "data": {
      "text/html": [
       "<div>\n",
       "<style>\n",
       "    .dataframe thead tr:only-child th {\n",
       "        text-align: right;\n",
       "    }\n",
       "\n",
       "    .dataframe thead th {\n",
       "        text-align: left;\n",
       "    }\n",
       "\n",
       "    .dataframe tbody tr th {\n",
       "        vertical-align: top;\n",
       "    }\n",
       "</style>\n",
       "<table border=\"1\" class=\"dataframe\">\n",
       "  <thead>\n",
       "    <tr style=\"text-align: right;\">\n",
       "      <th></th>\n",
       "      <th>CUSTOMER_ID</th>\n",
       "      <th>CUSTOMER_BRANCH</th>\n",
       "      <th>ATLAS_CUSTOMER_MAINCODE_FORDUPLICATE</th>\n",
       "      <th>HOMEWORKER</th>\n",
       "      <th>ACTIVITIES_BOOKING_APPLICATION_COUNT_ACTAPI</th>\n",
       "      <th>ACTIVITIES_BOOKING_APPLICATION_COUNT_APPSERVICES</th>\n",
       "      <th>ACTIVITIES_BOOKING_APPLICATION_COUNT_BOL</th>\n",
       "      <th>ACTIVITIES_BOOKING_APPLICATION_COUNT_EVOLUTION</th>\n",
       "      <th>ACTIVITIES_BOOKING_APPLICATION_COUNT_HBEDS</th>\n",
       "      <th>ACTIVITIES_BOOKING_APPLICATION_COUNT_INTERFACE_XML_C2</th>\n",
       "      <th>...</th>\n",
       "      <th>TRANSFERS_BOOKING_CANCELLATION_COUNT_2015 - 06</th>\n",
       "      <th>TRANSFERS_BOOKING_CANCELLATION_COUNT_2015 - 07</th>\n",
       "      <th>TRANSFERS_BOOKING_CANCELLATION_COUNT_2015 - 08</th>\n",
       "      <th>TRANSFERS_BOOKING_CANCELLATION_COUNT_2015 - 09</th>\n",
       "      <th>TRANSFERS_BOOKING_CANCELLATION_COUNT_2015 - 10</th>\n",
       "      <th>TRANSFERS_BOOKING_CANCELLATION_COUNT_2015 - 11</th>\n",
       "      <th>TRANSFERS_BOOKING_CANCELLATION_COUNT_2015 - 12</th>\n",
       "      <th>TRANSFERS_BOOKING_CANCELLATION_COUNT_2016 - 01</th>\n",
       "      <th>TRANSFERS_BOOKING_CANCELLATION_COUNT_2016 - 02</th>\n",
       "      <th>TRANSFERS_BOOKING_CANCELLATION_COUNT_2016 - 03</th>\n",
       "    </tr>\n",
       "  </thead>\n",
       "  <tbody>\n",
       "    <tr>\n",
       "      <th>count</th>\n",
       "      <td>159859.000000</td>\n",
       "      <td>159859.000000</td>\n",
       "      <td>159859.000000</td>\n",
       "      <td>159859.000000</td>\n",
       "      <td>1.0</td>\n",
       "      <td>10.000000</td>\n",
       "      <td>404.000000</td>\n",
       "      <td>22673.000000</td>\n",
       "      <td>93.000000</td>\n",
       "      <td>5.00000</td>\n",
       "      <td>...</td>\n",
       "      <td>10689.000000</td>\n",
       "      <td>11014.000000</td>\n",
       "      <td>10166.000000</td>\n",
       "      <td>9925.000000</td>\n",
       "      <td>9580.000000</td>\n",
       "      <td>8609.000000</td>\n",
       "      <td>8037.000000</td>\n",
       "      <td>9311.000000</td>\n",
       "      <td>9783.000000</td>\n",
       "      <td>8908.000000</td>\n",
       "    </tr>\n",
       "    <tr>\n",
       "      <th>mean</th>\n",
       "      <td>74402.322497</td>\n",
       "      <td>458.086320</td>\n",
       "      <td>-5603.601812</td>\n",
       "      <td>0.032310</td>\n",
       "      <td>4.0</td>\n",
       "      <td>146.800000</td>\n",
       "      <td>2.861386</td>\n",
       "      <td>22.999074</td>\n",
       "      <td>5.494624</td>\n",
       "      <td>4.20000</td>\n",
       "      <td>...</td>\n",
       "      <td>1.895406</td>\n",
       "      <td>1.963138</td>\n",
       "      <td>1.733425</td>\n",
       "      <td>1.772494</td>\n",
       "      <td>1.860543</td>\n",
       "      <td>1.686607</td>\n",
       "      <td>1.485753</td>\n",
       "      <td>1.759532</td>\n",
       "      <td>1.544312</td>\n",
       "      <td>1.035361</td>\n",
       "    </tr>\n",
       "    <tr>\n",
       "      <th>std</th>\n",
       "      <td>57305.097704</td>\n",
       "      <td>4105.657084</td>\n",
       "      <td>23180.867875</td>\n",
       "      <td>0.176822</td>\n",
       "      <td>NaN</td>\n",
       "      <td>199.199398</td>\n",
       "      <td>3.674146</td>\n",
       "      <td>111.643993</td>\n",
       "      <td>8.629605</td>\n",
       "      <td>4.38178</td>\n",
       "      <td>...</td>\n",
       "      <td>9.456502</td>\n",
       "      <td>11.305877</td>\n",
       "      <td>9.728521</td>\n",
       "      <td>10.610735</td>\n",
       "      <td>11.831020</td>\n",
       "      <td>8.037815</td>\n",
       "      <td>8.544904</td>\n",
       "      <td>11.419652</td>\n",
       "      <td>10.535385</td>\n",
       "      <td>6.330055</td>\n",
       "    </tr>\n",
       "    <tr>\n",
       "      <th>min</th>\n",
       "      <td>1.000000</td>\n",
       "      <td>-1.000000</td>\n",
       "      <td>-9999.000000</td>\n",
       "      <td>0.000000</td>\n",
       "      <td>4.0</td>\n",
       "      <td>1.000000</td>\n",
       "      <td>1.000000</td>\n",
       "      <td>1.000000</td>\n",
       "      <td>1.000000</td>\n",
       "      <td>2.00000</td>\n",
       "      <td>...</td>\n",
       "      <td>0.000000</td>\n",
       "      <td>0.000000</td>\n",
       "      <td>0.000000</td>\n",
       "      <td>0.000000</td>\n",
       "      <td>0.000000</td>\n",
       "      <td>0.000000</td>\n",
       "      <td>0.000000</td>\n",
       "      <td>0.000000</td>\n",
       "      <td>0.000000</td>\n",
       "      <td>0.000000</td>\n",
       "    </tr>\n",
       "    <tr>\n",
       "      <th>25%</th>\n",
       "      <td>29110.000000</td>\n",
       "      <td>1.000000</td>\n",
       "      <td>-9999.000000</td>\n",
       "      <td>0.000000</td>\n",
       "      <td>4.0</td>\n",
       "      <td>2.000000</td>\n",
       "      <td>1.000000</td>\n",
       "      <td>2.000000</td>\n",
       "      <td>1.000000</td>\n",
       "      <td>2.00000</td>\n",
       "      <td>...</td>\n",
       "      <td>0.000000</td>\n",
       "      <td>0.000000</td>\n",
       "      <td>0.000000</td>\n",
       "      <td>0.000000</td>\n",
       "      <td>0.000000</td>\n",
       "      <td>0.000000</td>\n",
       "      <td>0.000000</td>\n",
       "      <td>0.000000</td>\n",
       "      <td>0.000000</td>\n",
       "      <td>0.000000</td>\n",
       "    </tr>\n",
       "    <tr>\n",
       "      <th>50%</th>\n",
       "      <td>60331.000000</td>\n",
       "      <td>1.000000</td>\n",
       "      <td>-9999.000000</td>\n",
       "      <td>0.000000</td>\n",
       "      <td>4.0</td>\n",
       "      <td>77.000000</td>\n",
       "      <td>2.000000</td>\n",
       "      <td>7.000000</td>\n",
       "      <td>2.000000</td>\n",
       "      <td>2.00000</td>\n",
       "      <td>...</td>\n",
       "      <td>0.000000</td>\n",
       "      <td>0.000000</td>\n",
       "      <td>0.000000</td>\n",
       "      <td>0.000000</td>\n",
       "      <td>0.000000</td>\n",
       "      <td>0.000000</td>\n",
       "      <td>0.000000</td>\n",
       "      <td>0.000000</td>\n",
       "      <td>0.000000</td>\n",
       "      <td>0.000000</td>\n",
       "    </tr>\n",
       "    <tr>\n",
       "      <th>75%</th>\n",
       "      <td>106366.500000</td>\n",
       "      <td>17.000000</td>\n",
       "      <td>-9999.000000</td>\n",
       "      <td>0.000000</td>\n",
       "      <td>4.0</td>\n",
       "      <td>211.500000</td>\n",
       "      <td>3.000000</td>\n",
       "      <td>19.000000</td>\n",
       "      <td>5.000000</td>\n",
       "      <td>3.00000</td>\n",
       "      <td>...</td>\n",
       "      <td>2.000000</td>\n",
       "      <td>2.000000</td>\n",
       "      <td>2.000000</td>\n",
       "      <td>2.000000</td>\n",
       "      <td>2.000000</td>\n",
       "      <td>2.000000</td>\n",
       "      <td>2.000000</td>\n",
       "      <td>2.000000</td>\n",
       "      <td>2.000000</td>\n",
       "      <td>1.000000</td>\n",
       "    </tr>\n",
       "    <tr>\n",
       "      <th>max</th>\n",
       "      <td>214983.000000</td>\n",
       "      <td>90208.000000</td>\n",
       "      <td>214504.000000</td>\n",
       "      <td>1.000000</td>\n",
       "      <td>4.0</td>\n",
       "      <td>628.000000</td>\n",
       "      <td>44.000000</td>\n",
       "      <td>8972.000000</td>\n",
       "      <td>50.000000</td>\n",
       "      <td>12.00000</td>\n",
       "      <td>...</td>\n",
       "      <td>676.000000</td>\n",
       "      <td>948.000000</td>\n",
       "      <td>736.000000</td>\n",
       "      <td>724.000000</td>\n",
       "      <td>816.000000</td>\n",
       "      <td>447.000000</td>\n",
       "      <td>531.000000</td>\n",
       "      <td>763.000000</td>\n",
       "      <td>769.000000</td>\n",
       "      <td>374.000000</td>\n",
       "    </tr>\n",
       "  </tbody>\n",
       "</table>\n",
       "<p>8 rows × 847 columns</p>\n",
       "</div>"
      ],
      "text/plain": [
       "         CUSTOMER_ID  CUSTOMER_BRANCH  ATLAS_CUSTOMER_MAINCODE_FORDUPLICATE  \\\n",
       "count  159859.000000    159859.000000                         159859.000000   \n",
       "mean    74402.322497       458.086320                          -5603.601812   \n",
       "std     57305.097704      4105.657084                          23180.867875   \n",
       "min         1.000000        -1.000000                          -9999.000000   \n",
       "25%     29110.000000         1.000000                          -9999.000000   \n",
       "50%     60331.000000         1.000000                          -9999.000000   \n",
       "75%    106366.500000        17.000000                          -9999.000000   \n",
       "max    214983.000000     90208.000000                         214504.000000   \n",
       "\n",
       "          HOMEWORKER  ACTIVITIES_BOOKING_APPLICATION_COUNT_ACTAPI  \\\n",
       "count  159859.000000                                          1.0   \n",
       "mean        0.032310                                          4.0   \n",
       "std         0.176822                                          NaN   \n",
       "min         0.000000                                          4.0   \n",
       "25%         0.000000                                          4.0   \n",
       "50%         0.000000                                          4.0   \n",
       "75%         0.000000                                          4.0   \n",
       "max         1.000000                                          4.0   \n",
       "\n",
       "       ACTIVITIES_BOOKING_APPLICATION_COUNT_APPSERVICES  \\\n",
       "count                                         10.000000   \n",
       "mean                                         146.800000   \n",
       "std                                          199.199398   \n",
       "min                                            1.000000   \n",
       "25%                                            2.000000   \n",
       "50%                                           77.000000   \n",
       "75%                                          211.500000   \n",
       "max                                          628.000000   \n",
       "\n",
       "       ACTIVITIES_BOOKING_APPLICATION_COUNT_BOL  \\\n",
       "count                                404.000000   \n",
       "mean                                   2.861386   \n",
       "std                                    3.674146   \n",
       "min                                    1.000000   \n",
       "25%                                    1.000000   \n",
       "50%                                    2.000000   \n",
       "75%                                    3.000000   \n",
       "max                                   44.000000   \n",
       "\n",
       "       ACTIVITIES_BOOKING_APPLICATION_COUNT_EVOLUTION  \\\n",
       "count                                    22673.000000   \n",
       "mean                                        22.999074   \n",
       "std                                        111.643993   \n",
       "min                                          1.000000   \n",
       "25%                                          2.000000   \n",
       "50%                                          7.000000   \n",
       "75%                                         19.000000   \n",
       "max                                       8972.000000   \n",
       "\n",
       "       ACTIVITIES_BOOKING_APPLICATION_COUNT_HBEDS  \\\n",
       "count                                   93.000000   \n",
       "mean                                     5.494624   \n",
       "std                                      8.629605   \n",
       "min                                      1.000000   \n",
       "25%                                      1.000000   \n",
       "50%                                      2.000000   \n",
       "75%                                      5.000000   \n",
       "max                                     50.000000   \n",
       "\n",
       "       ACTIVITIES_BOOKING_APPLICATION_COUNT_INTERFACE_XML_C2  \\\n",
       "count                                            5.00000       \n",
       "mean                                             4.20000       \n",
       "std                                              4.38178       \n",
       "min                                              2.00000       \n",
       "25%                                              2.00000       \n",
       "50%                                              2.00000       \n",
       "75%                                              3.00000       \n",
       "max                                             12.00000       \n",
       "\n",
       "                            ...                        \\\n",
       "count                       ...                         \n",
       "mean                        ...                         \n",
       "std                         ...                         \n",
       "min                         ...                         \n",
       "25%                         ...                         \n",
       "50%                         ...                         \n",
       "75%                         ...                         \n",
       "max                         ...                         \n",
       "\n",
       "       TRANSFERS_BOOKING_CANCELLATION_COUNT_2015 - 06  \\\n",
       "count                                    10689.000000   \n",
       "mean                                         1.895406   \n",
       "std                                          9.456502   \n",
       "min                                          0.000000   \n",
       "25%                                          0.000000   \n",
       "50%                                          0.000000   \n",
       "75%                                          2.000000   \n",
       "max                                        676.000000   \n",
       "\n",
       "       TRANSFERS_BOOKING_CANCELLATION_COUNT_2015 - 07  \\\n",
       "count                                    11014.000000   \n",
       "mean                                         1.963138   \n",
       "std                                         11.305877   \n",
       "min                                          0.000000   \n",
       "25%                                          0.000000   \n",
       "50%                                          0.000000   \n",
       "75%                                          2.000000   \n",
       "max                                        948.000000   \n",
       "\n",
       "       TRANSFERS_BOOKING_CANCELLATION_COUNT_2015 - 08  \\\n",
       "count                                    10166.000000   \n",
       "mean                                         1.733425   \n",
       "std                                          9.728521   \n",
       "min                                          0.000000   \n",
       "25%                                          0.000000   \n",
       "50%                                          0.000000   \n",
       "75%                                          2.000000   \n",
       "max                                        736.000000   \n",
       "\n",
       "       TRANSFERS_BOOKING_CANCELLATION_COUNT_2015 - 09  \\\n",
       "count                                     9925.000000   \n",
       "mean                                         1.772494   \n",
       "std                                         10.610735   \n",
       "min                                          0.000000   \n",
       "25%                                          0.000000   \n",
       "50%                                          0.000000   \n",
       "75%                                          2.000000   \n",
       "max                                        724.000000   \n",
       "\n",
       "       TRANSFERS_BOOKING_CANCELLATION_COUNT_2015 - 10  \\\n",
       "count                                     9580.000000   \n",
       "mean                                         1.860543   \n",
       "std                                         11.831020   \n",
       "min                                          0.000000   \n",
       "25%                                          0.000000   \n",
       "50%                                          0.000000   \n",
       "75%                                          2.000000   \n",
       "max                                        816.000000   \n",
       "\n",
       "       TRANSFERS_BOOKING_CANCELLATION_COUNT_2015 - 11  \\\n",
       "count                                     8609.000000   \n",
       "mean                                         1.686607   \n",
       "std                                          8.037815   \n",
       "min                                          0.000000   \n",
       "25%                                          0.000000   \n",
       "50%                                          0.000000   \n",
       "75%                                          2.000000   \n",
       "max                                        447.000000   \n",
       "\n",
       "       TRANSFERS_BOOKING_CANCELLATION_COUNT_2015 - 12  \\\n",
       "count                                     8037.000000   \n",
       "mean                                         1.485753   \n",
       "std                                          8.544904   \n",
       "min                                          0.000000   \n",
       "25%                                          0.000000   \n",
       "50%                                          0.000000   \n",
       "75%                                          2.000000   \n",
       "max                                        531.000000   \n",
       "\n",
       "       TRANSFERS_BOOKING_CANCELLATION_COUNT_2016 - 01  \\\n",
       "count                                     9311.000000   \n",
       "mean                                         1.759532   \n",
       "std                                         11.419652   \n",
       "min                                          0.000000   \n",
       "25%                                          0.000000   \n",
       "50%                                          0.000000   \n",
       "75%                                          2.000000   \n",
       "max                                        763.000000   \n",
       "\n",
       "       TRANSFERS_BOOKING_CANCELLATION_COUNT_2016 - 02  \\\n",
       "count                                     9783.000000   \n",
       "mean                                         1.544312   \n",
       "std                                         10.535385   \n",
       "min                                          0.000000   \n",
       "25%                                          0.000000   \n",
       "50%                                          0.000000   \n",
       "75%                                          2.000000   \n",
       "max                                        769.000000   \n",
       "\n",
       "       TRANSFERS_BOOKING_CANCELLATION_COUNT_2016 - 03  \n",
       "count                                     8908.000000  \n",
       "mean                                         1.035361  \n",
       "std                                          6.330055  \n",
       "min                                          0.000000  \n",
       "25%                                          0.000000  \n",
       "50%                                          0.000000  \n",
       "75%                                          1.000000  \n",
       "max                                        374.000000  \n",
       "\n",
       "[8 rows x 847 columns]"
      ]
     },
     "execution_count": 7,
     "metadata": {},
     "output_type": "execute_result"
    }
   ],
   "source": [
    "df.describe()"
   ]
  },
  {
   "cell_type": "markdown",
   "metadata": {
    "collapsed": true
   },
   "source": [
    "### Filter Inactive Users"
   ]
  },
  {
   "cell_type": "code",
   "execution_count": 68,
   "metadata": {
    "collapsed": true
   },
   "outputs": [],
   "source": [
    "df = df[df.LIFECYCLESTAGE != '4. INACTIVE']"
   ]
  },
  {
   "cell_type": "code",
   "execution_count": 5,
   "metadata": {},
   "outputs": [
    {
     "data": {
      "text/plain": [
       "77702"
      ]
     },
     "execution_count": 5,
     "metadata": {},
     "output_type": "execute_result"
    }
   ],
   "source": [
    "len(df)"
   ]
  },
  {
   "cell_type": "code",
   "execution_count": 6,
   "metadata": {
    "collapsed": true
   },
   "outputs": [],
   "source": [
    "#Function which will take a pattern and return all columns in the dataframe havinh this pattern\n",
    "\n",
    "def colSubset(dataframe, pattern):\n",
    "    columns = [columnName for columnName in dataframe.columns if pattern in columnName]\n",
    "    return dataframe[columns]"
   ]
  },
  {
   "cell_type": "code",
   "execution_count": 7,
   "metadata": {
    "collapsed": true
   },
   "outputs": [],
   "source": [
    "#Same function, will return list\n",
    "\n",
    "def cols(dataframe, pattern):\n",
    "    return [columnName for columnName in dataframe.columns if pattern in columnName]"
   ]
  },
  {
   "cell_type": "markdown",
   "metadata": {},
   "source": [
    "## RFM: \n",
    "\n",
    "### Create RFM Variables"
   ]
  },
  {
   "cell_type": "markdown",
   "metadata": {
    "collapsed": true
   },
   "source": [
    "### 1. Recency"
   ]
  },
  {
   "cell_type": "code",
   "execution_count": 8,
   "metadata": {
    "collapsed": true
   },
   "outputs": [],
   "source": [
    "#Get the booking columns\n",
    "actCols = cols(df, 'ACTIVITIES_BOOKING_COUNT_2')\n",
    "transCols = cols(df, 'TRANSFERS_BOOKING_COUNT_2')"
   ]
  },
  {
   "cell_type": "code",
   "execution_count": 9,
   "metadata": {
    "collapsed": true
   },
   "outputs": [],
   "source": [
    "#Get the column names for first year and second year for transfer and activities\n",
    "firstYearActR = actCols[0:12]\n",
    "secondYearActR = actCols[12:24]\n",
    "firstYearTransR = transCols[0:12]\n",
    "secondYearTransR = transCols[12:24]\n",
    "\n",
    "df[actCols] = df[actCols].fillna(0)\n",
    "df[transCols] = df[transCols].fillna(0)"
   ]
  },
  {
   "cell_type": "code",
   "execution_count": 10,
   "metadata": {
    "collapsed": true
   },
   "outputs": [],
   "source": [
    "\"\"\"\n",
    "Method to calculate the recency; \n",
    "- row is the current selection row\n",
    "- c1 is the list column names \n",
    "The recency increases with the booking time\n",
    "\"\"\"\n",
    "def recency(row, c1):\n",
    "    counter = 0\n",
    "    #read columns in reverse to account for time (will break after first occurance of activity)\n",
    "    for column in reversed(c1):\n",
    "        if row[column] != 0: \n",
    "            return counter\n",
    "        else:\n",
    "            counter += 1\n",
    "    return counter"
   ]
  },
  {
   "cell_type": "code",
   "execution_count": 11,
   "metadata": {
    "collapsed": true
   },
   "outputs": [],
   "source": [
    "#Calculate recency for activities for year1 and year2\n",
    "df['actR1'] = df.apply(lambda x: recency(x, firstYearActR), axis =1)\n",
    "df['actR2'] = df.apply(lambda x: recency(x, secondYearActR), axis =1)"
   ]
  },
  {
   "cell_type": "code",
   "execution_count": 12,
   "metadata": {
    "collapsed": true
   },
   "outputs": [],
   "source": [
    "#Calculate recency for transaction for year1 and year2\n",
    "df['transR1'] = df.apply(lambda x: recency(x, firstYearTransR), axis =1)\n",
    "df['transR2'] = df.apply(lambda x: recency(x, secondYearTransR), axis =1)"
   ]
  },
  {
   "cell_type": "code",
   "execution_count": 13,
   "metadata": {},
   "outputs": [
    {
     "data": {
      "text/plain": [
       "8       0\n",
       "693    12\n",
       "700     0\n",
       "701    12\n",
       "703    12\n",
       "Name: transR2, dtype: int64"
      ]
     },
     "execution_count": 13,
     "metadata": {},
     "output_type": "execute_result"
    }
   ],
   "source": [
    "df['transR2'].head()"
   ]
  },
  {
   "cell_type": "code",
   "execution_count": 17,
   "metadata": {
    "collapsed": true
   },
   "outputs": [],
   "source": [
    "#Set Recency: \n",
    "#The recency will be the minimum value pf recency of activities and transfers\n",
    "df['R1'] = df.apply(lambda x: min(x['actR1'], x['transR1']) , axis =1)\n",
    "df['R2'] = df.apply(lambda x: min(x['actR2'], x['transR2']) , axis =1)"
   ]
  },
  {
   "cell_type": "code",
   "execution_count": 19,
   "metadata": {},
   "outputs": [
    {
     "data": {
      "text/plain": [
       "8       0\n",
       "693    12\n",
       "700     0\n",
       "701    12\n",
       "703    12\n",
       "705    12\n",
       "710    12\n",
       "727     0\n",
       "743     0\n",
       "744     0\n",
       "Name: R1, dtype: int64"
      ]
     },
     "execution_count": 19,
     "metadata": {},
     "output_type": "execute_result"
    }
   ],
   "source": [
    "df['R1'].head(10)"
   ]
  },
  {
   "cell_type": "code",
   "execution_count": 20,
   "metadata": {},
   "outputs": [
    {
     "data": {
      "text/plain": [
       "8       0\n",
       "693    12\n",
       "700     0\n",
       "701    12\n",
       "703    12\n",
       "Name: R2, dtype: int64"
      ]
     },
     "execution_count": 20,
     "metadata": {},
     "output_type": "execute_result"
    }
   ],
   "source": [
    "df['R2'].head()"
   ]
  },
  {
   "cell_type": "markdown",
   "metadata": {},
   "source": [
    "### Monetary value"
   ]
  },
  {
   "cell_type": "code",
   "execution_count": 21,
   "metadata": {
    "collapsed": true
   },
   "outputs": [],
   "source": [
    "\"\"\"\n",
    "ACTIVITIES_BOOKING_SUMTTVEUR_TOTAL\n",
    "TRANSFERS_BOOKING_SUMTTVEUR_2013\n",
    "ACTIVITIES_BOOKING_SUMTTVEUR_TOTAL\n",
    "\n",
    "\"\"\"\n",
    "actMonetary = colSubset(df, 'ACTIVITIES_BOOKING_SUMTTVEUR_2')\n",
    "actMonetaryCols = cols(df, 'ACTIVITIES_BOOKING_SUMTTVEUR_2')\n",
    "transMonetary = colSubset(df, 'TRANSFERS_BOOKING_SUMTTVEUR_2')\n",
    "transMonetaryCols = cols(df, 'TRANSFERS_BOOKING_SUMTTVEUR_2')"
   ]
  },
  {
   "cell_type": "code",
   "execution_count": 22,
   "metadata": {
    "collapsed": true
   },
   "outputs": [],
   "source": [
    "df[transMonetaryCols] = df[transMonetaryCols].fillna(0)\n",
    "df[actMonetaryCols] = df[actMonetaryCols].fillna(0)"
   ]
  },
  {
   "cell_type": "code",
   "execution_count": 23,
   "metadata": {
    "collapsed": true
   },
   "outputs": [],
   "source": [
    "#First and Second year limits\n",
    "firstYearAct = actMonetaryCols[0:12]\n",
    "secondYearAct = actMonetaryCols[12:24]\n",
    "\n",
    "#First and Second year limits Transfers\n",
    "firstYearTrans = transMonetaryCols[0:12]\n",
    "secondYearTrans = transMonetaryCols[12:24]"
   ]
  },
  {
   "cell_type": "code",
   "execution_count": 24,
   "metadata": {
    "collapsed": true
   },
   "outputs": [],
   "source": [
    "#Get the total of transfer bookings for year 1\n",
    "df['M1'] = df.apply(lambda x: sum(x[firstYearAct]) + sum(x[firstYearTrans]), axis = 1)"
   ]
  },
  {
   "cell_type": "code",
   "execution_count": 25,
   "metadata": {
    "collapsed": true
   },
   "outputs": [],
   "source": [
    "#Get the total of transfer bookings for year 2\n",
    "df['M2'] = df.apply(lambda x: sum(x[secondYearAct])+ sum(x[secondYearTrans]), axis = 1)"
   ]
  },
  {
   "cell_type": "code",
   "execution_count": 26,
   "metadata": {},
   "outputs": [
    {
     "data": {
      "text/html": [
       "<div>\n",
       "<style>\n",
       "    .dataframe thead tr:only-child th {\n",
       "        text-align: right;\n",
       "    }\n",
       "\n",
       "    .dataframe thead th {\n",
       "        text-align: left;\n",
       "    }\n",
       "\n",
       "    .dataframe tbody tr th {\n",
       "        vertical-align: top;\n",
       "    }\n",
       "</style>\n",
       "<table border=\"1\" class=\"dataframe\">\n",
       "  <thead>\n",
       "    <tr style=\"text-align: right;\">\n",
       "      <th></th>\n",
       "      <th>CUSTOMER_ID</th>\n",
       "      <th>CUSTOMER_BRANCH</th>\n",
       "      <th>ATLAS_CUSTOMER_MAINCODE_FORDUPLICATE</th>\n",
       "      <th>ACCOUNT_TYPE</th>\n",
       "      <th>LIFECYCLESTAGE</th>\n",
       "      <th>COMMERCIAL_STAGE</th>\n",
       "      <th>ATLAS_STATUS</th>\n",
       "      <th>CUSTOMER_TYPE</th>\n",
       "      <th>CUSTOMER_SUBTYPE</th>\n",
       "      <th>COMMERCIAL_MANAGEMENT</th>\n",
       "      <th>...</th>\n",
       "      <th>TRANSFERS_BOOKING_CANCELLATION_COUNT_2016 - 02</th>\n",
       "      <th>TRANSFERS_BOOKING_CANCELLATION_COUNT_2016 - 03</th>\n",
       "      <th>actR1</th>\n",
       "      <th>actR2</th>\n",
       "      <th>transR1</th>\n",
       "      <th>transR2</th>\n",
       "      <th>R1</th>\n",
       "      <th>R2</th>\n",
       "      <th>M1</th>\n",
       "      <th>M2</th>\n",
       "    </tr>\n",
       "  </thead>\n",
       "  <tbody>\n",
       "    <tr>\n",
       "      <th>8</th>\n",
       "      <td>9</td>\n",
       "      <td>1</td>\n",
       "      <td>-9999</td>\n",
       "      <td>MAIN ACCOUNT</td>\n",
       "      <td>3.EXISTING CUSTOMER</td>\n",
       "      <td>SELLING</td>\n",
       "      <td>ACTIVE</td>\n",
       "      <td>TOUR OPERATOR</td>\n",
       "      <td>INDEPENDENT</td>\n",
       "      <td>NaN</td>\n",
       "      <td>...</td>\n",
       "      <td>0.0</td>\n",
       "      <td>0.0</td>\n",
       "      <td>3</td>\n",
       "      <td>0</td>\n",
       "      <td>0</td>\n",
       "      <td>0</td>\n",
       "      <td>0</td>\n",
       "      <td>0</td>\n",
       "      <td>2142.09</td>\n",
       "      <td>1987.87</td>\n",
       "    </tr>\n",
       "    <tr>\n",
       "      <th>693</th>\n",
       "      <td>19</td>\n",
       "      <td>1</td>\n",
       "      <td>31652</td>\n",
       "      <td>DUPLICATE BRANCH</td>\n",
       "      <td>3.EXISTING CUSTOMER</td>\n",
       "      <td>NaN</td>\n",
       "      <td>ACTIVE</td>\n",
       "      <td>TRAVEL AGENCY</td>\n",
       "      <td>FRANCHISE/OWN BRANCHES</td>\n",
       "      <td>NaN</td>\n",
       "      <td>...</td>\n",
       "      <td>NaN</td>\n",
       "      <td>NaN</td>\n",
       "      <td>12</td>\n",
       "      <td>12</td>\n",
       "      <td>12</td>\n",
       "      <td>12</td>\n",
       "      <td>12</td>\n",
       "      <td>12</td>\n",
       "      <td>0.00</td>\n",
       "      <td>0.00</td>\n",
       "    </tr>\n",
       "    <tr>\n",
       "      <th>700</th>\n",
       "      <td>27</td>\n",
       "      <td>1</td>\n",
       "      <td>-9999</td>\n",
       "      <td>MAIN ACCOUNT</td>\n",
       "      <td>3.EXISTING CUSTOMER</td>\n",
       "      <td>SELLING</td>\n",
       "      <td>ACTIVE</td>\n",
       "      <td>OTHER TRAVEL COMPANY</td>\n",
       "      <td>DMC</td>\n",
       "      <td>NaN</td>\n",
       "      <td>...</td>\n",
       "      <td>0.0</td>\n",
       "      <td>0.0</td>\n",
       "      <td>0</td>\n",
       "      <td>0</td>\n",
       "      <td>0</td>\n",
       "      <td>0</td>\n",
       "      <td>0</td>\n",
       "      <td>0</td>\n",
       "      <td>1979.10</td>\n",
       "      <td>3456.89</td>\n",
       "    </tr>\n",
       "    <tr>\n",
       "      <th>701</th>\n",
       "      <td>28</td>\n",
       "      <td>1</td>\n",
       "      <td>-9999</td>\n",
       "      <td>MAIN ACCOUNT</td>\n",
       "      <td>3.EXISTING CUSTOMER</td>\n",
       "      <td>NaN</td>\n",
       "      <td>ACTIVE</td>\n",
       "      <td>NaN</td>\n",
       "      <td>NaN</td>\n",
       "      <td>NaN</td>\n",
       "      <td>...</td>\n",
       "      <td>NaN</td>\n",
       "      <td>NaN</td>\n",
       "      <td>12</td>\n",
       "      <td>12</td>\n",
       "      <td>12</td>\n",
       "      <td>12</td>\n",
       "      <td>12</td>\n",
       "      <td>12</td>\n",
       "      <td>0.00</td>\n",
       "      <td>0.00</td>\n",
       "    </tr>\n",
       "    <tr>\n",
       "      <th>703</th>\n",
       "      <td>30</td>\n",
       "      <td>1</td>\n",
       "      <td>192</td>\n",
       "      <td>DUPLICATE ACCOUNT</td>\n",
       "      <td>3.EXISTING CUSTOMER</td>\n",
       "      <td>NaN</td>\n",
       "      <td>ACTIVE</td>\n",
       "      <td>TOUR OPERATOR</td>\n",
       "      <td>MAINSTREAM</td>\n",
       "      <td>NaN</td>\n",
       "      <td>...</td>\n",
       "      <td>NaN</td>\n",
       "      <td>NaN</td>\n",
       "      <td>12</td>\n",
       "      <td>12</td>\n",
       "      <td>12</td>\n",
       "      <td>12</td>\n",
       "      <td>12</td>\n",
       "      <td>12</td>\n",
       "      <td>0.00</td>\n",
       "      <td>0.00</td>\n",
       "    </tr>\n",
       "  </tbody>\n",
       "</table>\n",
       "<p>5 rows × 881 columns</p>\n",
       "</div>"
      ],
      "text/plain": [
       "     CUSTOMER_ID  CUSTOMER_BRANCH  ATLAS_CUSTOMER_MAINCODE_FORDUPLICATE  \\\n",
       "8              9                1                                 -9999   \n",
       "693           19                1                                 31652   \n",
       "700           27                1                                 -9999   \n",
       "701           28                1                                 -9999   \n",
       "703           30                1                                   192   \n",
       "\n",
       "          ACCOUNT_TYPE       LIFECYCLESTAGE COMMERCIAL_STAGE ATLAS_STATUS  \\\n",
       "8         MAIN ACCOUNT  3.EXISTING CUSTOMER          SELLING       ACTIVE   \n",
       "693   DUPLICATE BRANCH  3.EXISTING CUSTOMER              NaN       ACTIVE   \n",
       "700       MAIN ACCOUNT  3.EXISTING CUSTOMER          SELLING       ACTIVE   \n",
       "701       MAIN ACCOUNT  3.EXISTING CUSTOMER              NaN       ACTIVE   \n",
       "703  DUPLICATE ACCOUNT  3.EXISTING CUSTOMER              NaN       ACTIVE   \n",
       "\n",
       "            CUSTOMER_TYPE        CUSTOMER_SUBTYPE COMMERCIAL_MANAGEMENT  \\\n",
       "8           TOUR OPERATOR             INDEPENDENT                   NaN   \n",
       "693         TRAVEL AGENCY  FRANCHISE/OWN BRANCHES                   NaN   \n",
       "700  OTHER TRAVEL COMPANY                     DMC                   NaN   \n",
       "701                   NaN                     NaN                   NaN   \n",
       "703         TOUR OPERATOR              MAINSTREAM                   NaN   \n",
       "\n",
       "      ...    TRANSFERS_BOOKING_CANCELLATION_COUNT_2016 - 02  \\\n",
       "8     ...                                               0.0   \n",
       "693   ...                                               NaN   \n",
       "700   ...                                               0.0   \n",
       "701   ...                                               NaN   \n",
       "703   ...                                               NaN   \n",
       "\n",
       "     TRANSFERS_BOOKING_CANCELLATION_COUNT_2016 - 03 actR1 actR2 transR1  \\\n",
       "8                                               0.0     3     0       0   \n",
       "693                                             NaN    12    12      12   \n",
       "700                                             0.0     0     0       0   \n",
       "701                                             NaN    12    12      12   \n",
       "703                                             NaN    12    12      12   \n",
       "\n",
       "    transR2  R1  R2       M1       M2  \n",
       "8         0   0   0  2142.09  1987.87  \n",
       "693      12  12  12     0.00     0.00  \n",
       "700       0   0   0  1979.10  3456.89  \n",
       "701      12  12  12     0.00     0.00  \n",
       "703      12  12  12     0.00     0.00  \n",
       "\n",
       "[5 rows x 881 columns]"
      ]
     },
     "execution_count": 26,
     "metadata": {},
     "output_type": "execute_result"
    }
   ],
   "source": [
    "df.head()"
   ]
  },
  {
   "cell_type": "code",
   "execution_count": 26,
   "metadata": {},
   "outputs": [
    {
     "data": {
      "text/html": [
       "<div>\n",
       "<style>\n",
       "    .dataframe thead tr:only-child th {\n",
       "        text-align: right;\n",
       "    }\n",
       "\n",
       "    .dataframe thead th {\n",
       "        text-align: left;\n",
       "    }\n",
       "\n",
       "    .dataframe tbody tr th {\n",
       "        vertical-align: top;\n",
       "    }\n",
       "</style>\n",
       "<table border=\"1\" class=\"dataframe\">\n",
       "  <thead>\n",
       "    <tr style=\"text-align: right;\">\n",
       "      <th></th>\n",
       "      <th>ACTIVITIES_BOOKING_SUMTTVEUR_2013 - 10</th>\n",
       "      <th>ACTIVITIES_BOOKING_SUMTTVEUR_2013 - 11</th>\n",
       "      <th>ACTIVITIES_BOOKING_SUMTTVEUR_2013 - 12</th>\n",
       "      <th>ACTIVITIES_BOOKING_SUMTTVEUR_2014 - 01</th>\n",
       "      <th>ACTIVITIES_BOOKING_SUMTTVEUR_2014 - 02</th>\n",
       "      <th>ACTIVITIES_BOOKING_SUMTTVEUR_2014 - 03</th>\n",
       "      <th>ACTIVITIES_BOOKING_SUMTTVEUR_2014 - 04</th>\n",
       "      <th>ACTIVITIES_BOOKING_SUMTTVEUR_2014 - 05</th>\n",
       "      <th>ACTIVITIES_BOOKING_SUMTTVEUR_2014 - 06</th>\n",
       "      <th>ACTIVITIES_BOOKING_SUMTTVEUR_2014 - 07</th>\n",
       "      <th>ACTIVITIES_BOOKING_SUMTTVEUR_2014 - 08</th>\n",
       "      <th>ACTIVITIES_BOOKING_SUMTTVEUR_2014 - 09</th>\n",
       "    </tr>\n",
       "  </thead>\n",
       "  <tbody>\n",
       "    <tr>\n",
       "      <th>8</th>\n",
       "      <td>0.0</td>\n",
       "      <td>0.0</td>\n",
       "      <td>0.0</td>\n",
       "      <td>0.0</td>\n",
       "      <td>0.0</td>\n",
       "      <td>0.0</td>\n",
       "      <td>0.0</td>\n",
       "      <td>0.00</td>\n",
       "      <td>279.16</td>\n",
       "      <td>0.00</td>\n",
       "      <td>0.00</td>\n",
       "      <td>0.00</td>\n",
       "    </tr>\n",
       "    <tr>\n",
       "      <th>693</th>\n",
       "      <td>0.0</td>\n",
       "      <td>0.0</td>\n",
       "      <td>0.0</td>\n",
       "      <td>0.0</td>\n",
       "      <td>0.0</td>\n",
       "      <td>0.0</td>\n",
       "      <td>0.0</td>\n",
       "      <td>0.00</td>\n",
       "      <td>0.00</td>\n",
       "      <td>0.00</td>\n",
       "      <td>0.00</td>\n",
       "      <td>0.00</td>\n",
       "    </tr>\n",
       "    <tr>\n",
       "      <th>700</th>\n",
       "      <td>0.0</td>\n",
       "      <td>0.0</td>\n",
       "      <td>0.0</td>\n",
       "      <td>0.0</td>\n",
       "      <td>0.0</td>\n",
       "      <td>0.0</td>\n",
       "      <td>0.0</td>\n",
       "      <td>136.24</td>\n",
       "      <td>0.00</td>\n",
       "      <td>522.58</td>\n",
       "      <td>172.42</td>\n",
       "      <td>44.11</td>\n",
       "    </tr>\n",
       "    <tr>\n",
       "      <th>701</th>\n",
       "      <td>0.0</td>\n",
       "      <td>0.0</td>\n",
       "      <td>0.0</td>\n",
       "      <td>0.0</td>\n",
       "      <td>0.0</td>\n",
       "      <td>0.0</td>\n",
       "      <td>0.0</td>\n",
       "      <td>0.00</td>\n",
       "      <td>0.00</td>\n",
       "      <td>0.00</td>\n",
       "      <td>0.00</td>\n",
       "      <td>0.00</td>\n",
       "    </tr>\n",
       "    <tr>\n",
       "      <th>703</th>\n",
       "      <td>0.0</td>\n",
       "      <td>0.0</td>\n",
       "      <td>0.0</td>\n",
       "      <td>0.0</td>\n",
       "      <td>0.0</td>\n",
       "      <td>0.0</td>\n",
       "      <td>0.0</td>\n",
       "      <td>0.00</td>\n",
       "      <td>0.00</td>\n",
       "      <td>0.00</td>\n",
       "      <td>0.00</td>\n",
       "      <td>0.00</td>\n",
       "    </tr>\n",
       "  </tbody>\n",
       "</table>\n",
       "</div>"
      ],
      "text/plain": [
       "     ACTIVITIES_BOOKING_SUMTTVEUR_2013 - 10  \\\n",
       "8                                       0.0   \n",
       "693                                     0.0   \n",
       "700                                     0.0   \n",
       "701                                     0.0   \n",
       "703                                     0.0   \n",
       "\n",
       "     ACTIVITIES_BOOKING_SUMTTVEUR_2013 - 11  \\\n",
       "8                                       0.0   \n",
       "693                                     0.0   \n",
       "700                                     0.0   \n",
       "701                                     0.0   \n",
       "703                                     0.0   \n",
       "\n",
       "     ACTIVITIES_BOOKING_SUMTTVEUR_2013 - 12  \\\n",
       "8                                       0.0   \n",
       "693                                     0.0   \n",
       "700                                     0.0   \n",
       "701                                     0.0   \n",
       "703                                     0.0   \n",
       "\n",
       "     ACTIVITIES_BOOKING_SUMTTVEUR_2014 - 01  \\\n",
       "8                                       0.0   \n",
       "693                                     0.0   \n",
       "700                                     0.0   \n",
       "701                                     0.0   \n",
       "703                                     0.0   \n",
       "\n",
       "     ACTIVITIES_BOOKING_SUMTTVEUR_2014 - 02  \\\n",
       "8                                       0.0   \n",
       "693                                     0.0   \n",
       "700                                     0.0   \n",
       "701                                     0.0   \n",
       "703                                     0.0   \n",
       "\n",
       "     ACTIVITIES_BOOKING_SUMTTVEUR_2014 - 03  \\\n",
       "8                                       0.0   \n",
       "693                                     0.0   \n",
       "700                                     0.0   \n",
       "701                                     0.0   \n",
       "703                                     0.0   \n",
       "\n",
       "     ACTIVITIES_BOOKING_SUMTTVEUR_2014 - 04  \\\n",
       "8                                       0.0   \n",
       "693                                     0.0   \n",
       "700                                     0.0   \n",
       "701                                     0.0   \n",
       "703                                     0.0   \n",
       "\n",
       "     ACTIVITIES_BOOKING_SUMTTVEUR_2014 - 05  \\\n",
       "8                                      0.00   \n",
       "693                                    0.00   \n",
       "700                                  136.24   \n",
       "701                                    0.00   \n",
       "703                                    0.00   \n",
       "\n",
       "     ACTIVITIES_BOOKING_SUMTTVEUR_2014 - 06  \\\n",
       "8                                    279.16   \n",
       "693                                    0.00   \n",
       "700                                    0.00   \n",
       "701                                    0.00   \n",
       "703                                    0.00   \n",
       "\n",
       "     ACTIVITIES_BOOKING_SUMTTVEUR_2014 - 07  \\\n",
       "8                                      0.00   \n",
       "693                                    0.00   \n",
       "700                                  522.58   \n",
       "701                                    0.00   \n",
       "703                                    0.00   \n",
       "\n",
       "     ACTIVITIES_BOOKING_SUMTTVEUR_2014 - 08  \\\n",
       "8                                      0.00   \n",
       "693                                    0.00   \n",
       "700                                  172.42   \n",
       "701                                    0.00   \n",
       "703                                    0.00   \n",
       "\n",
       "     ACTIVITIES_BOOKING_SUMTTVEUR_2014 - 09  \n",
       "8                                      0.00  \n",
       "693                                    0.00  \n",
       "700                                   44.11  \n",
       "701                                    0.00  \n",
       "703                                    0.00  "
      ]
     },
     "execution_count": 26,
     "metadata": {},
     "output_type": "execute_result"
    }
   ],
   "source": [
    "df[firstYearAct].head()"
   ]
  },
  {
   "cell_type": "code",
   "execution_count": 27,
   "metadata": {},
   "outputs": [
    {
     "data": {
      "text/html": [
       "<div>\n",
       "<style>\n",
       "    .dataframe thead tr:only-child th {\n",
       "        text-align: right;\n",
       "    }\n",
       "\n",
       "    .dataframe thead th {\n",
       "        text-align: left;\n",
       "    }\n",
       "\n",
       "    .dataframe tbody tr th {\n",
       "        vertical-align: top;\n",
       "    }\n",
       "</style>\n",
       "<table border=\"1\" class=\"dataframe\">\n",
       "  <thead>\n",
       "    <tr style=\"text-align: right;\">\n",
       "      <th></th>\n",
       "      <th>ACTIVITIES_BOOKING_SUMTTVEUR_2013 - 10</th>\n",
       "      <th>ACTIVITIES_BOOKING_SUMTTVEUR_2013 - 11</th>\n",
       "      <th>ACTIVITIES_BOOKING_SUMTTVEUR_2013 - 12</th>\n",
       "      <th>ACTIVITIES_BOOKING_SUMTTVEUR_2014 - 01</th>\n",
       "      <th>ACTIVITIES_BOOKING_SUMTTVEUR_2014 - 02</th>\n",
       "      <th>ACTIVITIES_BOOKING_SUMTTVEUR_2014 - 03</th>\n",
       "      <th>ACTIVITIES_BOOKING_SUMTTVEUR_2014 - 04</th>\n",
       "      <th>ACTIVITIES_BOOKING_SUMTTVEUR_2014 - 05</th>\n",
       "      <th>ACTIVITIES_BOOKING_SUMTTVEUR_2014 - 06</th>\n",
       "      <th>ACTIVITIES_BOOKING_SUMTTVEUR_2014 - 07</th>\n",
       "      <th>ACTIVITIES_BOOKING_SUMTTVEUR_2014 - 08</th>\n",
       "      <th>ACTIVITIES_BOOKING_SUMTTVEUR_2014 - 09</th>\n",
       "    </tr>\n",
       "  </thead>\n",
       "  <tbody>\n",
       "    <tr>\n",
       "      <th>8</th>\n",
       "      <td>0.0</td>\n",
       "      <td>0.0</td>\n",
       "      <td>0.0</td>\n",
       "      <td>0.0</td>\n",
       "      <td>0.0</td>\n",
       "      <td>0.0</td>\n",
       "      <td>0.0</td>\n",
       "      <td>0.00</td>\n",
       "      <td>279.16</td>\n",
       "      <td>0.00</td>\n",
       "      <td>0.00</td>\n",
       "      <td>0.00</td>\n",
       "    </tr>\n",
       "    <tr>\n",
       "      <th>693</th>\n",
       "      <td>0.0</td>\n",
       "      <td>0.0</td>\n",
       "      <td>0.0</td>\n",
       "      <td>0.0</td>\n",
       "      <td>0.0</td>\n",
       "      <td>0.0</td>\n",
       "      <td>0.0</td>\n",
       "      <td>0.00</td>\n",
       "      <td>0.00</td>\n",
       "      <td>0.00</td>\n",
       "      <td>0.00</td>\n",
       "      <td>0.00</td>\n",
       "    </tr>\n",
       "    <tr>\n",
       "      <th>700</th>\n",
       "      <td>0.0</td>\n",
       "      <td>0.0</td>\n",
       "      <td>0.0</td>\n",
       "      <td>0.0</td>\n",
       "      <td>0.0</td>\n",
       "      <td>0.0</td>\n",
       "      <td>0.0</td>\n",
       "      <td>136.24</td>\n",
       "      <td>0.00</td>\n",
       "      <td>522.58</td>\n",
       "      <td>172.42</td>\n",
       "      <td>44.11</td>\n",
       "    </tr>\n",
       "    <tr>\n",
       "      <th>701</th>\n",
       "      <td>0.0</td>\n",
       "      <td>0.0</td>\n",
       "      <td>0.0</td>\n",
       "      <td>0.0</td>\n",
       "      <td>0.0</td>\n",
       "      <td>0.0</td>\n",
       "      <td>0.0</td>\n",
       "      <td>0.00</td>\n",
       "      <td>0.00</td>\n",
       "      <td>0.00</td>\n",
       "      <td>0.00</td>\n",
       "      <td>0.00</td>\n",
       "    </tr>\n",
       "    <tr>\n",
       "      <th>703</th>\n",
       "      <td>0.0</td>\n",
       "      <td>0.0</td>\n",
       "      <td>0.0</td>\n",
       "      <td>0.0</td>\n",
       "      <td>0.0</td>\n",
       "      <td>0.0</td>\n",
       "      <td>0.0</td>\n",
       "      <td>0.00</td>\n",
       "      <td>0.00</td>\n",
       "      <td>0.00</td>\n",
       "      <td>0.00</td>\n",
       "      <td>0.00</td>\n",
       "    </tr>\n",
       "  </tbody>\n",
       "</table>\n",
       "</div>"
      ],
      "text/plain": [
       "     ACTIVITIES_BOOKING_SUMTTVEUR_2013 - 10  \\\n",
       "8                                       0.0   \n",
       "693                                     0.0   \n",
       "700                                     0.0   \n",
       "701                                     0.0   \n",
       "703                                     0.0   \n",
       "\n",
       "     ACTIVITIES_BOOKING_SUMTTVEUR_2013 - 11  \\\n",
       "8                                       0.0   \n",
       "693                                     0.0   \n",
       "700                                     0.0   \n",
       "701                                     0.0   \n",
       "703                                     0.0   \n",
       "\n",
       "     ACTIVITIES_BOOKING_SUMTTVEUR_2013 - 12  \\\n",
       "8                                       0.0   \n",
       "693                                     0.0   \n",
       "700                                     0.0   \n",
       "701                                     0.0   \n",
       "703                                     0.0   \n",
       "\n",
       "     ACTIVITIES_BOOKING_SUMTTVEUR_2014 - 01  \\\n",
       "8                                       0.0   \n",
       "693                                     0.0   \n",
       "700                                     0.0   \n",
       "701                                     0.0   \n",
       "703                                     0.0   \n",
       "\n",
       "     ACTIVITIES_BOOKING_SUMTTVEUR_2014 - 02  \\\n",
       "8                                       0.0   \n",
       "693                                     0.0   \n",
       "700                                     0.0   \n",
       "701                                     0.0   \n",
       "703                                     0.0   \n",
       "\n",
       "     ACTIVITIES_BOOKING_SUMTTVEUR_2014 - 03  \\\n",
       "8                                       0.0   \n",
       "693                                     0.0   \n",
       "700                                     0.0   \n",
       "701                                     0.0   \n",
       "703                                     0.0   \n",
       "\n",
       "     ACTIVITIES_BOOKING_SUMTTVEUR_2014 - 04  \\\n",
       "8                                       0.0   \n",
       "693                                     0.0   \n",
       "700                                     0.0   \n",
       "701                                     0.0   \n",
       "703                                     0.0   \n",
       "\n",
       "     ACTIVITIES_BOOKING_SUMTTVEUR_2014 - 05  \\\n",
       "8                                      0.00   \n",
       "693                                    0.00   \n",
       "700                                  136.24   \n",
       "701                                    0.00   \n",
       "703                                    0.00   \n",
       "\n",
       "     ACTIVITIES_BOOKING_SUMTTVEUR_2014 - 06  \\\n",
       "8                                    279.16   \n",
       "693                                    0.00   \n",
       "700                                    0.00   \n",
       "701                                    0.00   \n",
       "703                                    0.00   \n",
       "\n",
       "     ACTIVITIES_BOOKING_SUMTTVEUR_2014 - 07  \\\n",
       "8                                      0.00   \n",
       "693                                    0.00   \n",
       "700                                  522.58   \n",
       "701                                    0.00   \n",
       "703                                    0.00   \n",
       "\n",
       "     ACTIVITIES_BOOKING_SUMTTVEUR_2014 - 08  \\\n",
       "8                                      0.00   \n",
       "693                                    0.00   \n",
       "700                                  172.42   \n",
       "701                                    0.00   \n",
       "703                                    0.00   \n",
       "\n",
       "     ACTIVITIES_BOOKING_SUMTTVEUR_2014 - 09  \n",
       "8                                      0.00  \n",
       "693                                    0.00  \n",
       "700                                   44.11  \n",
       "701                                    0.00  \n",
       "703                                    0.00  "
      ]
     },
     "execution_count": 27,
     "metadata": {},
     "output_type": "execute_result"
    }
   ],
   "source": [
    "df[firstYearAct].head()"
   ]
  },
  {
   "cell_type": "code",
   "execution_count": 28,
   "metadata": {},
   "outputs": [
    {
     "data": {
      "text/plain": [
       "2142.0899999999997"
      ]
     },
     "execution_count": 28,
     "metadata": {},
     "output_type": "execute_result"
    }
   ],
   "source": [
    "sum(df[firstYearTrans].iloc[0]) + sum(df[firstYearAct].iloc[0])"
   ]
  },
  {
   "cell_type": "markdown",
   "metadata": {},
   "source": [
    "### Frequency"
   ]
  },
  {
   "cell_type": "code",
   "execution_count": 27,
   "metadata": {
    "collapsed": true
   },
   "outputs": [],
   "source": [
    "actFreq = colSubset(df, 'ACTIVITIES_BOOKING_COUNT_2')\n",
    "actFreqCols = cols(df, 'ACTIVITIES_BOOKING_COUNT_2')\n",
    "transFrq = colSubset(df, 'TRANSFERS_BOOKING_COUNT_2')\n",
    "transFrqCols = cols(df, 'TRANSFERS_BOOKING_COUNT_2')"
   ]
  },
  {
   "cell_type": "code",
   "execution_count": 28,
   "metadata": {
    "collapsed": true
   },
   "outputs": [],
   "source": [
    "df[actFreqCols] = df[actFreqCols].fillna(0)\n",
    "df[transFrqCols] = df[transFrqCols].fillna(0)\n",
    "\n",
    "#First and Second year limits\n",
    "firstYearActF = actFreqCols[0:12]\n",
    "secondYearActF = actFreqCols[12:24]\n",
    "\n",
    "#First and Second year limits Transfers\n",
    "firstYearTransF = transFrqCols[0:12]\n",
    "secondYearTransF = transFrqCols[12:24]"
   ]
  },
  {
   "cell_type": "code",
   "execution_count": 29,
   "metadata": {
    "collapsed": true
   },
   "outputs": [],
   "source": [
    "#Get indices of the bookings\n",
    "#Returns the indices of the non-0 values \n",
    "def getIndices(row, cols):\n",
    "    indices = []\n",
    "    for i in range(0, len(cols)):\n",
    "        if row[cols[i]] != 0:\n",
    "            indices.append(i)\n",
    "    return indices        "
   ]
  },
  {
   "cell_type": "code",
   "execution_count": 267,
   "metadata": {
    "collapsed": true
   },
   "outputs": [],
   "source": [
    "indAct = getIndices(df.iloc[10], actFreqCols)"
   ]
  },
  {
   "cell_type": "code",
   "execution_count": 268,
   "metadata": {
    "collapsed": true
   },
   "outputs": [],
   "source": [
    "indTrans = getIndices(df.iloc[10], transFrqCols)"
   ]
  },
  {
   "cell_type": "code",
   "execution_count": 30,
   "metadata": {
    "collapsed": true
   },
   "outputs": [],
   "source": [
    "\"\"\"\n",
    "Calculate frequency: \n",
    "Get the indices for all activity columns, then keep only unique values and count the number of unique values\n",
    "\"\"\"\n",
    "def frequency(row, cols1, cols2):\n",
    "    indices1 = getIndices(row, cols1)\n",
    "    indices2 = getIndices(row, cols2)\n",
    "    #Get unique values between both lists\n",
    "    return len(set(indices1+indices2))"
   ]
  },
  {
   "cell_type": "code",
   "execution_count": 31,
   "metadata": {
    "collapsed": true
   },
   "outputs": [],
   "source": [
    "df['F1'] = df.apply(lambda x: frequency(x, firstYearActF, firstYearTransF), axis = 1) \n",
    "df['F2'] = df.apply(lambda x: frequency(x, secondYearActF, secondYearTransF), axis = 1) "
   ]
  },
  {
   "cell_type": "code",
   "execution_count": 238,
   "metadata": {},
   "outputs": [
    {
     "data": {
      "text/html": [
       "<div>\n",
       "<style>\n",
       "    .dataframe thead tr:only-child th {\n",
       "        text-align: right;\n",
       "    }\n",
       "\n",
       "    .dataframe thead th {\n",
       "        text-align: left;\n",
       "    }\n",
       "\n",
       "    .dataframe tbody tr th {\n",
       "        vertical-align: top;\n",
       "    }\n",
       "</style>\n",
       "<table border=\"1\" class=\"dataframe\">\n",
       "  <thead>\n",
       "    <tr style=\"text-align: right;\">\n",
       "      <th></th>\n",
       "      <th>TRANSFERS_BOOKING_COUNT_2014 - 10</th>\n",
       "      <th>TRANSFERS_BOOKING_COUNT_2014 - 11</th>\n",
       "      <th>TRANSFERS_BOOKING_COUNT_2014 - 12</th>\n",
       "      <th>TRANSFERS_BOOKING_COUNT_2015 - 01</th>\n",
       "      <th>TRANSFERS_BOOKING_COUNT_2015 - 02</th>\n",
       "      <th>TRANSFERS_BOOKING_COUNT_2015 - 03</th>\n",
       "      <th>TRANSFERS_BOOKING_COUNT_2015 - 04</th>\n",
       "      <th>TRANSFERS_BOOKING_COUNT_2015 - 05</th>\n",
       "      <th>TRANSFERS_BOOKING_COUNT_2015 - 06</th>\n",
       "      <th>TRANSFERS_BOOKING_COUNT_2015 - 07</th>\n",
       "      <th>TRANSFERS_BOOKING_COUNT_2015 - 08</th>\n",
       "      <th>TRANSFERS_BOOKING_COUNT_2015 - 09</th>\n",
       "    </tr>\n",
       "  </thead>\n",
       "  <tbody>\n",
       "    <tr>\n",
       "      <th>8</th>\n",
       "      <td>5.0</td>\n",
       "      <td>4.0</td>\n",
       "      <td>8.0</td>\n",
       "      <td>0.0</td>\n",
       "      <td>0.0</td>\n",
       "      <td>6.0</td>\n",
       "      <td>3.0</td>\n",
       "      <td>12.0</td>\n",
       "      <td>2.0</td>\n",
       "      <td>10.0</td>\n",
       "      <td>9.0</td>\n",
       "      <td>3.0</td>\n",
       "    </tr>\n",
       "    <tr>\n",
       "      <th>693</th>\n",
       "      <td>0.0</td>\n",
       "      <td>0.0</td>\n",
       "      <td>0.0</td>\n",
       "      <td>0.0</td>\n",
       "      <td>0.0</td>\n",
       "      <td>0.0</td>\n",
       "      <td>0.0</td>\n",
       "      <td>0.0</td>\n",
       "      <td>0.0</td>\n",
       "      <td>0.0</td>\n",
       "      <td>0.0</td>\n",
       "      <td>0.0</td>\n",
       "    </tr>\n",
       "    <tr>\n",
       "      <th>700</th>\n",
       "      <td>4.0</td>\n",
       "      <td>2.0</td>\n",
       "      <td>2.0</td>\n",
       "      <td>2.0</td>\n",
       "      <td>2.0</td>\n",
       "      <td>4.0</td>\n",
       "      <td>2.0</td>\n",
       "      <td>6.0</td>\n",
       "      <td>0.0</td>\n",
       "      <td>10.0</td>\n",
       "      <td>2.0</td>\n",
       "      <td>6.0</td>\n",
       "    </tr>\n",
       "    <tr>\n",
       "      <th>701</th>\n",
       "      <td>0.0</td>\n",
       "      <td>0.0</td>\n",
       "      <td>0.0</td>\n",
       "      <td>0.0</td>\n",
       "      <td>0.0</td>\n",
       "      <td>0.0</td>\n",
       "      <td>0.0</td>\n",
       "      <td>0.0</td>\n",
       "      <td>0.0</td>\n",
       "      <td>0.0</td>\n",
       "      <td>0.0</td>\n",
       "      <td>0.0</td>\n",
       "    </tr>\n",
       "    <tr>\n",
       "      <th>703</th>\n",
       "      <td>0.0</td>\n",
       "      <td>0.0</td>\n",
       "      <td>0.0</td>\n",
       "      <td>0.0</td>\n",
       "      <td>0.0</td>\n",
       "      <td>0.0</td>\n",
       "      <td>0.0</td>\n",
       "      <td>0.0</td>\n",
       "      <td>0.0</td>\n",
       "      <td>0.0</td>\n",
       "      <td>0.0</td>\n",
       "      <td>0.0</td>\n",
       "    </tr>\n",
       "  </tbody>\n",
       "</table>\n",
       "</div>"
      ],
      "text/plain": [
       "     TRANSFERS_BOOKING_COUNT_2014 - 10  TRANSFERS_BOOKING_COUNT_2014 - 11  \\\n",
       "8                                  5.0                                4.0   \n",
       "693                                0.0                                0.0   \n",
       "700                                4.0                                2.0   \n",
       "701                                0.0                                0.0   \n",
       "703                                0.0                                0.0   \n",
       "\n",
       "     TRANSFERS_BOOKING_COUNT_2014 - 12  TRANSFERS_BOOKING_COUNT_2015 - 01  \\\n",
       "8                                  8.0                                0.0   \n",
       "693                                0.0                                0.0   \n",
       "700                                2.0                                2.0   \n",
       "701                                0.0                                0.0   \n",
       "703                                0.0                                0.0   \n",
       "\n",
       "     TRANSFERS_BOOKING_COUNT_2015 - 02  TRANSFERS_BOOKING_COUNT_2015 - 03  \\\n",
       "8                                  0.0                                6.0   \n",
       "693                                0.0                                0.0   \n",
       "700                                2.0                                4.0   \n",
       "701                                0.0                                0.0   \n",
       "703                                0.0                                0.0   \n",
       "\n",
       "     TRANSFERS_BOOKING_COUNT_2015 - 04  TRANSFERS_BOOKING_COUNT_2015 - 05  \\\n",
       "8                                  3.0                               12.0   \n",
       "693                                0.0                                0.0   \n",
       "700                                2.0                                6.0   \n",
       "701                                0.0                                0.0   \n",
       "703                                0.0                                0.0   \n",
       "\n",
       "     TRANSFERS_BOOKING_COUNT_2015 - 06  TRANSFERS_BOOKING_COUNT_2015 - 07  \\\n",
       "8                                  2.0                               10.0   \n",
       "693                                0.0                                0.0   \n",
       "700                                0.0                               10.0   \n",
       "701                                0.0                                0.0   \n",
       "703                                0.0                                0.0   \n",
       "\n",
       "     TRANSFERS_BOOKING_COUNT_2015 - 08  TRANSFERS_BOOKING_COUNT_2015 - 09  \n",
       "8                                  9.0                                3.0  \n",
       "693                                0.0                                0.0  \n",
       "700                                2.0                                6.0  \n",
       "701                                0.0                                0.0  \n",
       "703                                0.0                                0.0  "
      ]
     },
     "execution_count": 238,
     "metadata": {},
     "output_type": "execute_result"
    }
   ],
   "source": [
    "df[secondYearTransF].head()"
   ]
  },
  {
   "cell_type": "code",
   "execution_count": 37,
   "metadata": {},
   "outputs": [
    {
     "data": {
      "text/plain": [
       "8      10\n",
       "693     0\n",
       "700     9\n",
       "701     0\n",
       "703     0\n",
       "Name: F1, dtype: int64"
      ]
     },
     "execution_count": 37,
     "metadata": {},
     "output_type": "execute_result"
    }
   ],
   "source": [
    "df['F1'].head()"
   ]
  },
  {
   "cell_type": "code",
   "execution_count": 38,
   "metadata": {},
   "outputs": [
    {
     "data": {
      "text/html": [
       "<div>\n",
       "<style>\n",
       "    .dataframe thead tr:only-child th {\n",
       "        text-align: right;\n",
       "    }\n",
       "\n",
       "    .dataframe thead th {\n",
       "        text-align: left;\n",
       "    }\n",
       "\n",
       "    .dataframe tbody tr th {\n",
       "        vertical-align: top;\n",
       "    }\n",
       "</style>\n",
       "<table border=\"1\" class=\"dataframe\">\n",
       "  <thead>\n",
       "    <tr style=\"text-align: right;\">\n",
       "      <th></th>\n",
       "      <th>TRANSFERS_BOOKING_COUNT_2013 - 10</th>\n",
       "      <th>TRANSFERS_BOOKING_COUNT_2013 - 11</th>\n",
       "      <th>TRANSFERS_BOOKING_COUNT_2013 - 12</th>\n",
       "      <th>TRANSFERS_BOOKING_COUNT_2014 - 01</th>\n",
       "      <th>TRANSFERS_BOOKING_COUNT_2014 - 02</th>\n",
       "      <th>TRANSFERS_BOOKING_COUNT_2014 - 03</th>\n",
       "      <th>TRANSFERS_BOOKING_COUNT_2014 - 04</th>\n",
       "      <th>TRANSFERS_BOOKING_COUNT_2014 - 05</th>\n",
       "      <th>TRANSFERS_BOOKING_COUNT_2014 - 06</th>\n",
       "      <th>TRANSFERS_BOOKING_COUNT_2014 - 07</th>\n",
       "      <th>TRANSFERS_BOOKING_COUNT_2014 - 08</th>\n",
       "      <th>TRANSFERS_BOOKING_COUNT_2014 - 09</th>\n",
       "    </tr>\n",
       "  </thead>\n",
       "  <tbody>\n",
       "    <tr>\n",
       "      <th>8</th>\n",
       "      <td>1.0</td>\n",
       "      <td>2.0</td>\n",
       "      <td>2.0</td>\n",
       "      <td>0.0</td>\n",
       "      <td>0.0</td>\n",
       "      <td>9.0</td>\n",
       "      <td>5.0</td>\n",
       "      <td>3.0</td>\n",
       "      <td>8.0</td>\n",
       "      <td>8.0</td>\n",
       "      <td>10.0</td>\n",
       "      <td>6.0</td>\n",
       "    </tr>\n",
       "    <tr>\n",
       "      <th>693</th>\n",
       "      <td>0.0</td>\n",
       "      <td>0.0</td>\n",
       "      <td>0.0</td>\n",
       "      <td>0.0</td>\n",
       "      <td>0.0</td>\n",
       "      <td>0.0</td>\n",
       "      <td>0.0</td>\n",
       "      <td>0.0</td>\n",
       "      <td>0.0</td>\n",
       "      <td>0.0</td>\n",
       "      <td>0.0</td>\n",
       "      <td>0.0</td>\n",
       "    </tr>\n",
       "    <tr>\n",
       "      <th>700</th>\n",
       "      <td>2.0</td>\n",
       "      <td>0.0</td>\n",
       "      <td>0.0</td>\n",
       "      <td>21.0</td>\n",
       "      <td>2.0</td>\n",
       "      <td>0.0</td>\n",
       "      <td>0.0</td>\n",
       "      <td>11.0</td>\n",
       "      <td>0.0</td>\n",
       "      <td>9.0</td>\n",
       "      <td>0.0</td>\n",
       "      <td>4.0</td>\n",
       "    </tr>\n",
       "    <tr>\n",
       "      <th>701</th>\n",
       "      <td>0.0</td>\n",
       "      <td>0.0</td>\n",
       "      <td>0.0</td>\n",
       "      <td>0.0</td>\n",
       "      <td>0.0</td>\n",
       "      <td>0.0</td>\n",
       "      <td>0.0</td>\n",
       "      <td>0.0</td>\n",
       "      <td>0.0</td>\n",
       "      <td>0.0</td>\n",
       "      <td>0.0</td>\n",
       "      <td>0.0</td>\n",
       "    </tr>\n",
       "    <tr>\n",
       "      <th>703</th>\n",
       "      <td>0.0</td>\n",
       "      <td>0.0</td>\n",
       "      <td>0.0</td>\n",
       "      <td>0.0</td>\n",
       "      <td>0.0</td>\n",
       "      <td>0.0</td>\n",
       "      <td>0.0</td>\n",
       "      <td>0.0</td>\n",
       "      <td>0.0</td>\n",
       "      <td>0.0</td>\n",
       "      <td>0.0</td>\n",
       "      <td>0.0</td>\n",
       "    </tr>\n",
       "  </tbody>\n",
       "</table>\n",
       "</div>"
      ],
      "text/plain": [
       "     TRANSFERS_BOOKING_COUNT_2013 - 10  TRANSFERS_BOOKING_COUNT_2013 - 11  \\\n",
       "8                                  1.0                                2.0   \n",
       "693                                0.0                                0.0   \n",
       "700                                2.0                                0.0   \n",
       "701                                0.0                                0.0   \n",
       "703                                0.0                                0.0   \n",
       "\n",
       "     TRANSFERS_BOOKING_COUNT_2013 - 12  TRANSFERS_BOOKING_COUNT_2014 - 01  \\\n",
       "8                                  2.0                                0.0   \n",
       "693                                0.0                                0.0   \n",
       "700                                0.0                               21.0   \n",
       "701                                0.0                                0.0   \n",
       "703                                0.0                                0.0   \n",
       "\n",
       "     TRANSFERS_BOOKING_COUNT_2014 - 02  TRANSFERS_BOOKING_COUNT_2014 - 03  \\\n",
       "8                                  0.0                                9.0   \n",
       "693                                0.0                                0.0   \n",
       "700                                2.0                                0.0   \n",
       "701                                0.0                                0.0   \n",
       "703                                0.0                                0.0   \n",
       "\n",
       "     TRANSFERS_BOOKING_COUNT_2014 - 04  TRANSFERS_BOOKING_COUNT_2014 - 05  \\\n",
       "8                                  5.0                                3.0   \n",
       "693                                0.0                                0.0   \n",
       "700                                0.0                               11.0   \n",
       "701                                0.0                                0.0   \n",
       "703                                0.0                                0.0   \n",
       "\n",
       "     TRANSFERS_BOOKING_COUNT_2014 - 06  TRANSFERS_BOOKING_COUNT_2014 - 07  \\\n",
       "8                                  8.0                                8.0   \n",
       "693                                0.0                                0.0   \n",
       "700                                0.0                                9.0   \n",
       "701                                0.0                                0.0   \n",
       "703                                0.0                                0.0   \n",
       "\n",
       "     TRANSFERS_BOOKING_COUNT_2014 - 08  TRANSFERS_BOOKING_COUNT_2014 - 09  \n",
       "8                                 10.0                                6.0  \n",
       "693                                0.0                                0.0  \n",
       "700                                0.0                                4.0  \n",
       "701                                0.0                                0.0  \n",
       "703                                0.0                                0.0  "
      ]
     },
     "execution_count": 38,
     "metadata": {},
     "output_type": "execute_result"
    }
   ],
   "source": [
    "df[firstYearTransF].head()"
   ]
  },
  {
   "cell_type": "code",
   "execution_count": 48,
   "metadata": {
    "collapsed": true
   },
   "outputs": [],
   "source": [
    "date = pd.to_datetime(dfS['Activities_FIRSTBOOKINGDATE'])"
   ]
  },
  {
   "cell_type": "code",
   "execution_count": 49,
   "metadata": {},
   "outputs": [
    {
     "data": {
      "text/plain": [
       "Timestamp('2016-03-01 00:00:00')"
      ]
     },
     "execution_count": 49,
     "metadata": {},
     "output_type": "execute_result"
    }
   ],
   "source": [
    "max(date)"
   ]
  },
  {
   "cell_type": "markdown",
   "metadata": {},
   "source": [
    "### Seniority"
   ]
  },
  {
   "cell_type": "code",
   "execution_count": 49,
   "metadata": {
    "collapsed": true
   },
   "outputs": [],
   "source": [
    "from datetime import date, datetime\n",
    "from dateutil import relativedelta"
   ]
  },
  {
   "cell_type": "code",
   "execution_count": 50,
   "metadata": {
    "collapsed": true
   },
   "outputs": [],
   "source": [
    "\"\"\"\n",
    "Activities_FIRSTBOOKINGDATE\n",
    "Transfers_FIRSTBOOKINGDATE\n",
    "\"\"\"\n",
    "\n",
    "firstBookingColsS = ['Activities_FIRSTBOOKINGDATE', 'Transfers_FIRSTBOOKINGDATE']"
   ]
  },
  {
   "cell_type": "code",
   "execution_count": 51,
   "metadata": {
    "collapsed": true
   },
   "outputs": [],
   "source": [
    "#Convert column to date\n",
    "for i in firstBookingColsS:\n",
    "    df[i] = pd.to_datetime(df[i], errors='coerce', format = \"%m/%d/%Y\")"
   ]
  },
  {
   "cell_type": "code",
   "execution_count": 52,
   "metadata": {
    "collapsed": true
   },
   "outputs": [],
   "source": [
    "df[firstBookingColsS] = df[firstBookingColsS].fillna('')"
   ]
  },
  {
   "cell_type": "code",
   "execution_count": 53,
   "metadata": {
    "collapsed": true
   },
   "outputs": [],
   "source": [
    "def minimumDate(row, col1, col2):\n",
    "    if row[col1] != '' and row[col2] != '':\n",
    "        date1 = row[col1]\n",
    "        date2 = row[col2]\n",
    "        #if they are both filled: choose the minimum\n",
    "        minDate = min(date1, date2)\n",
    "        \n",
    "    elif row[col1] != '' and row[col2] == '':\n",
    "        minDate = row[col1]\n",
    "    elif row[col2] != '' and row[col1] == '':\n",
    "        minDate = row[col2]\n",
    "    else:\n",
    "        minDate = ''\n",
    "    return minDate"
   ]
  },
  {
   "cell_type": "code",
   "execution_count": 54,
   "metadata": {
    "collapsed": true
   },
   "outputs": [],
   "source": [
    "df['firstDate'] = df.apply(lambda x: minimumDate(x, 'Activities_FIRSTBOOKINGDATE', 'Transfers_FIRSTBOOKINGDATE'), \\\n",
    "                             axis = 1)"
   ]
  },
  {
   "cell_type": "code",
   "execution_count": 55,
   "metadata": {},
   "outputs": [
    {
     "data": {
      "text/html": [
       "<div>\n",
       "<style>\n",
       "    .dataframe thead tr:only-child th {\n",
       "        text-align: right;\n",
       "    }\n",
       "\n",
       "    .dataframe thead th {\n",
       "        text-align: left;\n",
       "    }\n",
       "\n",
       "    .dataframe tbody tr th {\n",
       "        vertical-align: top;\n",
       "    }\n",
       "</style>\n",
       "<table border=\"1\" class=\"dataframe\">\n",
       "  <thead>\n",
       "    <tr style=\"text-align: right;\">\n",
       "      <th></th>\n",
       "      <th>firstDate</th>\n",
       "      <th>Activities_FIRSTBOOKINGDATE</th>\n",
       "      <th>Transfers_FIRSTBOOKINGDATE</th>\n",
       "    </tr>\n",
       "  </thead>\n",
       "  <tbody>\n",
       "    <tr>\n",
       "      <th>0</th>\n",
       "      <td>2005-10-04</td>\n",
       "      <td></td>\n",
       "      <td>2005-10-04 00:00:00</td>\n",
       "    </tr>\n",
       "    <tr>\n",
       "      <th>1</th>\n",
       "      <td>2002-11-14</td>\n",
       "      <td></td>\n",
       "      <td>2002-11-14 00:00:00</td>\n",
       "    </tr>\n",
       "    <tr>\n",
       "      <th>2</th>\n",
       "      <td>2003-07-02</td>\n",
       "      <td></td>\n",
       "      <td>2003-07-02 00:00:00</td>\n",
       "    </tr>\n",
       "    <tr>\n",
       "      <th>3</th>\n",
       "      <td>NaT</td>\n",
       "      <td></td>\n",
       "      <td></td>\n",
       "    </tr>\n",
       "    <tr>\n",
       "      <th>4</th>\n",
       "      <td>2003-05-22</td>\n",
       "      <td></td>\n",
       "      <td>2003-05-22 00:00:00</td>\n",
       "    </tr>\n",
       "    <tr>\n",
       "      <th>5</th>\n",
       "      <td>2002-12-02</td>\n",
       "      <td></td>\n",
       "      <td>2002-12-02 00:00:00</td>\n",
       "    </tr>\n",
       "    <tr>\n",
       "      <th>6</th>\n",
       "      <td>NaT</td>\n",
       "      <td></td>\n",
       "      <td></td>\n",
       "    </tr>\n",
       "    <tr>\n",
       "      <th>7</th>\n",
       "      <td>2004-01-26</td>\n",
       "      <td></td>\n",
       "      <td>2004-01-26 00:00:00</td>\n",
       "    </tr>\n",
       "    <tr>\n",
       "      <th>8</th>\n",
       "      <td>2003-03-24</td>\n",
       "      <td>2011-06-02 00:00:00</td>\n",
       "      <td>2003-03-24 00:00:00</td>\n",
       "    </tr>\n",
       "    <tr>\n",
       "      <th>9</th>\n",
       "      <td>2003-09-01</td>\n",
       "      <td>2004-06-03 00:00:00</td>\n",
       "      <td>2003-09-01 00:00:00</td>\n",
       "    </tr>\n",
       "  </tbody>\n",
       "</table>\n",
       "</div>"
      ],
      "text/plain": [
       "   firstDate Activities_FIRSTBOOKINGDATE Transfers_FIRSTBOOKINGDATE\n",
       "0 2005-10-04                                    2005-10-04 00:00:00\n",
       "1 2002-11-14                                    2002-11-14 00:00:00\n",
       "2 2003-07-02                                    2003-07-02 00:00:00\n",
       "3        NaT                                                       \n",
       "4 2003-05-22                                    2003-05-22 00:00:00\n",
       "5 2002-12-02                                    2002-12-02 00:00:00\n",
       "6        NaT                                                       \n",
       "7 2004-01-26                                    2004-01-26 00:00:00\n",
       "8 2003-03-24         2011-06-02 00:00:00        2003-03-24 00:00:00\n",
       "9 2003-09-01         2004-06-03 00:00:00        2003-09-01 00:00:00"
      ]
     },
     "execution_count": 55,
     "metadata": {},
     "output_type": "execute_result"
    }
   ],
   "source": [
    "df[['firstDate', 'Activities_FIRSTBOOKINGDATE', 'Transfers_FIRSTBOOKINGDATE']].head(10)"
   ]
  },
  {
   "cell_type": "code",
   "execution_count": 278,
   "metadata": {},
   "outputs": [
    {
     "data": {
      "text/plain": [
       "''"
      ]
     },
     "execution_count": 278,
     "metadata": {},
     "output_type": "execute_result"
    }
   ],
   "source": [
    "df.iloc[3]['Activities_FIRSTBOOKINGDATE']"
   ]
  },
  {
   "cell_type": "code",
   "execution_count": 279,
   "metadata": {
    "collapsed": true
   },
   "outputs": [],
   "source": [
    "date1 = '2014-09-01'\n",
    "date1 = datetime.strptime(date1, \"%Y-%m-%d\")"
   ]
  },
  {
   "cell_type": "markdown",
   "metadata": {},
   "source": [
    "#### TEST"
   ]
  },
  {
   "cell_type": "code",
   "execution_count": 280,
   "metadata": {
    "collapsed": true
   },
   "outputs": [],
   "source": [
    "subs = df[['Activities_FIRSTBOOKINGDATE', 'Transfers_FIRSTBOOKINGDATE', 'firstDate']]"
   ]
  },
  {
   "cell_type": "code",
   "execution_count": 281,
   "metadata": {},
   "outputs": [
    {
     "data": {
      "text/html": [
       "<div>\n",
       "<style>\n",
       "    .dataframe thead tr:only-child th {\n",
       "        text-align: right;\n",
       "    }\n",
       "\n",
       "    .dataframe thead th {\n",
       "        text-align: left;\n",
       "    }\n",
       "\n",
       "    .dataframe tbody tr th {\n",
       "        vertical-align: top;\n",
       "    }\n",
       "</style>\n",
       "<table border=\"1\" class=\"dataframe\">\n",
       "  <thead>\n",
       "    <tr style=\"text-align: right;\">\n",
       "      <th></th>\n",
       "      <th>Activities_FIRSTBOOKINGDATE</th>\n",
       "      <th>Transfers_FIRSTBOOKINGDATE</th>\n",
       "      <th>firstDate</th>\n",
       "    </tr>\n",
       "  </thead>\n",
       "  <tbody>\n",
       "    <tr>\n",
       "      <th>8</th>\n",
       "      <td>2011-06-02 00:00:00</td>\n",
       "      <td>2003-03-24 00:00:00</td>\n",
       "      <td>2003-03-24</td>\n",
       "    </tr>\n",
       "    <tr>\n",
       "      <th>693</th>\n",
       "      <td></td>\n",
       "      <td>2003-04-29 00:00:00</td>\n",
       "      <td>2003-04-29</td>\n",
       "    </tr>\n",
       "    <tr>\n",
       "      <th>700</th>\n",
       "      <td>2007-04-12 00:00:00</td>\n",
       "      <td>2007-08-08 00:00:00</td>\n",
       "      <td>2007-04-12</td>\n",
       "    </tr>\n",
       "    <tr>\n",
       "      <th>701</th>\n",
       "      <td></td>\n",
       "      <td>2003-11-08 00:00:00</td>\n",
       "      <td>2003-11-08</td>\n",
       "    </tr>\n",
       "    <tr>\n",
       "      <th>703</th>\n",
       "      <td>2009-10-03 00:00:00</td>\n",
       "      <td>2004-03-25 00:00:00</td>\n",
       "      <td>2004-03-25</td>\n",
       "    </tr>\n",
       "    <tr>\n",
       "      <th>705</th>\n",
       "      <td></td>\n",
       "      <td></td>\n",
       "      <td>NaT</td>\n",
       "    </tr>\n",
       "    <tr>\n",
       "      <th>710</th>\n",
       "      <td>2015-08-19 00:00:00</td>\n",
       "      <td>2014-01-26 00:00:00</td>\n",
       "      <td>2014-01-26</td>\n",
       "    </tr>\n",
       "    <tr>\n",
       "      <th>727</th>\n",
       "      <td>2009-09-23 00:00:00</td>\n",
       "      <td>2010-05-21 00:00:00</td>\n",
       "      <td>2009-09-23</td>\n",
       "    </tr>\n",
       "    <tr>\n",
       "      <th>743</th>\n",
       "      <td>2007-03-20 00:00:00</td>\n",
       "      <td>2007-06-16 00:00:00</td>\n",
       "      <td>2007-03-20</td>\n",
       "    </tr>\n",
       "    <tr>\n",
       "      <th>744</th>\n",
       "      <td>2007-03-20 00:00:00</td>\n",
       "      <td>2007-03-10 00:00:00</td>\n",
       "      <td>2007-03-10</td>\n",
       "    </tr>\n",
       "  </tbody>\n",
       "</table>\n",
       "</div>"
      ],
      "text/plain": [
       "    Activities_FIRSTBOOKINGDATE Transfers_FIRSTBOOKINGDATE  firstDate\n",
       "8           2011-06-02 00:00:00        2003-03-24 00:00:00 2003-03-24\n",
       "693                                    2003-04-29 00:00:00 2003-04-29\n",
       "700         2007-04-12 00:00:00        2007-08-08 00:00:00 2007-04-12\n",
       "701                                    2003-11-08 00:00:00 2003-11-08\n",
       "703         2009-10-03 00:00:00        2004-03-25 00:00:00 2004-03-25\n",
       "705                                                               NaT\n",
       "710         2015-08-19 00:00:00        2014-01-26 00:00:00 2014-01-26\n",
       "727         2009-09-23 00:00:00        2010-05-21 00:00:00 2009-09-23\n",
       "743         2007-03-20 00:00:00        2007-06-16 00:00:00 2007-03-20\n",
       "744         2007-03-20 00:00:00        2007-03-10 00:00:00 2007-03-10"
      ]
     },
     "execution_count": 281,
     "metadata": {},
     "output_type": "execute_result"
    }
   ],
   "source": [
    "subs.head(10)"
   ]
  },
  {
   "cell_type": "markdown",
   "metadata": {},
   "source": [
    "### Seniority"
   ]
  },
  {
   "cell_type": "code",
   "execution_count": 57,
   "metadata": {
    "collapsed": true
   },
   "outputs": [],
   "source": [
    "#First period\n",
    "dateD1 = datetime.strptime('2014-09-30', \"%Y-%m-%d\")\n",
    "#second\n",
    "dateD2 = datetime.strptime('2015-09-30', \"%Y-%m-%d\")"
   ]
  },
  {
   "cell_type": "code",
   "execution_count": 58,
   "metadata": {
    "collapsed": true
   },
   "outputs": [],
   "source": [
    "df['firstDate'] = df['firstDate'].fillna('')"
   ]
  },
  {
   "cell_type": "code",
   "execution_count": 59,
   "metadata": {
    "collapsed": true
   },
   "outputs": [],
   "source": [
    "\"\"\"\n",
    "Function to calculate Seniority: \n",
    "if the first booking date is not null, seniority will be equal to the difference between current date and first date\n",
    "\"\"\"\n",
    "def getSeniority(row, currdate, firstdate):\n",
    "    if row[firstdate] != '':\n",
    "        monthdiff = currdate.month - row[firstdate].month\n",
    "        yeardiff = currdate.year - row[firstdate].year\n",
    "        seniority = monthdiff + yeardiff * 12\n",
    "    else: \n",
    "        seniority = np.nan\n",
    "    return seniority"
   ]
  },
  {
   "cell_type": "code",
   "execution_count": 60,
   "metadata": {
    "collapsed": true
   },
   "outputs": [],
   "source": [
    "df['S1'] = df.apply(lambda x: getSeniority(x, dateD1, 'firstDate'), axis = 1)\n",
    "df['S2'] = df.apply(lambda x: getSeniority(x, dateD2, 'firstDate'), axis = 1)"
   ]
  },
  {
   "cell_type": "code",
   "execution_count": 61,
   "metadata": {},
   "outputs": [
    {
     "data": {
      "text/html": [
       "<div>\n",
       "<style>\n",
       "    .dataframe thead tr:only-child th {\n",
       "        text-align: right;\n",
       "    }\n",
       "\n",
       "    .dataframe thead th {\n",
       "        text-align: left;\n",
       "    }\n",
       "\n",
       "    .dataframe tbody tr th {\n",
       "        vertical-align: top;\n",
       "    }\n",
       "</style>\n",
       "<table border=\"1\" class=\"dataframe\">\n",
       "  <thead>\n",
       "    <tr style=\"text-align: right;\">\n",
       "      <th></th>\n",
       "      <th>S1</th>\n",
       "      <th>S2</th>\n",
       "      <th>firstDate</th>\n",
       "      <th>ACTIVITIES_BOOKING_COUNT_2015 - 10</th>\n",
       "    </tr>\n",
       "  </thead>\n",
       "  <tbody>\n",
       "    <tr>\n",
       "      <th>2879</th>\n",
       "      <td>-13.0</td>\n",
       "      <td>-1.0</td>\n",
       "      <td>2015-10-07 00:00:00</td>\n",
       "      <td>1.0</td>\n",
       "    </tr>\n",
       "    <tr>\n",
       "      <th>2330</th>\n",
       "      <td>-12.0</td>\n",
       "      <td>0.0</td>\n",
       "      <td>2015-09-26 00:00:00</td>\n",
       "      <td>NaN</td>\n",
       "    </tr>\n",
       "  </tbody>\n",
       "</table>\n",
       "</div>"
      ],
      "text/plain": [
       "        S1   S2            firstDate  ACTIVITIES_BOOKING_COUNT_2015 - 10\n",
       "2879 -13.0 -1.0  2015-10-07 00:00:00                                 1.0\n",
       "2330 -12.0  0.0  2015-09-26 00:00:00                                 NaN"
      ]
     },
     "execution_count": 61,
     "metadata": {},
     "output_type": "execute_result"
    }
   ],
   "source": [
    "df[['S1','S2','firstDate', 'ACTIVITIES_BOOKING_COUNT_2015 - 10']].loc[[2879, 2330]]"
   ]
  },
  {
   "cell_type": "code",
   "execution_count": 62,
   "metadata": {},
   "outputs": [
    {
     "data": {
      "text/html": [
       "<div>\n",
       "<style>\n",
       "    .dataframe thead tr:only-child th {\n",
       "        text-align: right;\n",
       "    }\n",
       "\n",
       "    .dataframe thead th {\n",
       "        text-align: left;\n",
       "    }\n",
       "\n",
       "    .dataframe tbody tr th {\n",
       "        vertical-align: top;\n",
       "    }\n",
       "</style>\n",
       "<table border=\"1\" class=\"dataframe\">\n",
       "  <thead>\n",
       "    <tr style=\"text-align: right;\">\n",
       "      <th></th>\n",
       "      <th>firstDate</th>\n",
       "      <th>S1</th>\n",
       "    </tr>\n",
       "  </thead>\n",
       "  <tbody>\n",
       "    <tr>\n",
       "      <th>0</th>\n",
       "      <td>2005-10-04 00:00:00</td>\n",
       "      <td>107.0</td>\n",
       "    </tr>\n",
       "    <tr>\n",
       "      <th>1</th>\n",
       "      <td>2002-11-14 00:00:00</td>\n",
       "      <td>142.0</td>\n",
       "    </tr>\n",
       "    <tr>\n",
       "      <th>2</th>\n",
       "      <td>2003-07-02 00:00:00</td>\n",
       "      <td>134.0</td>\n",
       "    </tr>\n",
       "    <tr>\n",
       "      <th>3</th>\n",
       "      <td></td>\n",
       "      <td>NaN</td>\n",
       "    </tr>\n",
       "    <tr>\n",
       "      <th>4</th>\n",
       "      <td>2003-05-22 00:00:00</td>\n",
       "      <td>136.0</td>\n",
       "    </tr>\n",
       "    <tr>\n",
       "      <th>5</th>\n",
       "      <td>2002-12-02 00:00:00</td>\n",
       "      <td>141.0</td>\n",
       "    </tr>\n",
       "    <tr>\n",
       "      <th>6</th>\n",
       "      <td></td>\n",
       "      <td>NaN</td>\n",
       "    </tr>\n",
       "    <tr>\n",
       "      <th>7</th>\n",
       "      <td>2004-01-26 00:00:00</td>\n",
       "      <td>128.0</td>\n",
       "    </tr>\n",
       "    <tr>\n",
       "      <th>8</th>\n",
       "      <td>2003-03-24 00:00:00</td>\n",
       "      <td>138.0</td>\n",
       "    </tr>\n",
       "    <tr>\n",
       "      <th>9</th>\n",
       "      <td>2003-09-01 00:00:00</td>\n",
       "      <td>132.0</td>\n",
       "    </tr>\n",
       "  </tbody>\n",
       "</table>\n",
       "</div>"
      ],
      "text/plain": [
       "             firstDate     S1\n",
       "0  2005-10-04 00:00:00  107.0\n",
       "1  2002-11-14 00:00:00  142.0\n",
       "2  2003-07-02 00:00:00  134.0\n",
       "3                         NaN\n",
       "4  2003-05-22 00:00:00  136.0\n",
       "5  2002-12-02 00:00:00  141.0\n",
       "6                         NaN\n",
       "7  2004-01-26 00:00:00  128.0\n",
       "8  2003-03-24 00:00:00  138.0\n",
       "9  2003-09-01 00:00:00  132.0"
      ]
     },
     "execution_count": 62,
     "metadata": {},
     "output_type": "execute_result"
    }
   ],
   "source": [
    "df[['firstDate', 'S1']].head(10)"
   ]
  },
  {
   "cell_type": "code",
   "execution_count": 287,
   "metadata": {},
   "outputs": [
    {
     "data": {
      "text/plain": [
       "count    35302.000000\n",
       "mean        25.042859\n",
       "std         32.133247\n",
       "min        -17.000000\n",
       "25%          0.000000\n",
       "50%         16.000000\n",
       "75%         45.000000\n",
       "max        144.000000\n",
       "Name: S1, dtype: float64"
      ]
     },
     "execution_count": 287,
     "metadata": {},
     "output_type": "execute_result"
    }
   ],
   "source": [
    "df['S1'].describe()"
   ]
  },
  {
   "cell_type": "markdown",
   "metadata": {},
   "source": [
    "### Active"
   ]
  },
  {
   "cell_type": "code",
   "execution_count": 69,
   "metadata": {
    "collapsed": true
   },
   "outputs": [],
   "source": [
    "newCols1 = ['Activated_Activities_2014 - 09', 'Activated_Carhire_2014 - 09','Activated_Hotel_2014 - 09', \\\n",
    " 'Activated_Transfers_2014 - 09']\n",
    "newCols2 = ['Activated_Activities_2015 - 09', 'Activated_Carhire_2015 - 09','Activated_Hotel_2015 - 09', \\\n",
    " 'Activated_Transfers_2015 - 09']"
   ]
  },
  {
   "cell_type": "code",
   "execution_count": 70,
   "metadata": {
    "collapsed": true
   },
   "outputs": [],
   "source": [
    "firstBookingCols = ['Activities_FIRSTBOOKINGDATE', 'Carhire_FIRSTBOOKINGDATE', \\\n",
    "                   'Hotel_FIRSTBOOKINGDATE', 'Transfers_FIRSTBOOKINGDATE']"
   ]
  },
  {
   "cell_type": "code",
   "execution_count": 71,
   "metadata": {},
   "outputs": [
    {
     "data": {
      "text/html": [
       "<div>\n",
       "<style>\n",
       "    .dataframe thead tr:only-child th {\n",
       "        text-align: right;\n",
       "    }\n",
       "\n",
       "    .dataframe thead th {\n",
       "        text-align: left;\n",
       "    }\n",
       "\n",
       "    .dataframe tbody tr th {\n",
       "        vertical-align: top;\n",
       "    }\n",
       "</style>\n",
       "<table border=\"1\" class=\"dataframe\">\n",
       "  <thead>\n",
       "    <tr style=\"text-align: right;\">\n",
       "      <th></th>\n",
       "      <th>Activities_FIRSTBOOKINGDATE</th>\n",
       "      <th>Carhire_FIRSTBOOKINGDATE</th>\n",
       "      <th>Hotel_FIRSTBOOKINGDATE</th>\n",
       "      <th>Transfers_FIRSTBOOKINGDATE</th>\n",
       "    </tr>\n",
       "  </thead>\n",
       "  <tbody>\n",
       "    <tr>\n",
       "      <th>8</th>\n",
       "      <td>6/2/2011</td>\n",
       "      <td>10/18/2008</td>\n",
       "      <td>3/25/2003</td>\n",
       "      <td>3/24/2003</td>\n",
       "    </tr>\n",
       "    <tr>\n",
       "      <th>693</th>\n",
       "      <td></td>\n",
       "      <td></td>\n",
       "      <td>8/20/2003</td>\n",
       "      <td>4/29/2003</td>\n",
       "    </tr>\n",
       "    <tr>\n",
       "      <th>700</th>\n",
       "      <td>4/12/2007</td>\n",
       "      <td>4/12/2007</td>\n",
       "      <td>11/30/2004</td>\n",
       "      <td>8/8/2007</td>\n",
       "    </tr>\n",
       "    <tr>\n",
       "      <th>701</th>\n",
       "      <td></td>\n",
       "      <td></td>\n",
       "      <td>5/17/2011</td>\n",
       "      <td>11/8/2003</td>\n",
       "    </tr>\n",
       "    <tr>\n",
       "      <th>703</th>\n",
       "      <td>10/3/2009</td>\n",
       "      <td></td>\n",
       "      <td>10/29/2002</td>\n",
       "      <td>3/25/2004</td>\n",
       "    </tr>\n",
       "  </tbody>\n",
       "</table>\n",
       "</div>"
      ],
      "text/plain": [
       "    Activities_FIRSTBOOKINGDATE Carhire_FIRSTBOOKINGDATE  \\\n",
       "8                      6/2/2011               10/18/2008   \n",
       "693                                                        \n",
       "700                   4/12/2007                4/12/2007   \n",
       "701                                                        \n",
       "703                   10/3/2009                            \n",
       "\n",
       "    Hotel_FIRSTBOOKINGDATE Transfers_FIRSTBOOKINGDATE  \n",
       "8                3/25/2003                  3/24/2003  \n",
       "693              8/20/2003                  4/29/2003  \n",
       "700             11/30/2004                   8/8/2007  \n",
       "701              5/17/2011                  11/8/2003  \n",
       "703             10/29/2002                  3/25/2004  "
      ]
     },
     "execution_count": 71,
     "metadata": {},
     "output_type": "execute_result"
    }
   ],
   "source": [
    "df[firstBookingCols] = df[firstBookingCols].fillna('')\n",
    "df[firstBookingCols].head()"
   ]
  },
  {
   "cell_type": "code",
   "execution_count": 72,
   "metadata": {
    "collapsed": true
   },
   "outputs": [],
   "source": [
    "#change each field to date \n",
    "for i in firstBookingCols[1:3]:\n",
    "    df[i] = pd.to_datetime(df[i], errors='coerce', format = \"%m/%d/%Y\")"
   ]
  },
  {
   "cell_type": "code",
   "execution_count": 73,
   "metadata": {},
   "outputs": [
    {
     "data": {
      "text/html": [
       "<div>\n",
       "<style>\n",
       "    .dataframe thead tr:only-child th {\n",
       "        text-align: right;\n",
       "    }\n",
       "\n",
       "    .dataframe thead th {\n",
       "        text-align: left;\n",
       "    }\n",
       "\n",
       "    .dataframe tbody tr th {\n",
       "        vertical-align: top;\n",
       "    }\n",
       "</style>\n",
       "<table border=\"1\" class=\"dataframe\">\n",
       "  <thead>\n",
       "    <tr style=\"text-align: right;\">\n",
       "      <th></th>\n",
       "      <th>Activities_FIRSTBOOKINGDATE</th>\n",
       "      <th>Carhire_FIRSTBOOKINGDATE</th>\n",
       "      <th>Hotel_FIRSTBOOKINGDATE</th>\n",
       "      <th>Transfers_FIRSTBOOKINGDATE</th>\n",
       "    </tr>\n",
       "  </thead>\n",
       "  <tbody>\n",
       "    <tr>\n",
       "      <th>8</th>\n",
       "      <td>6/2/2011</td>\n",
       "      <td>2008-10-18</td>\n",
       "      <td>2003-03-25</td>\n",
       "      <td>3/24/2003</td>\n",
       "    </tr>\n",
       "    <tr>\n",
       "      <th>693</th>\n",
       "      <td></td>\n",
       "      <td>NaT</td>\n",
       "      <td>2003-08-20</td>\n",
       "      <td>4/29/2003</td>\n",
       "    </tr>\n",
       "    <tr>\n",
       "      <th>700</th>\n",
       "      <td>4/12/2007</td>\n",
       "      <td>2007-04-12</td>\n",
       "      <td>2004-11-30</td>\n",
       "      <td>8/8/2007</td>\n",
       "    </tr>\n",
       "    <tr>\n",
       "      <th>701</th>\n",
       "      <td></td>\n",
       "      <td>NaT</td>\n",
       "      <td>2011-05-17</td>\n",
       "      <td>11/8/2003</td>\n",
       "    </tr>\n",
       "    <tr>\n",
       "      <th>703</th>\n",
       "      <td>10/3/2009</td>\n",
       "      <td>NaT</td>\n",
       "      <td>2002-10-29</td>\n",
       "      <td>3/25/2004</td>\n",
       "    </tr>\n",
       "  </tbody>\n",
       "</table>\n",
       "</div>"
      ],
      "text/plain": [
       "    Activities_FIRSTBOOKINGDATE Carhire_FIRSTBOOKINGDATE  \\\n",
       "8                      6/2/2011               2008-10-18   \n",
       "693                                                  NaT   \n",
       "700                   4/12/2007               2007-04-12   \n",
       "701                                                  NaT   \n",
       "703                   10/3/2009                      NaT   \n",
       "\n",
       "    Hotel_FIRSTBOOKINGDATE Transfers_FIRSTBOOKINGDATE  \n",
       "8               2003-03-25                  3/24/2003  \n",
       "693             2003-08-20                  4/29/2003  \n",
       "700             2004-11-30                   8/8/2007  \n",
       "701             2011-05-17                  11/8/2003  \n",
       "703             2002-10-29                  3/25/2004  "
      ]
     },
     "execution_count": 73,
     "metadata": {},
     "output_type": "execute_result"
    }
   ],
   "source": [
    "df[firstBookingCols].head()"
   ]
  },
  {
   "cell_type": "code",
   "execution_count": 74,
   "metadata": {
    "collapsed": true
   },
   "outputs": [],
   "source": [
    "df[firstBookingCols] = df[firstBookingCols].fillna('')"
   ]
  },
  {
   "cell_type": "code",
   "execution_count": 75,
   "metadata": {
    "collapsed": true
   },
   "outputs": [],
   "source": [
    "\"\"\"\n",
    "Function to specify whether the user had bookings activated before a specified date\n",
    "If the first date booking column is not empty, check if the first date is less than or equal \n",
    "to current date to set activate = 1.\n",
    "\"\"\"\n",
    "\n",
    "def activated(row, currDate, firstCol):\n",
    "    if row[firstCol] != '':\n",
    "        if row[firstCol] <= currDate: \n",
    "            activated = 1\n",
    "        else: \n",
    "            activated = 0\n",
    "    else:\n",
    "        activated = 0\n",
    "    return activated"
   ]
  },
  {
   "cell_type": "code",
   "execution_count": 298,
   "metadata": {},
   "outputs": [
    {
     "data": {
      "text/html": [
       "<div>\n",
       "<style>\n",
       "    .dataframe thead tr:only-child th {\n",
       "        text-align: right;\n",
       "    }\n",
       "\n",
       "    .dataframe thead th {\n",
       "        text-align: left;\n",
       "    }\n",
       "\n",
       "    .dataframe tbody tr th {\n",
       "        vertical-align: top;\n",
       "    }\n",
       "</style>\n",
       "<table border=\"1\" class=\"dataframe\">\n",
       "  <thead>\n",
       "    <tr style=\"text-align: right;\">\n",
       "      <th></th>\n",
       "      <th>Activated_Activities_2014 - 09</th>\n",
       "      <th>Activities_FIRSTBOOKINGDATE</th>\n",
       "    </tr>\n",
       "  </thead>\n",
       "  <tbody>\n",
       "    <tr>\n",
       "      <th>8</th>\n",
       "      <td>1</td>\n",
       "      <td>2011-06-02 00:00:00</td>\n",
       "    </tr>\n",
       "    <tr>\n",
       "      <th>693</th>\n",
       "      <td>0</td>\n",
       "      <td></td>\n",
       "    </tr>\n",
       "    <tr>\n",
       "      <th>700</th>\n",
       "      <td>1</td>\n",
       "      <td>2007-04-12 00:00:00</td>\n",
       "    </tr>\n",
       "    <tr>\n",
       "      <th>701</th>\n",
       "      <td>0</td>\n",
       "      <td></td>\n",
       "    </tr>\n",
       "    <tr>\n",
       "      <th>703</th>\n",
       "      <td>1</td>\n",
       "      <td>2009-10-03 00:00:00</td>\n",
       "    </tr>\n",
       "    <tr>\n",
       "      <th>705</th>\n",
       "      <td>0</td>\n",
       "      <td></td>\n",
       "    </tr>\n",
       "    <tr>\n",
       "      <th>710</th>\n",
       "      <td>0</td>\n",
       "      <td>2015-08-19 00:00:00</td>\n",
       "    </tr>\n",
       "    <tr>\n",
       "      <th>727</th>\n",
       "      <td>1</td>\n",
       "      <td>2009-09-23 00:00:00</td>\n",
       "    </tr>\n",
       "    <tr>\n",
       "      <th>743</th>\n",
       "      <td>1</td>\n",
       "      <td>2007-03-20 00:00:00</td>\n",
       "    </tr>\n",
       "    <tr>\n",
       "      <th>744</th>\n",
       "      <td>1</td>\n",
       "      <td>2007-03-20 00:00:00</td>\n",
       "    </tr>\n",
       "  </tbody>\n",
       "</table>\n",
       "</div>"
      ],
      "text/plain": [
       "     Activated_Activities_2014 - 09 Activities_FIRSTBOOKINGDATE\n",
       "8                                 1         2011-06-02 00:00:00\n",
       "693                               0                            \n",
       "700                               1         2007-04-12 00:00:00\n",
       "701                               0                            \n",
       "703                               1         2009-10-03 00:00:00\n",
       "705                               0                            \n",
       "710                               0         2015-08-19 00:00:00\n",
       "727                               1         2009-09-23 00:00:00\n",
       "743                               1         2007-03-20 00:00:00\n",
       "744                               1         2007-03-20 00:00:00"
      ]
     },
     "execution_count": 298,
     "metadata": {},
     "output_type": "execute_result"
    }
   ],
   "source": [
    "df[[newCols1[0], firstBookingCols[0]]].head(10)"
   ]
  },
  {
   "cell_type": "code",
   "execution_count": 71,
   "metadata": {},
   "outputs": [
    {
     "data": {
      "text/html": [
       "<div>\n",
       "<style>\n",
       "    .dataframe thead tr:only-child th {\n",
       "        text-align: right;\n",
       "    }\n",
       "\n",
       "    .dataframe thead th {\n",
       "        text-align: left;\n",
       "    }\n",
       "\n",
       "    .dataframe tbody tr th {\n",
       "        vertical-align: top;\n",
       "    }\n",
       "</style>\n",
       "<table border=\"1\" class=\"dataframe\">\n",
       "  <thead>\n",
       "    <tr style=\"text-align: right;\">\n",
       "      <th></th>\n",
       "      <th>Activated_Carhire_2014 - 09</th>\n",
       "      <th>Carhire_FIRSTBOOKINGDATE</th>\n",
       "    </tr>\n",
       "  </thead>\n",
       "  <tbody>\n",
       "    <tr>\n",
       "      <th>8</th>\n",
       "      <td>1</td>\n",
       "      <td>2008-10-18 00:00:00</td>\n",
       "    </tr>\n",
       "    <tr>\n",
       "      <th>693</th>\n",
       "      <td>0</td>\n",
       "      <td></td>\n",
       "    </tr>\n",
       "    <tr>\n",
       "      <th>700</th>\n",
       "      <td>1</td>\n",
       "      <td>2007-04-12 00:00:00</td>\n",
       "    </tr>\n",
       "    <tr>\n",
       "      <th>701</th>\n",
       "      <td>0</td>\n",
       "      <td></td>\n",
       "    </tr>\n",
       "    <tr>\n",
       "      <th>703</th>\n",
       "      <td>0</td>\n",
       "      <td></td>\n",
       "    </tr>\n",
       "    <tr>\n",
       "      <th>705</th>\n",
       "      <td>0</td>\n",
       "      <td></td>\n",
       "    </tr>\n",
       "    <tr>\n",
       "      <th>710</th>\n",
       "      <td>0</td>\n",
       "      <td></td>\n",
       "    </tr>\n",
       "    <tr>\n",
       "      <th>727</th>\n",
       "      <td>1</td>\n",
       "      <td>2011-01-21 00:00:00</td>\n",
       "    </tr>\n",
       "    <tr>\n",
       "      <th>743</th>\n",
       "      <td>1</td>\n",
       "      <td>2011-11-29 00:00:00</td>\n",
       "    </tr>\n",
       "    <tr>\n",
       "      <th>744</th>\n",
       "      <td>1</td>\n",
       "      <td>2013-02-05 00:00:00</td>\n",
       "    </tr>\n",
       "  </tbody>\n",
       "</table>\n",
       "</div>"
      ],
      "text/plain": [
       "     Activated_Carhire_2014 - 09 Carhire_FIRSTBOOKINGDATE\n",
       "8                              1      2008-10-18 00:00:00\n",
       "693                            0                         \n",
       "700                            1      2007-04-12 00:00:00\n",
       "701                            0                         \n",
       "703                            0                         \n",
       "705                            0                         \n",
       "710                            0                         \n",
       "727                            1      2011-01-21 00:00:00\n",
       "743                            1      2011-11-29 00:00:00\n",
       "744                            1      2013-02-05 00:00:00"
      ]
     },
     "execution_count": 71,
     "metadata": {},
     "output_type": "execute_result"
    }
   ],
   "source": [
    "df[[newCols1[1], firstBookingCols[1]]].head(10)"
   ]
  },
  {
   "cell_type": "code",
   "execution_count": 72,
   "metadata": {},
   "outputs": [
    {
     "data": {
      "text/html": [
       "<div>\n",
       "<style>\n",
       "    .dataframe thead tr:only-child th {\n",
       "        text-align: right;\n",
       "    }\n",
       "\n",
       "    .dataframe thead th {\n",
       "        text-align: left;\n",
       "    }\n",
       "\n",
       "    .dataframe tbody tr th {\n",
       "        vertical-align: top;\n",
       "    }\n",
       "</style>\n",
       "<table border=\"1\" class=\"dataframe\">\n",
       "  <thead>\n",
       "    <tr style=\"text-align: right;\">\n",
       "      <th></th>\n",
       "      <th>Activated_Activities_2015 - 09</th>\n",
       "      <th>Activities_FIRSTBOOKINGDATE</th>\n",
       "    </tr>\n",
       "  </thead>\n",
       "  <tbody>\n",
       "    <tr>\n",
       "      <th>8</th>\n",
       "      <td>1</td>\n",
       "      <td>2011-06-02 00:00:00</td>\n",
       "    </tr>\n",
       "    <tr>\n",
       "      <th>693</th>\n",
       "      <td>0</td>\n",
       "      <td></td>\n",
       "    </tr>\n",
       "    <tr>\n",
       "      <th>700</th>\n",
       "      <td>1</td>\n",
       "      <td>2007-04-12 00:00:00</td>\n",
       "    </tr>\n",
       "    <tr>\n",
       "      <th>701</th>\n",
       "      <td>0</td>\n",
       "      <td></td>\n",
       "    </tr>\n",
       "    <tr>\n",
       "      <th>703</th>\n",
       "      <td>1</td>\n",
       "      <td>2009-10-03 00:00:00</td>\n",
       "    </tr>\n",
       "    <tr>\n",
       "      <th>705</th>\n",
       "      <td>0</td>\n",
       "      <td></td>\n",
       "    </tr>\n",
       "    <tr>\n",
       "      <th>710</th>\n",
       "      <td>1</td>\n",
       "      <td>2015-08-19 00:00:00</td>\n",
       "    </tr>\n",
       "    <tr>\n",
       "      <th>727</th>\n",
       "      <td>1</td>\n",
       "      <td>2009-09-23 00:00:00</td>\n",
       "    </tr>\n",
       "    <tr>\n",
       "      <th>743</th>\n",
       "      <td>1</td>\n",
       "      <td>2007-03-20 00:00:00</td>\n",
       "    </tr>\n",
       "    <tr>\n",
       "      <th>744</th>\n",
       "      <td>1</td>\n",
       "      <td>2007-03-20 00:00:00</td>\n",
       "    </tr>\n",
       "  </tbody>\n",
       "</table>\n",
       "</div>"
      ],
      "text/plain": [
       "     Activated_Activities_2015 - 09 Activities_FIRSTBOOKINGDATE\n",
       "8                                 1         2011-06-02 00:00:00\n",
       "693                               0                            \n",
       "700                               1         2007-04-12 00:00:00\n",
       "701                               0                            \n",
       "703                               1         2009-10-03 00:00:00\n",
       "705                               0                            \n",
       "710                               1         2015-08-19 00:00:00\n",
       "727                               1         2009-09-23 00:00:00\n",
       "743                               1         2007-03-20 00:00:00\n",
       "744                               1         2007-03-20 00:00:00"
      ]
     },
     "execution_count": 72,
     "metadata": {},
     "output_type": "execute_result"
    }
   ],
   "source": [
    "df[[newCols2[0], firstBookingCols[0]]].head(10)"
   ]
  },
  {
   "cell_type": "code",
   "execution_count": 73,
   "metadata": {},
   "outputs": [
    {
     "data": {
      "text/html": [
       "<div>\n",
       "<style>\n",
       "    .dataframe thead tr:only-child th {\n",
       "        text-align: right;\n",
       "    }\n",
       "\n",
       "    .dataframe thead th {\n",
       "        text-align: left;\n",
       "    }\n",
       "\n",
       "    .dataframe tbody tr th {\n",
       "        vertical-align: top;\n",
       "    }\n",
       "</style>\n",
       "<table border=\"1\" class=\"dataframe\">\n",
       "  <thead>\n",
       "    <tr style=\"text-align: right;\">\n",
       "      <th></th>\n",
       "      <th>Activated_Carhire_2015 - 09</th>\n",
       "      <th>Carhire_FIRSTBOOKINGDATE</th>\n",
       "    </tr>\n",
       "  </thead>\n",
       "  <tbody>\n",
       "    <tr>\n",
       "      <th>8</th>\n",
       "      <td>1</td>\n",
       "      <td>2008-10-18 00:00:00</td>\n",
       "    </tr>\n",
       "    <tr>\n",
       "      <th>693</th>\n",
       "      <td>0</td>\n",
       "      <td></td>\n",
       "    </tr>\n",
       "    <tr>\n",
       "      <th>700</th>\n",
       "      <td>1</td>\n",
       "      <td>2007-04-12 00:00:00</td>\n",
       "    </tr>\n",
       "    <tr>\n",
       "      <th>701</th>\n",
       "      <td>0</td>\n",
       "      <td></td>\n",
       "    </tr>\n",
       "    <tr>\n",
       "      <th>703</th>\n",
       "      <td>0</td>\n",
       "      <td></td>\n",
       "    </tr>\n",
       "    <tr>\n",
       "      <th>705</th>\n",
       "      <td>0</td>\n",
       "      <td></td>\n",
       "    </tr>\n",
       "    <tr>\n",
       "      <th>710</th>\n",
       "      <td>0</td>\n",
       "      <td></td>\n",
       "    </tr>\n",
       "    <tr>\n",
       "      <th>727</th>\n",
       "      <td>1</td>\n",
       "      <td>2011-01-21 00:00:00</td>\n",
       "    </tr>\n",
       "    <tr>\n",
       "      <th>743</th>\n",
       "      <td>1</td>\n",
       "      <td>2011-11-29 00:00:00</td>\n",
       "    </tr>\n",
       "    <tr>\n",
       "      <th>744</th>\n",
       "      <td>1</td>\n",
       "      <td>2013-02-05 00:00:00</td>\n",
       "    </tr>\n",
       "  </tbody>\n",
       "</table>\n",
       "</div>"
      ],
      "text/plain": [
       "     Activated_Carhire_2015 - 09 Carhire_FIRSTBOOKINGDATE\n",
       "8                              1      2008-10-18 00:00:00\n",
       "693                            0                         \n",
       "700                            1      2007-04-12 00:00:00\n",
       "701                            0                         \n",
       "703                            0                         \n",
       "705                            0                         \n",
       "710                            0                         \n",
       "727                            1      2011-01-21 00:00:00\n",
       "743                            1      2011-11-29 00:00:00\n",
       "744                            1      2013-02-05 00:00:00"
      ]
     },
     "execution_count": 73,
     "metadata": {},
     "output_type": "execute_result"
    }
   ],
   "source": [
    "df[[newCols2[1], firstBookingCols[1]]].head(10)"
   ]
  },
  {
   "cell_type": "markdown",
   "metadata": {},
   "source": [
    "## Distribution & Analysis"
   ]
  },
  {
   "cell_type": "code",
   "execution_count": 95,
   "metadata": {},
   "outputs": [
    {
     "name": "stderr",
     "output_type": "stream",
     "text": [
      "/anaconda/envs/python3/lib/python3.5/site-packages/IPython/html.py:14: ShimWarning: The `IPython.html` package has been deprecated since IPython 4.0. You should import from `notebook` instead. `IPython.html.widgets` has moved to `ipywidgets`.\n",
      "  \"`IPython.html.widgets` has moved to `ipywidgets`.\", ShimWarning)\n"
     ]
    }
   ],
   "source": [
    "import seaborn as sns"
   ]
  },
  {
   "cell_type": "code",
   "execution_count": 98,
   "metadata": {
    "collapsed": true
   },
   "outputs": [],
   "source": [
    "noNanS2 = df['S2'].dropna()"
   ]
  },
  {
   "cell_type": "code",
   "execution_count": 136,
   "metadata": {},
   "outputs": [
    {
     "data": {
      "text/plain": [
       "(77702, 896)"
      ]
     },
     "execution_count": 136,
     "metadata": {},
     "output_type": "execute_result"
    }
   ],
   "source": [
    "df.shape"
   ]
  },
  {
   "cell_type": "code",
   "execution_count": 100,
   "metadata": {},
   "outputs": [
    {
     "data": {
      "text/plain": [
       "<matplotlib.axes._subplots.AxesSubplot at 0x12c005c18>"
      ]
     },
     "execution_count": 100,
     "metadata": {},
     "output_type": "execute_result"
    },
    {
     "data": {
      "image/png": "[encoded data removed]",
      "text/plain": [
       "<matplotlib.figure.Figure at 0x12bda6438>"
      ]
     },
     "metadata": {},
     "output_type": "display_data"
    }
   ],
   "source": [
    "%matplotlib inline\n",
    "sns.distplot(noNanS2)"
   ]
  },
  {
   "cell_type": "code",
   "execution_count": 102,
   "metadata": {},
   "outputs": [
    {
     "data": {
      "text/plain": [
       "<matplotlib.axes._subplots.AxesSubplot at 0x12c266f28>"
      ]
     },
     "execution_count": 102,
     "metadata": {},
     "output_type": "execute_result"
    },
    {
     "data": {
      "image/png": "[encoded data removed]",
      "text/plain": [
       "<matplotlib.figure.Figure at 0x12c240ba8>"
      ]
     },
     "metadata": {},
     "output_type": "display_data"
    }
   ],
   "source": [
    "noNanS1 = df['S1'].dropna()\n",
    "sns.distplot(noNanS1)"
   ]
  },
  {
   "cell_type": "code",
   "execution_count": 108,
   "metadata": {},
   "outputs": [
    {
     "data": {
      "text/plain": [
       "<matplotlib.axes._subplots.AxesSubplot at 0x12c6cecf8>"
      ]
     },
     "execution_count": 108,
     "metadata": {},
     "output_type": "execute_result"
    },
    {
     "data": {
      "image/png": "[encoded data removed]",
      "text/plain": [
       "<matplotlib.figure.Figure at 0x12c8bc748>"
      ]
     },
     "metadata": {},
     "output_type": "display_data"
    }
   ],
   "source": [
    "noNanR2 = df['R2'].dropna()\n",
    "noNanR2 = noNanR2[noNanR2 != 12]\n",
    "sns.distplot(noNanR2)"
   ]
  },
  {
   "cell_type": "code",
   "execution_count": 110,
   "metadata": {},
   "outputs": [
    {
     "data": {
      "text/plain": [
       "<matplotlib.axes._subplots.AxesSubplot at 0x12cc94b00>"
      ]
     },
     "execution_count": 110,
     "metadata": {},
     "output_type": "execute_result"
    },
    {
     "data": {
      "image/png": "[encoded data removed]",
      "text/plain": [
       "<matplotlib.figure.Figure at 0x12d5474e0>"
      ]
     },
     "metadata": {},
     "output_type": "display_data"
    }
   ],
   "source": [
    "noNanF = df['F2'].dropna()\n",
    "sns.distplot(noNanF[noNanF != 0])"
   ]
  },
  {
   "cell_type": "code",
   "execution_count": 119,
   "metadata": {},
   "outputs": [
    {
     "data": {
      "text/plain": [
       "<matplotlib.axes._subplots.AxesSubplot at 0x12e65e6a0>"
      ]
     },
     "execution_count": 119,
     "metadata": {},
     "output_type": "execute_result"
    },
    {
     "data": {
      "image/png": "[encoded data removed]",
      "text/plain": [
       "<matplotlib.figure.Figure at 0x12e11bef0>"
      ]
     },
     "metadata": {},
     "output_type": "display_data"
    }
   ],
   "source": [
    "noNanM2 = df['M2'].dropna()\n",
    "sns.distplot(noNanM2[(noNanM2 > 0) & (noNanM2 < 20000)])"
   ]
  },
  {
   "cell_type": "code",
   "execution_count": 122,
   "metadata": {},
   "outputs": [
    {
     "data": {
      "text/plain": [
       "0.58388729054007427"
      ]
     },
     "execution_count": 122,
     "metadata": {},
     "output_type": "execute_result"
    }
   ],
   "source": [
    "sum(noNanM2[(noNanM2 > 0) & (noNanM2 < 20000)])/sum(noNanM2)"
   ]
  },
  {
   "cell_type": "code",
   "execution_count": 128,
   "metadata": {},
   "outputs": [
    {
     "data": {
      "text/plain": [
       "254"
      ]
     },
     "execution_count": 128,
     "metadata": {},
     "output_type": "execute_result"
    }
   ],
   "source": [
    "len(noNanM2[noNanM2 > 20000])"
   ]
  },
  {
   "cell_type": "code",
   "execution_count": 126,
   "metadata": {},
   "outputs": [
    {
     "data": {
      "text/plain": [
       "0.9861693438606044"
      ]
     },
     "execution_count": 126,
     "metadata": {},
     "output_type": "execute_result"
    }
   ],
   "source": [
    "len(noNanM2[(noNanM2 > 0) & (noNanM2 < 20000)])/len(noNanM2[(noNanM2 > 0)])"
   ]
  },
  {
   "cell_type": "code",
   "execution_count": 127,
   "metadata": {},
   "outputs": [
    {
     "data": {
      "text/plain": [
       "count    7.770200e+04\n",
       "mean     9.773153e+02\n",
       "std      1.921691e+04\n",
       "min     -9.758000e+01\n",
       "25%      0.000000e+00\n",
       "50%      0.000000e+00\n",
       "75%      1.127375e+02\n",
       "max      4.382090e+06\n",
       "Name: M2, dtype: float64"
      ]
     },
     "execution_count": 127,
     "metadata": {},
     "output_type": "execute_result"
    }
   ],
   "source": [
    "df['M2'].describe()"
   ]
  },
  {
   "cell_type": "code",
   "execution_count": 145,
   "metadata": {},
   "outputs": [
    {
     "data": {
      "text/plain": [
       "22173"
      ]
     },
     "execution_count": 145,
     "metadata": {},
     "output_type": "execute_result"
    }
   ],
   "source": [
    "len(noNanM2[(noNanM2>0) & (noNanM2 < 50000)])"
   ]
  },
  {
   "cell_type": "code",
   "execution_count": 146,
   "metadata": {},
   "outputs": [
    {
     "data": {
      "text/plain": [
       "count    2.370800e+04\n",
       "mean     3.203111e+03\n",
       "std      3.468771e+04\n",
       "min     -9.758000e+01\n",
       "25%      1.907150e+02\n",
       "50%      7.567950e+02\n",
       "75%      2.419962e+03\n",
       "max      4.382090e+06\n",
       "Name: M2, dtype: float64"
      ]
     },
     "execution_count": 146,
     "metadata": {},
     "output_type": "execute_result"
    }
   ],
   "source": [
    "noNanM2.describe()"
   ]
  },
  {
   "cell_type": "code",
   "execution_count": 154,
   "metadata": {},
   "outputs": [
    {
     "data": {
      "text/plain": [
       "5"
      ]
     },
     "execution_count": 154,
     "metadata": {},
     "output_type": "execute_result"
    }
   ],
   "source": [
    "len(noNanM2[noNanM2 > 500000])"
   ]
  },
  {
   "cell_type": "code",
   "execution_count": 157,
   "metadata": {},
   "outputs": [
    {
     "data": {
      "text/plain": [
       "50848      200936.08\n",
       "83203      218546.11\n",
       "124150     220459.89\n",
       "61668      236300.86\n",
       "8483       242364.88\n",
       "97318      263286.27\n",
       "55128      267915.68\n",
       "55296      287099.66\n",
       "97319      295731.74\n",
       "9900       305212.85\n",
       "19357      332376.94\n",
       "8757       358017.33\n",
       "68199      372135.15\n",
       "4782       379493.61\n",
       "68200      434074.64\n",
       "67967      500053.48\n",
       "49416      530885.18\n",
       "133901    1265318.35\n",
       "52942     2105618.66\n",
       "10197     4382090.06\n",
       "Name: M2, dtype: float64"
      ]
     },
     "execution_count": 157,
     "metadata": {},
     "output_type": "execute_result"
    }
   ],
   "source": [
    "df[df.M2 > 200000]['M2'].sort_values()"
   ]
  },
  {
   "cell_type": "code",
   "execution_count": 160,
   "metadata": {},
   "outputs": [
    {
     "data": {
      "text/html": [
       "<div>\n",
       "<style>\n",
       "    .dataframe thead tr:only-child th {\n",
       "        text-align: right;\n",
       "    }\n",
       "\n",
       "    .dataframe thead th {\n",
       "        text-align: left;\n",
       "    }\n",
       "\n",
       "    .dataframe tbody tr th {\n",
       "        vertical-align: top;\n",
       "    }\n",
       "</style>\n",
       "<table border=\"1\" class=\"dataframe\">\n",
       "  <thead>\n",
       "    <tr style=\"text-align: right;\">\n",
       "      <th></th>\n",
       "      <th>M1</th>\n",
       "      <th>M2</th>\n",
       "    </tr>\n",
       "  </thead>\n",
       "  <tbody>\n",
       "    <tr>\n",
       "      <th>999</th>\n",
       "      <td>525261.18</td>\n",
       "      <td>0.00</td>\n",
       "    </tr>\n",
       "    <tr>\n",
       "      <th>2015</th>\n",
       "      <td>516259.12</td>\n",
       "      <td>169047.99</td>\n",
       "    </tr>\n",
       "    <tr>\n",
       "      <th>8757</th>\n",
       "      <td>684445.47</td>\n",
       "      <td>358017.33</td>\n",
       "    </tr>\n",
       "    <tr>\n",
       "      <th>9900</th>\n",
       "      <td>306477.81</td>\n",
       "      <td>305212.85</td>\n",
       "    </tr>\n",
       "    <tr>\n",
       "      <th>10197</th>\n",
       "      <td>1565603.86</td>\n",
       "      <td>4382090.06</td>\n",
       "    </tr>\n",
       "    <tr>\n",
       "      <th>12121</th>\n",
       "      <td>489490.59</td>\n",
       "      <td>3889.31</td>\n",
       "    </tr>\n",
       "    <tr>\n",
       "      <th>19357</th>\n",
       "      <td>500482.23</td>\n",
       "      <td>332376.94</td>\n",
       "    </tr>\n",
       "    <tr>\n",
       "      <th>22891</th>\n",
       "      <td>261490.26</td>\n",
       "      <td>84799.82</td>\n",
       "    </tr>\n",
       "    <tr>\n",
       "      <th>49416</th>\n",
       "      <td>394042.33</td>\n",
       "      <td>530885.18</td>\n",
       "    </tr>\n",
       "    <tr>\n",
       "      <th>52942</th>\n",
       "      <td>968178.31</td>\n",
       "      <td>2105618.66</td>\n",
       "    </tr>\n",
       "    <tr>\n",
       "      <th>67967</th>\n",
       "      <td>355174.24</td>\n",
       "      <td>500053.48</td>\n",
       "    </tr>\n",
       "    <tr>\n",
       "      <th>68199</th>\n",
       "      <td>286534.79</td>\n",
       "      <td>372135.15</td>\n",
       "    </tr>\n",
       "    <tr>\n",
       "      <th>68200</th>\n",
       "      <td>680624.46</td>\n",
       "      <td>434074.64</td>\n",
       "    </tr>\n",
       "    <tr>\n",
       "      <th>68202</th>\n",
       "      <td>239244.50</td>\n",
       "      <td>78093.17</td>\n",
       "    </tr>\n",
       "    <tr>\n",
       "      <th>77920</th>\n",
       "      <td>278538.60</td>\n",
       "      <td>82315.45</td>\n",
       "    </tr>\n",
       "    <tr>\n",
       "      <th>83203</th>\n",
       "      <td>381644.77</td>\n",
       "      <td>218546.11</td>\n",
       "    </tr>\n",
       "    <tr>\n",
       "      <th>95898</th>\n",
       "      <td>485376.20</td>\n",
       "      <td>7821.81</td>\n",
       "    </tr>\n",
       "    <tr>\n",
       "      <th>97318</th>\n",
       "      <td>234929.80</td>\n",
       "      <td>263286.27</td>\n",
       "    </tr>\n",
       "  </tbody>\n",
       "</table>\n",
       "</div>"
      ],
      "text/plain": [
       "               M1          M2\n",
       "999     525261.18        0.00\n",
       "2015    516259.12   169047.99\n",
       "8757    684445.47   358017.33\n",
       "9900    306477.81   305212.85\n",
       "10197  1565603.86  4382090.06\n",
       "12121   489490.59     3889.31\n",
       "19357   500482.23   332376.94\n",
       "22891   261490.26    84799.82\n",
       "49416   394042.33   530885.18\n",
       "52942   968178.31  2105618.66\n",
       "67967   355174.24   500053.48\n",
       "68199   286534.79   372135.15\n",
       "68200   680624.46   434074.64\n",
       "68202   239244.50    78093.17\n",
       "77920   278538.60    82315.45\n",
       "83203   381644.77   218546.11\n",
       "95898   485376.20     7821.81\n",
       "97318   234929.80   263286.27"
      ]
     },
     "execution_count": 160,
     "metadata": {},
     "output_type": "execute_result"
    }
   ],
   "source": [
    "df[df.M1 > 200000][['M1', 'M2']]"
   ]
  },
  {
   "cell_type": "markdown",
   "metadata": {},
   "source": [
    "### Filter out customers having M2 > 200000"
   ]
  },
  {
   "cell_type": "code",
   "execution_count": 207,
   "metadata": {
    "collapsed": true
   },
   "outputs": [],
   "source": [
    "df2 = df[df.M2 <= 200000]"
   ]
  },
  {
   "cell_type": "code",
   "execution_count": 208,
   "metadata": {},
   "outputs": [
    {
     "data": {
      "text/plain": [
       "77682"
      ]
     },
     "execution_count": 208,
     "metadata": {},
     "output_type": "execute_result"
    }
   ],
   "source": [
    "len(df2)\n",
    "#len(df)"
   ]
  },
  {
   "cell_type": "code",
   "execution_count": 167,
   "metadata": {},
   "outputs": [
    {
     "data": {
      "text/html": [
       "<div>\n",
       "<style>\n",
       "    .dataframe thead tr:only-child th {\n",
       "        text-align: right;\n",
       "    }\n",
       "\n",
       "    .dataframe thead th {\n",
       "        text-align: left;\n",
       "    }\n",
       "\n",
       "    .dataframe tbody tr th {\n",
       "        vertical-align: top;\n",
       "    }\n",
       "</style>\n",
       "<table border=\"1\" class=\"dataframe\">\n",
       "  <thead>\n",
       "    <tr style=\"text-align: right;\">\n",
       "      <th></th>\n",
       "      <th>CUSTOMER_ID</th>\n",
       "      <th>CUSTOMER_BRANCH</th>\n",
       "      <th>ATLAS_CUSTOMER_MAINCODE_FORDUPLICATE</th>\n",
       "      <th>ACCOUNT_TYPE</th>\n",
       "      <th>LIFECYCLESTAGE</th>\n",
       "      <th>COMMERCIAL_STAGE</th>\n",
       "      <th>ATLAS_STATUS</th>\n",
       "      <th>CUSTOMER_TYPE</th>\n",
       "      <th>CUSTOMER_SUBTYPE</th>\n",
       "      <th>COMMERCIAL_MANAGEMENT</th>\n",
       "      <th>...</th>\n",
       "      <th>R1Adj</th>\n",
       "      <th>R2Adj</th>\n",
       "      <th>Activated_Activities_2014 - 09</th>\n",
       "      <th>Activated_Carhire_2014 - 09</th>\n",
       "      <th>Activated_Hotel_2014 - 09</th>\n",
       "      <th>Activated_Transfers_2014 - 09</th>\n",
       "      <th>Activated_Activities_2015 - 09</th>\n",
       "      <th>Activated_Carhire_2015 - 09</th>\n",
       "      <th>Activated_Hotel_2015 - 09</th>\n",
       "      <th>Activated_Transfers_2015 - 09</th>\n",
       "    </tr>\n",
       "  </thead>\n",
       "  <tbody>\n",
       "    <tr>\n",
       "      <th>8</th>\n",
       "      <td>9</td>\n",
       "      <td>1</td>\n",
       "      <td>-9999</td>\n",
       "      <td>MAIN ACCOUNT</td>\n",
       "      <td>3.EXISTING CUSTOMER</td>\n",
       "      <td>SELLING</td>\n",
       "      <td>ACTIVE</td>\n",
       "      <td>TOUR OPERATOR</td>\n",
       "      <td>INDEPENDENT</td>\n",
       "      <td>NaN</td>\n",
       "      <td>...</td>\n",
       "      <td>0.0</td>\n",
       "      <td>0.0</td>\n",
       "      <td>1</td>\n",
       "      <td>1</td>\n",
       "      <td>1</td>\n",
       "      <td>1</td>\n",
       "      <td>1</td>\n",
       "      <td>1</td>\n",
       "      <td>1</td>\n",
       "      <td>1</td>\n",
       "    </tr>\n",
       "    <tr>\n",
       "      <th>693</th>\n",
       "      <td>19</td>\n",
       "      <td>1</td>\n",
       "      <td>31652</td>\n",
       "      <td>DUPLICATE BRANCH</td>\n",
       "      <td>3.EXISTING CUSTOMER</td>\n",
       "      <td>NaN</td>\n",
       "      <td>ACTIVE</td>\n",
       "      <td>TRAVEL AGENCY</td>\n",
       "      <td>FRANCHISE/OWN BRANCHES</td>\n",
       "      <td>NaN</td>\n",
       "      <td>...</td>\n",
       "      <td>137.0</td>\n",
       "      <td>149.0</td>\n",
       "      <td>0</td>\n",
       "      <td>0</td>\n",
       "      <td>1</td>\n",
       "      <td>1</td>\n",
       "      <td>0</td>\n",
       "      <td>0</td>\n",
       "      <td>1</td>\n",
       "      <td>1</td>\n",
       "    </tr>\n",
       "    <tr>\n",
       "      <th>700</th>\n",
       "      <td>27</td>\n",
       "      <td>1</td>\n",
       "      <td>-9999</td>\n",
       "      <td>MAIN ACCOUNT</td>\n",
       "      <td>3.EXISTING CUSTOMER</td>\n",
       "      <td>SELLING</td>\n",
       "      <td>ACTIVE</td>\n",
       "      <td>OTHER TRAVEL COMPANY</td>\n",
       "      <td>DMC</td>\n",
       "      <td>NaN</td>\n",
       "      <td>...</td>\n",
       "      <td>0.0</td>\n",
       "      <td>0.0</td>\n",
       "      <td>1</td>\n",
       "      <td>1</td>\n",
       "      <td>1</td>\n",
       "      <td>1</td>\n",
       "      <td>1</td>\n",
       "      <td>1</td>\n",
       "      <td>1</td>\n",
       "      <td>1</td>\n",
       "    </tr>\n",
       "    <tr>\n",
       "      <th>701</th>\n",
       "      <td>28</td>\n",
       "      <td>1</td>\n",
       "      <td>-9999</td>\n",
       "      <td>MAIN ACCOUNT</td>\n",
       "      <td>3.EXISTING CUSTOMER</td>\n",
       "      <td>NaN</td>\n",
       "      <td>ACTIVE</td>\n",
       "      <td>NaN</td>\n",
       "      <td>NaN</td>\n",
       "      <td>NaN</td>\n",
       "      <td>...</td>\n",
       "      <td>130.0</td>\n",
       "      <td>142.0</td>\n",
       "      <td>0</td>\n",
       "      <td>0</td>\n",
       "      <td>1</td>\n",
       "      <td>1</td>\n",
       "      <td>0</td>\n",
       "      <td>0</td>\n",
       "      <td>1</td>\n",
       "      <td>1</td>\n",
       "    </tr>\n",
       "    <tr>\n",
       "      <th>703</th>\n",
       "      <td>30</td>\n",
       "      <td>1</td>\n",
       "      <td>192</td>\n",
       "      <td>DUPLICATE ACCOUNT</td>\n",
       "      <td>3.EXISTING CUSTOMER</td>\n",
       "      <td>NaN</td>\n",
       "      <td>ACTIVE</td>\n",
       "      <td>TOUR OPERATOR</td>\n",
       "      <td>MAINSTREAM</td>\n",
       "      <td>NaN</td>\n",
       "      <td>...</td>\n",
       "      <td>126.0</td>\n",
       "      <td>138.0</td>\n",
       "      <td>1</td>\n",
       "      <td>0</td>\n",
       "      <td>1</td>\n",
       "      <td>1</td>\n",
       "      <td>1</td>\n",
       "      <td>0</td>\n",
       "      <td>1</td>\n",
       "      <td>1</td>\n",
       "    </tr>\n",
       "  </tbody>\n",
       "</table>\n",
       "<p>5 rows × 896 columns</p>\n",
       "</div>"
      ],
      "text/plain": [
       "     CUSTOMER_ID  CUSTOMER_BRANCH  ATLAS_CUSTOMER_MAINCODE_FORDUPLICATE  \\\n",
       "8              9                1                                 -9999   \n",
       "693           19                1                                 31652   \n",
       "700           27                1                                 -9999   \n",
       "701           28                1                                 -9999   \n",
       "703           30                1                                   192   \n",
       "\n",
       "          ACCOUNT_TYPE       LIFECYCLESTAGE COMMERCIAL_STAGE ATLAS_STATUS  \\\n",
       "8         MAIN ACCOUNT  3.EXISTING CUSTOMER          SELLING       ACTIVE   \n",
       "693   DUPLICATE BRANCH  3.EXISTING CUSTOMER              NaN       ACTIVE   \n",
       "700       MAIN ACCOUNT  3.EXISTING CUSTOMER          SELLING       ACTIVE   \n",
       "701       MAIN ACCOUNT  3.EXISTING CUSTOMER              NaN       ACTIVE   \n",
       "703  DUPLICATE ACCOUNT  3.EXISTING CUSTOMER              NaN       ACTIVE   \n",
       "\n",
       "            CUSTOMER_TYPE        CUSTOMER_SUBTYPE COMMERCIAL_MANAGEMENT  \\\n",
       "8           TOUR OPERATOR             INDEPENDENT                   NaN   \n",
       "693         TRAVEL AGENCY  FRANCHISE/OWN BRANCHES                   NaN   \n",
       "700  OTHER TRAVEL COMPANY                     DMC                   NaN   \n",
       "701                   NaN                     NaN                   NaN   \n",
       "703         TOUR OPERATOR              MAINSTREAM                   NaN   \n",
       "\n",
       "                 ...               R1Adj  R2Adj  \\\n",
       "8                ...                 0.0    0.0   \n",
       "693              ...               137.0  149.0   \n",
       "700              ...                 0.0    0.0   \n",
       "701              ...               130.0  142.0   \n",
       "703              ...               126.0  138.0   \n",
       "\n",
       "    Activated_Activities_2014 - 09 Activated_Carhire_2014 - 09  \\\n",
       "8                                1                           1   \n",
       "693                              0                           0   \n",
       "700                              1                           1   \n",
       "701                              0                           0   \n",
       "703                              1                           0   \n",
       "\n",
       "    Activated_Hotel_2014 - 09 Activated_Transfers_2014 - 09  \\\n",
       "8                           1                             1   \n",
       "693                         1                             1   \n",
       "700                         1                             1   \n",
       "701                         1                             1   \n",
       "703                         1                             1   \n",
       "\n",
       "    Activated_Activities_2015 - 09 Activated_Carhire_2015 - 09  \\\n",
       "8                                1                           1   \n",
       "693                              0                           0   \n",
       "700                              1                           1   \n",
       "701                              0                           0   \n",
       "703                              1                           0   \n",
       "\n",
       "    Activated_Hotel_2015 - 09 Activated_Transfers_2015 - 09  \n",
       "8                           1                             1  \n",
       "693                         1                             1  \n",
       "700                         1                             1  \n",
       "701                         1                             1  \n",
       "703                         1                             1  \n",
       "\n",
       "[5 rows x 896 columns]"
      ]
     },
     "execution_count": 167,
     "metadata": {},
     "output_type": "execute_result"
    }
   ],
   "source": [
    "df2.head()"
   ]
  },
  {
   "cell_type": "code",
   "execution_count": 299,
   "metadata": {
    "collapsed": true
   },
   "outputs": [],
   "source": [
    "df2 = df[['R1', 'R2', 'F1', 'F2', 'M1', 'M2', 'S1', 'S2']]"
   ]
  },
  {
   "cell_type": "code",
   "execution_count": 173,
   "metadata": {},
   "outputs": [
    {
     "data": {
      "text/html": [
       "<div>\n",
       "<style>\n",
       "    .dataframe thead tr:only-child th {\n",
       "        text-align: right;\n",
       "    }\n",
       "\n",
       "    .dataframe thead th {\n",
       "        text-align: left;\n",
       "    }\n",
       "\n",
       "    .dataframe tbody tr th {\n",
       "        vertical-align: top;\n",
       "    }\n",
       "</style>\n",
       "<table border=\"1\" class=\"dataframe\">\n",
       "  <thead>\n",
       "    <tr style=\"text-align: right;\">\n",
       "      <th></th>\n",
       "      <th>R1</th>\n",
       "      <th>R2</th>\n",
       "      <th>F1</th>\n",
       "      <th>F2</th>\n",
       "      <th>M1</th>\n",
       "      <th>M2</th>\n",
       "      <th>S1</th>\n",
       "      <th>S2</th>\n",
       "    </tr>\n",
       "  </thead>\n",
       "  <tbody>\n",
       "    <tr>\n",
       "      <th>8</th>\n",
       "      <td>0</td>\n",
       "      <td>0</td>\n",
       "      <td>10</td>\n",
       "      <td>10</td>\n",
       "      <td>2142.09</td>\n",
       "      <td>1987.87</td>\n",
       "      <td>138.0</td>\n",
       "      <td>150.0</td>\n",
       "    </tr>\n",
       "    <tr>\n",
       "      <th>693</th>\n",
       "      <td>12</td>\n",
       "      <td>12</td>\n",
       "      <td>0</td>\n",
       "      <td>0</td>\n",
       "      <td>0.00</td>\n",
       "      <td>0.00</td>\n",
       "      <td>137.0</td>\n",
       "      <td>149.0</td>\n",
       "    </tr>\n",
       "    <tr>\n",
       "      <th>700</th>\n",
       "      <td>0</td>\n",
       "      <td>0</td>\n",
       "      <td>9</td>\n",
       "      <td>12</td>\n",
       "      <td>1979.10</td>\n",
       "      <td>3456.89</td>\n",
       "      <td>89.0</td>\n",
       "      <td>101.0</td>\n",
       "    </tr>\n",
       "    <tr>\n",
       "      <th>701</th>\n",
       "      <td>12</td>\n",
       "      <td>12</td>\n",
       "      <td>0</td>\n",
       "      <td>0</td>\n",
       "      <td>0.00</td>\n",
       "      <td>0.00</td>\n",
       "      <td>130.0</td>\n",
       "      <td>142.0</td>\n",
       "    </tr>\n",
       "    <tr>\n",
       "      <th>703</th>\n",
       "      <td>12</td>\n",
       "      <td>12</td>\n",
       "      <td>0</td>\n",
       "      <td>0</td>\n",
       "      <td>0.00</td>\n",
       "      <td>0.00</td>\n",
       "      <td>126.0</td>\n",
       "      <td>138.0</td>\n",
       "    </tr>\n",
       "  </tbody>\n",
       "</table>\n",
       "</div>"
      ],
      "text/plain": [
       "     R1  R2  F1  F2       M1       M2     S1     S2\n",
       "8     0   0  10  10  2142.09  1987.87  138.0  150.0\n",
       "693  12  12   0   0     0.00     0.00  137.0  149.0\n",
       "700   0   0   9  12  1979.10  3456.89   89.0  101.0\n",
       "701  12  12   0   0     0.00     0.00  130.0  142.0\n",
       "703  12  12   0   0     0.00     0.00  126.0  138.0"
      ]
     },
     "execution_count": 173,
     "metadata": {},
     "output_type": "execute_result"
    }
   ],
   "source": [
    "df2.head()"
   ]
  },
  {
   "cell_type": "code",
   "execution_count": 212,
   "metadata": {},
   "outputs": [
    {
     "data": {
      "text/plain": [
       "12    53994\n",
       "0     11456\n",
       "1      3829\n",
       "2      2358\n",
       "3      1473\n",
       "4      1028\n",
       "5       820\n",
       "6       767\n",
       "7       516\n",
       "8       449\n",
       "11      373\n",
       "9       333\n",
       "10      286\n",
       "Name: R2, dtype: int64"
      ]
     },
     "execution_count": 212,
     "metadata": {},
     "output_type": "execute_result"
    }
   ],
   "source": [
    "df2.R2.value_counts()"
   ]
  },
  {
   "cell_type": "code",
   "execution_count": 300,
   "metadata": {
    "collapsed": true
   },
   "outputs": [],
   "source": [
    "df2.to_csv('RFM.csv')"
   ]
  },
  {
   "cell_type": "code",
   "execution_count": null,
   "metadata": {
    "collapsed": true
   },
   "outputs": [],
   "source": []
  }
 ],
 "metadata": {
  "kernelspec": {
   "display_name": "Python 3",
   "language": "python",
   "name": "python3"
  },
  "language_info": {
   "codemirror_mode": {
    "name": "ipython",
    "version": 3
   },
   "file_extension": ".py",
   "mimetype": "text/x-python",
   "name": "python",
   "nbconvert_exporter": "python",
   "pygments_lexer": "ipython3",
   "version": "3.5.3"
  }
 },
 "nbformat": 4,
 "nbformat_minor": 2
}
